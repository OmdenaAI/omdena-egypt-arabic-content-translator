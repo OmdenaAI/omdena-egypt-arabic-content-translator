{
  "nbformat": 4,
  "nbformat_minor": 0,
  "metadata": {
    "colab": {
      "name": "mt5-fine-tuning-hamza.ipynb",
      "provenance": [],
      "collapsed_sections": []
    },
    "kernelspec": {
      "name": "python3",
      "display_name": "Python 3"
    },
    "language_info": {
      "name": "python"
    },
    "widgets": {
      "application/vnd.jupyter.widget-state+json": {
        "f10790d65635441aae1da34a6873dd96": {
          "model_module": "@jupyter-widgets/controls",
          "model_name": "HBoxModel",
          "model_module_version": "1.5.0",
          "state": {
            "_view_name": "HBoxView",
            "_dom_classes": [],
            "_model_name": "HBoxModel",
            "_view_module": "@jupyter-widgets/controls",
            "_model_module_version": "1.5.0",
            "_view_count": null,
            "_view_module_version": "1.5.0",
            "box_style": "",
            "layout": "IPY_MODEL_f36bbe099fbf4b1ab7d3ac23b6189a77",
            "_model_module": "@jupyter-widgets/controls",
            "children": [
              "IPY_MODEL_e248281767954a709ddb46d4f69ef096",
              "IPY_MODEL_9d936383966045c187bd785909d98632",
              "IPY_MODEL_7a5040831df94356a0f13b8e3473cfd0"
            ]
          }
        },
        "f36bbe099fbf4b1ab7d3ac23b6189a77": {
          "model_module": "@jupyter-widgets/base",
          "model_name": "LayoutModel",
          "model_module_version": "1.2.0",
          "state": {
            "_view_name": "LayoutView",
            "grid_template_rows": null,
            "right": null,
            "justify_content": null,
            "_view_module": "@jupyter-widgets/base",
            "overflow": null,
            "_model_module_version": "1.2.0",
            "_view_count": null,
            "flex_flow": null,
            "width": null,
            "min_width": null,
            "border": null,
            "align_items": null,
            "bottom": null,
            "_model_module": "@jupyter-widgets/base",
            "top": null,
            "grid_column": null,
            "overflow_y": null,
            "overflow_x": null,
            "grid_auto_flow": null,
            "grid_area": null,
            "grid_template_columns": null,
            "flex": null,
            "_model_name": "LayoutModel",
            "justify_items": null,
            "grid_row": null,
            "max_height": null,
            "align_content": null,
            "visibility": null,
            "align_self": null,
            "height": null,
            "min_height": null,
            "padding": null,
            "grid_auto_rows": null,
            "grid_gap": null,
            "max_width": null,
            "order": null,
            "_view_module_version": "1.2.0",
            "grid_template_areas": null,
            "object_position": null,
            "object_fit": null,
            "grid_auto_columns": null,
            "margin": null,
            "display": null,
            "left": null
          }
        },
        "e248281767954a709ddb46d4f69ef096": {
          "model_module": "@jupyter-widgets/controls",
          "model_name": "HTMLModel",
          "model_module_version": "1.5.0",
          "state": {
            "_view_name": "HTMLView",
            "style": "IPY_MODEL_8b65ff481ec64093bbb7a7d70f5b1f12",
            "_dom_classes": [],
            "description": "",
            "_model_name": "HTMLModel",
            "placeholder": "​",
            "_view_module": "@jupyter-widgets/controls",
            "_model_module_version": "1.5.0",
            "value": "Downloading: ",
            "_view_count": null,
            "_view_module_version": "1.5.0",
            "description_tooltip": null,
            "_model_module": "@jupyter-widgets/controls",
            "layout": "IPY_MODEL_3992d2a0fbc0440aa4ac67d0585da037"
          }
        },
        "9d936383966045c187bd785909d98632": {
          "model_module": "@jupyter-widgets/controls",
          "model_name": "FloatProgressModel",
          "model_module_version": "1.5.0",
          "state": {
            "_view_name": "ProgressView",
            "style": "IPY_MODEL_2ac51dcb26164ba782cf0ed0486961dc",
            "_dom_classes": [],
            "description": "",
            "_model_name": "FloatProgressModel",
            "bar_style": "success",
            "max": 2366,
            "_view_module": "@jupyter-widgets/controls",
            "_model_module_version": "1.5.0",
            "value": 2366,
            "_view_count": null,
            "_view_module_version": "1.5.0",
            "orientation": "horizontal",
            "min": 0,
            "description_tooltip": null,
            "_model_module": "@jupyter-widgets/controls",
            "layout": "IPY_MODEL_6e12e9eb058f424598f0abcc542930ac"
          }
        },
        "7a5040831df94356a0f13b8e3473cfd0": {
          "model_module": "@jupyter-widgets/controls",
          "model_name": "HTMLModel",
          "model_module_version": "1.5.0",
          "state": {
            "_view_name": "HTMLView",
            "style": "IPY_MODEL_3177d5d8c5244b72b7bed662aaca17a7",
            "_dom_classes": [],
            "description": "",
            "_model_name": "HTMLModel",
            "placeholder": "​",
            "_view_module": "@jupyter-widgets/controls",
            "_model_module_version": "1.5.0",
            "value": " 5.67k/? [00:00&lt;00:00, 80.8kB/s]",
            "_view_count": null,
            "_view_module_version": "1.5.0",
            "description_tooltip": null,
            "_model_module": "@jupyter-widgets/controls",
            "layout": "IPY_MODEL_cf08535968ef476d908037076a42b58d"
          }
        },
        "8b65ff481ec64093bbb7a7d70f5b1f12": {
          "model_module": "@jupyter-widgets/controls",
          "model_name": "DescriptionStyleModel",
          "model_module_version": "1.5.0",
          "state": {
            "_view_name": "StyleView",
            "_model_name": "DescriptionStyleModel",
            "description_width": "",
            "_view_module": "@jupyter-widgets/base",
            "_model_module_version": "1.5.0",
            "_view_count": null,
            "_view_module_version": "1.2.0",
            "_model_module": "@jupyter-widgets/controls"
          }
        },
        "3992d2a0fbc0440aa4ac67d0585da037": {
          "model_module": "@jupyter-widgets/base",
          "model_name": "LayoutModel",
          "model_module_version": "1.2.0",
          "state": {
            "_view_name": "LayoutView",
            "grid_template_rows": null,
            "right": null,
            "justify_content": null,
            "_view_module": "@jupyter-widgets/base",
            "overflow": null,
            "_model_module_version": "1.2.0",
            "_view_count": null,
            "flex_flow": null,
            "width": null,
            "min_width": null,
            "border": null,
            "align_items": null,
            "bottom": null,
            "_model_module": "@jupyter-widgets/base",
            "top": null,
            "grid_column": null,
            "overflow_y": null,
            "overflow_x": null,
            "grid_auto_flow": null,
            "grid_area": null,
            "grid_template_columns": null,
            "flex": null,
            "_model_name": "LayoutModel",
            "justify_items": null,
            "grid_row": null,
            "max_height": null,
            "align_content": null,
            "visibility": null,
            "align_self": null,
            "height": null,
            "min_height": null,
            "padding": null,
            "grid_auto_rows": null,
            "grid_gap": null,
            "max_width": null,
            "order": null,
            "_view_module_version": "1.2.0",
            "grid_template_areas": null,
            "object_position": null,
            "object_fit": null,
            "grid_auto_columns": null,
            "margin": null,
            "display": null,
            "left": null
          }
        },
        "2ac51dcb26164ba782cf0ed0486961dc": {
          "model_module": "@jupyter-widgets/controls",
          "model_name": "ProgressStyleModel",
          "model_module_version": "1.5.0",
          "state": {
            "_view_name": "StyleView",
            "_model_name": "ProgressStyleModel",
            "description_width": "",
            "_view_module": "@jupyter-widgets/base",
            "_model_module_version": "1.5.0",
            "_view_count": null,
            "_view_module_version": "1.2.0",
            "bar_color": null,
            "_model_module": "@jupyter-widgets/controls"
          }
        },
        "6e12e9eb058f424598f0abcc542930ac": {
          "model_module": "@jupyter-widgets/base",
          "model_name": "LayoutModel",
          "model_module_version": "1.2.0",
          "state": {
            "_view_name": "LayoutView",
            "grid_template_rows": null,
            "right": null,
            "justify_content": null,
            "_view_module": "@jupyter-widgets/base",
            "overflow": null,
            "_model_module_version": "1.2.0",
            "_view_count": null,
            "flex_flow": null,
            "width": null,
            "min_width": null,
            "border": null,
            "align_items": null,
            "bottom": null,
            "_model_module": "@jupyter-widgets/base",
            "top": null,
            "grid_column": null,
            "overflow_y": null,
            "overflow_x": null,
            "grid_auto_flow": null,
            "grid_area": null,
            "grid_template_columns": null,
            "flex": null,
            "_model_name": "LayoutModel",
            "justify_items": null,
            "grid_row": null,
            "max_height": null,
            "align_content": null,
            "visibility": null,
            "align_self": null,
            "height": null,
            "min_height": null,
            "padding": null,
            "grid_auto_rows": null,
            "grid_gap": null,
            "max_width": null,
            "order": null,
            "_view_module_version": "1.2.0",
            "grid_template_areas": null,
            "object_position": null,
            "object_fit": null,
            "grid_auto_columns": null,
            "margin": null,
            "display": null,
            "left": null
          }
        },
        "3177d5d8c5244b72b7bed662aaca17a7": {
          "model_module": "@jupyter-widgets/controls",
          "model_name": "DescriptionStyleModel",
          "model_module_version": "1.5.0",
          "state": {
            "_view_name": "StyleView",
            "_model_name": "DescriptionStyleModel",
            "description_width": "",
            "_view_module": "@jupyter-widgets/base",
            "_model_module_version": "1.5.0",
            "_view_count": null,
            "_view_module_version": "1.2.0",
            "_model_module": "@jupyter-widgets/controls"
          }
        },
        "cf08535968ef476d908037076a42b58d": {
          "model_module": "@jupyter-widgets/base",
          "model_name": "LayoutModel",
          "model_module_version": "1.2.0",
          "state": {
            "_view_name": "LayoutView",
            "grid_template_rows": null,
            "right": null,
            "justify_content": null,
            "_view_module": "@jupyter-widgets/base",
            "overflow": null,
            "_model_module_version": "1.2.0",
            "_view_count": null,
            "flex_flow": null,
            "width": null,
            "min_width": null,
            "border": null,
            "align_items": null,
            "bottom": null,
            "_model_module": "@jupyter-widgets/base",
            "top": null,
            "grid_column": null,
            "overflow_y": null,
            "overflow_x": null,
            "grid_auto_flow": null,
            "grid_area": null,
            "grid_template_columns": null,
            "flex": null,
            "_model_name": "LayoutModel",
            "justify_items": null,
            "grid_row": null,
            "max_height": null,
            "align_content": null,
            "visibility": null,
            "align_self": null,
            "height": null,
            "min_height": null,
            "padding": null,
            "grid_auto_rows": null,
            "grid_gap": null,
            "max_width": null,
            "order": null,
            "_view_module_version": "1.2.0",
            "grid_template_areas": null,
            "object_position": null,
            "object_fit": null,
            "grid_auto_columns": null,
            "margin": null,
            "display": null,
            "left": null
          }
        },
        "e8cbf59e50684c21b1bd651efdf3edf7": {
          "model_module": "@jupyter-widgets/controls",
          "model_name": "HBoxModel",
          "model_module_version": "1.5.0",
          "state": {
            "_view_name": "HBoxView",
            "_dom_classes": [],
            "_model_name": "HBoxModel",
            "_view_module": "@jupyter-widgets/controls",
            "_model_module_version": "1.5.0",
            "_view_count": null,
            "_view_module_version": "1.5.0",
            "box_style": "",
            "layout": "IPY_MODEL_55fc2e157b9942979349e69c0bf452aa",
            "_model_module": "@jupyter-widgets/controls",
            "children": [
              "IPY_MODEL_b0e3316b4b1c45489c07e3be482fbdd1",
              "IPY_MODEL_8136d3d574344326aef942455882bd65",
              "IPY_MODEL_4f85eddbdec3437ca204c187c9cff87b"
            ]
          }
        },
        "55fc2e157b9942979349e69c0bf452aa": {
          "model_module": "@jupyter-widgets/base",
          "model_name": "LayoutModel",
          "model_module_version": "1.2.0",
          "state": {
            "_view_name": "LayoutView",
            "grid_template_rows": null,
            "right": null,
            "justify_content": null,
            "_view_module": "@jupyter-widgets/base",
            "overflow": null,
            "_model_module_version": "1.2.0",
            "_view_count": null,
            "flex_flow": null,
            "width": null,
            "min_width": null,
            "border": null,
            "align_items": null,
            "bottom": null,
            "_model_module": "@jupyter-widgets/base",
            "top": null,
            "grid_column": null,
            "overflow_y": null,
            "overflow_x": null,
            "grid_auto_flow": null,
            "grid_area": null,
            "grid_template_columns": null,
            "flex": null,
            "_model_name": "LayoutModel",
            "justify_items": null,
            "grid_row": null,
            "max_height": null,
            "align_content": null,
            "visibility": null,
            "align_self": null,
            "height": null,
            "min_height": null,
            "padding": null,
            "grid_auto_rows": null,
            "grid_gap": null,
            "max_width": null,
            "order": null,
            "_view_module_version": "1.2.0",
            "grid_template_areas": null,
            "object_position": null,
            "object_fit": null,
            "grid_auto_columns": null,
            "margin": null,
            "display": null,
            "left": null
          }
        },
        "b0e3316b4b1c45489c07e3be482fbdd1": {
          "model_module": "@jupyter-widgets/controls",
          "model_name": "HTMLModel",
          "model_module_version": "1.5.0",
          "state": {
            "_view_name": "HTMLView",
            "style": "IPY_MODEL_635ad1aad2c444729d71d1662c1e5731",
            "_dom_classes": [],
            "description": "",
            "_model_name": "HTMLModel",
            "placeholder": "​",
            "_view_module": "@jupyter-widgets/controls",
            "_model_module_version": "1.5.0",
            "value": "100%",
            "_view_count": null,
            "_view_module_version": "1.5.0",
            "description_tooltip": null,
            "_model_module": "@jupyter-widgets/controls",
            "layout": "IPY_MODEL_3de0881c5b764979877f6103b0c7fc2a"
          }
        },
        "8136d3d574344326aef942455882bd65": {
          "model_module": "@jupyter-widgets/controls",
          "model_name": "FloatProgressModel",
          "model_module_version": "1.5.0",
          "state": {
            "_view_name": "ProgressView",
            "style": "IPY_MODEL_7976f33f2ca246fe942ad5c4db9eba77",
            "_dom_classes": [],
            "description": "",
            "_model_name": "FloatProgressModel",
            "bar_style": "success",
            "max": 1,
            "_view_module": "@jupyter-widgets/controls",
            "_model_module_version": "1.5.0",
            "value": 1,
            "_view_count": null,
            "_view_module_version": "1.5.0",
            "orientation": "horizontal",
            "min": 0,
            "description_tooltip": null,
            "_model_module": "@jupyter-widgets/controls",
            "layout": "IPY_MODEL_14875490d2074bc1b00acd81a89d4176"
          }
        },
        "4f85eddbdec3437ca204c187c9cff87b": {
          "model_module": "@jupyter-widgets/controls",
          "model_name": "HTMLModel",
          "model_module_version": "1.5.0",
          "state": {
            "_view_name": "HTMLView",
            "style": "IPY_MODEL_a1728cc8f110416d9ef51570034cc421",
            "_dom_classes": [],
            "description": "",
            "_model_name": "HTMLModel",
            "placeholder": "​",
            "_view_module": "@jupyter-widgets/controls",
            "_model_module_version": "1.5.0",
            "value": " 1/1 [00:00&lt;00:00, 13.97it/s]",
            "_view_count": null,
            "_view_module_version": "1.5.0",
            "description_tooltip": null,
            "_model_module": "@jupyter-widgets/controls",
            "layout": "IPY_MODEL_68ba97d021094da991fca4686f82157d"
          }
        },
        "635ad1aad2c444729d71d1662c1e5731": {
          "model_module": "@jupyter-widgets/controls",
          "model_name": "DescriptionStyleModel",
          "model_module_version": "1.5.0",
          "state": {
            "_view_name": "StyleView",
            "_model_name": "DescriptionStyleModel",
            "description_width": "",
            "_view_module": "@jupyter-widgets/base",
            "_model_module_version": "1.5.0",
            "_view_count": null,
            "_view_module_version": "1.2.0",
            "_model_module": "@jupyter-widgets/controls"
          }
        },
        "3de0881c5b764979877f6103b0c7fc2a": {
          "model_module": "@jupyter-widgets/base",
          "model_name": "LayoutModel",
          "model_module_version": "1.2.0",
          "state": {
            "_view_name": "LayoutView",
            "grid_template_rows": null,
            "right": null,
            "justify_content": null,
            "_view_module": "@jupyter-widgets/base",
            "overflow": null,
            "_model_module_version": "1.2.0",
            "_view_count": null,
            "flex_flow": null,
            "width": null,
            "min_width": null,
            "border": null,
            "align_items": null,
            "bottom": null,
            "_model_module": "@jupyter-widgets/base",
            "top": null,
            "grid_column": null,
            "overflow_y": null,
            "overflow_x": null,
            "grid_auto_flow": null,
            "grid_area": null,
            "grid_template_columns": null,
            "flex": null,
            "_model_name": "LayoutModel",
            "justify_items": null,
            "grid_row": null,
            "max_height": null,
            "align_content": null,
            "visibility": null,
            "align_self": null,
            "height": null,
            "min_height": null,
            "padding": null,
            "grid_auto_rows": null,
            "grid_gap": null,
            "max_width": null,
            "order": null,
            "_view_module_version": "1.2.0",
            "grid_template_areas": null,
            "object_position": null,
            "object_fit": null,
            "grid_auto_columns": null,
            "margin": null,
            "display": null,
            "left": null
          }
        },
        "7976f33f2ca246fe942ad5c4db9eba77": {
          "model_module": "@jupyter-widgets/controls",
          "model_name": "ProgressStyleModel",
          "model_module_version": "1.5.0",
          "state": {
            "_view_name": "StyleView",
            "_model_name": "ProgressStyleModel",
            "description_width": "",
            "_view_module": "@jupyter-widgets/base",
            "_model_module_version": "1.5.0",
            "_view_count": null,
            "_view_module_version": "1.2.0",
            "bar_color": null,
            "_model_module": "@jupyter-widgets/controls"
          }
        },
        "14875490d2074bc1b00acd81a89d4176": {
          "model_module": "@jupyter-widgets/base",
          "model_name": "LayoutModel",
          "model_module_version": "1.2.0",
          "state": {
            "_view_name": "LayoutView",
            "grid_template_rows": null,
            "right": null,
            "justify_content": null,
            "_view_module": "@jupyter-widgets/base",
            "overflow": null,
            "_model_module_version": "1.2.0",
            "_view_count": null,
            "flex_flow": null,
            "width": null,
            "min_width": null,
            "border": null,
            "align_items": null,
            "bottom": null,
            "_model_module": "@jupyter-widgets/base",
            "top": null,
            "grid_column": null,
            "overflow_y": null,
            "overflow_x": null,
            "grid_auto_flow": null,
            "grid_area": null,
            "grid_template_columns": null,
            "flex": null,
            "_model_name": "LayoutModel",
            "justify_items": null,
            "grid_row": null,
            "max_height": null,
            "align_content": null,
            "visibility": null,
            "align_self": null,
            "height": null,
            "min_height": null,
            "padding": null,
            "grid_auto_rows": null,
            "grid_gap": null,
            "max_width": null,
            "order": null,
            "_view_module_version": "1.2.0",
            "grid_template_areas": null,
            "object_position": null,
            "object_fit": null,
            "grid_auto_columns": null,
            "margin": null,
            "display": null,
            "left": null
          }
        },
        "a1728cc8f110416d9ef51570034cc421": {
          "model_module": "@jupyter-widgets/controls",
          "model_name": "DescriptionStyleModel",
          "model_module_version": "1.5.0",
          "state": {
            "_view_name": "StyleView",
            "_model_name": "DescriptionStyleModel",
            "description_width": "",
            "_view_module": "@jupyter-widgets/base",
            "_model_module_version": "1.5.0",
            "_view_count": null,
            "_view_module_version": "1.2.0",
            "_model_module": "@jupyter-widgets/controls"
          }
        },
        "68ba97d021094da991fca4686f82157d": {
          "model_module": "@jupyter-widgets/base",
          "model_name": "LayoutModel",
          "model_module_version": "1.2.0",
          "state": {
            "_view_name": "LayoutView",
            "grid_template_rows": null,
            "right": null,
            "justify_content": null,
            "_view_module": "@jupyter-widgets/base",
            "overflow": null,
            "_model_module_version": "1.2.0",
            "_view_count": null,
            "flex_flow": null,
            "width": null,
            "min_width": null,
            "border": null,
            "align_items": null,
            "bottom": null,
            "_model_module": "@jupyter-widgets/base",
            "top": null,
            "grid_column": null,
            "overflow_y": null,
            "overflow_x": null,
            "grid_auto_flow": null,
            "grid_area": null,
            "grid_template_columns": null,
            "flex": null,
            "_model_name": "LayoutModel",
            "justify_items": null,
            "grid_row": null,
            "max_height": null,
            "align_content": null,
            "visibility": null,
            "align_self": null,
            "height": null,
            "min_height": null,
            "padding": null,
            "grid_auto_rows": null,
            "grid_gap": null,
            "max_width": null,
            "order": null,
            "_view_module_version": "1.2.0",
            "grid_template_areas": null,
            "object_position": null,
            "object_fit": null,
            "grid_auto_columns": null,
            "margin": null,
            "display": null,
            "left": null
          }
        },
        "0e0fb07a1ae2401dbb25206f19c268cf": {
          "model_module": "@jupyter-widgets/controls",
          "model_name": "HBoxModel",
          "model_module_version": "1.5.0",
          "state": {
            "_view_name": "HBoxView",
            "_dom_classes": [],
            "_model_name": "HBoxModel",
            "_view_module": "@jupyter-widgets/controls",
            "_model_module_version": "1.5.0",
            "_view_count": null,
            "_view_module_version": "1.5.0",
            "box_style": "",
            "layout": "IPY_MODEL_075745e93925460aad319da70a2cb330",
            "_model_module": "@jupyter-widgets/controls",
            "children": [
              "IPY_MODEL_8067ac37b2824761adbaff19bdf12056",
              "IPY_MODEL_e8886060df884e029e1b42927b76b8a8",
              "IPY_MODEL_87a73b6307c141afa927d2ad0c6e37c2"
            ]
          }
        },
        "075745e93925460aad319da70a2cb330": {
          "model_module": "@jupyter-widgets/base",
          "model_name": "LayoutModel",
          "model_module_version": "1.2.0",
          "state": {
            "_view_name": "LayoutView",
            "grid_template_rows": null,
            "right": null,
            "justify_content": null,
            "_view_module": "@jupyter-widgets/base",
            "overflow": null,
            "_model_module_version": "1.2.0",
            "_view_count": null,
            "flex_flow": null,
            "width": null,
            "min_width": null,
            "border": null,
            "align_items": null,
            "bottom": null,
            "_model_module": "@jupyter-widgets/base",
            "top": null,
            "grid_column": null,
            "overflow_y": null,
            "overflow_x": null,
            "grid_auto_flow": null,
            "grid_area": null,
            "grid_template_columns": null,
            "flex": null,
            "_model_name": "LayoutModel",
            "justify_items": null,
            "grid_row": null,
            "max_height": null,
            "align_content": null,
            "visibility": null,
            "align_self": null,
            "height": null,
            "min_height": null,
            "padding": null,
            "grid_auto_rows": null,
            "grid_gap": null,
            "max_width": null,
            "order": null,
            "_view_module_version": "1.2.0",
            "grid_template_areas": null,
            "object_position": null,
            "object_fit": null,
            "grid_auto_columns": null,
            "margin": null,
            "display": null,
            "left": null
          }
        },
        "8067ac37b2824761adbaff19bdf12056": {
          "model_module": "@jupyter-widgets/controls",
          "model_name": "HTMLModel",
          "model_module_version": "1.5.0",
          "state": {
            "_view_name": "HTMLView",
            "style": "IPY_MODEL_9b73136bd9be4356b34773cd506cab2a",
            "_dom_classes": [],
            "description": "",
            "_model_name": "HTMLModel",
            "placeholder": "​",
            "_view_module": "@jupyter-widgets/controls",
            "_model_module_version": "1.5.0",
            "value": "100%",
            "_view_count": null,
            "_view_module_version": "1.5.0",
            "description_tooltip": null,
            "_model_module": "@jupyter-widgets/controls",
            "layout": "IPY_MODEL_5768c0f428f64e0cab2cc80515e893e9"
          }
        },
        "e8886060df884e029e1b42927b76b8a8": {
          "model_module": "@jupyter-widgets/controls",
          "model_name": "FloatProgressModel",
          "model_module_version": "1.5.0",
          "state": {
            "_view_name": "ProgressView",
            "style": "IPY_MODEL_21e1c10424a848a082433cd8e83a76ec",
            "_dom_classes": [],
            "description": "",
            "_model_name": "FloatProgressModel",
            "bar_style": "success",
            "max": 1,
            "_view_module": "@jupyter-widgets/controls",
            "_model_module_version": "1.5.0",
            "value": 1,
            "_view_count": null,
            "_view_module_version": "1.5.0",
            "orientation": "horizontal",
            "min": 0,
            "description_tooltip": null,
            "_model_module": "@jupyter-widgets/controls",
            "layout": "IPY_MODEL_5a45abbb100645ef8218b91152bd2069"
          }
        },
        "87a73b6307c141afa927d2ad0c6e37c2": {
          "model_module": "@jupyter-widgets/controls",
          "model_name": "HTMLModel",
          "model_module_version": "1.5.0",
          "state": {
            "_view_name": "HTMLView",
            "style": "IPY_MODEL_f00df8df0cb34aa08ea6f5a3f99c09e1",
            "_dom_classes": [],
            "description": "",
            "_model_name": "HTMLModel",
            "placeholder": "​",
            "_view_module": "@jupyter-widgets/controls",
            "_model_module_version": "1.5.0",
            "value": " 1/1 [00:00&lt;00:00, 27.64it/s]",
            "_view_count": null,
            "_view_module_version": "1.5.0",
            "description_tooltip": null,
            "_model_module": "@jupyter-widgets/controls",
            "layout": "IPY_MODEL_eb788b76996d4c4dbb58e22801a24c6f"
          }
        },
        "9b73136bd9be4356b34773cd506cab2a": {
          "model_module": "@jupyter-widgets/controls",
          "model_name": "DescriptionStyleModel",
          "model_module_version": "1.5.0",
          "state": {
            "_view_name": "StyleView",
            "_model_name": "DescriptionStyleModel",
            "description_width": "",
            "_view_module": "@jupyter-widgets/base",
            "_model_module_version": "1.5.0",
            "_view_count": null,
            "_view_module_version": "1.2.0",
            "_model_module": "@jupyter-widgets/controls"
          }
        },
        "5768c0f428f64e0cab2cc80515e893e9": {
          "model_module": "@jupyter-widgets/base",
          "model_name": "LayoutModel",
          "model_module_version": "1.2.0",
          "state": {
            "_view_name": "LayoutView",
            "grid_template_rows": null,
            "right": null,
            "justify_content": null,
            "_view_module": "@jupyter-widgets/base",
            "overflow": null,
            "_model_module_version": "1.2.0",
            "_view_count": null,
            "flex_flow": null,
            "width": null,
            "min_width": null,
            "border": null,
            "align_items": null,
            "bottom": null,
            "_model_module": "@jupyter-widgets/base",
            "top": null,
            "grid_column": null,
            "overflow_y": null,
            "overflow_x": null,
            "grid_auto_flow": null,
            "grid_area": null,
            "grid_template_columns": null,
            "flex": null,
            "_model_name": "LayoutModel",
            "justify_items": null,
            "grid_row": null,
            "max_height": null,
            "align_content": null,
            "visibility": null,
            "align_self": null,
            "height": null,
            "min_height": null,
            "padding": null,
            "grid_auto_rows": null,
            "grid_gap": null,
            "max_width": null,
            "order": null,
            "_view_module_version": "1.2.0",
            "grid_template_areas": null,
            "object_position": null,
            "object_fit": null,
            "grid_auto_columns": null,
            "margin": null,
            "display": null,
            "left": null
          }
        },
        "21e1c10424a848a082433cd8e83a76ec": {
          "model_module": "@jupyter-widgets/controls",
          "model_name": "ProgressStyleModel",
          "model_module_version": "1.5.0",
          "state": {
            "_view_name": "StyleView",
            "_model_name": "ProgressStyleModel",
            "description_width": "",
            "_view_module": "@jupyter-widgets/base",
            "_model_module_version": "1.5.0",
            "_view_count": null,
            "_view_module_version": "1.2.0",
            "bar_color": null,
            "_model_module": "@jupyter-widgets/controls"
          }
        },
        "5a45abbb100645ef8218b91152bd2069": {
          "model_module": "@jupyter-widgets/base",
          "model_name": "LayoutModel",
          "model_module_version": "1.2.0",
          "state": {
            "_view_name": "LayoutView",
            "grid_template_rows": null,
            "right": null,
            "justify_content": null,
            "_view_module": "@jupyter-widgets/base",
            "overflow": null,
            "_model_module_version": "1.2.0",
            "_view_count": null,
            "flex_flow": null,
            "width": null,
            "min_width": null,
            "border": null,
            "align_items": null,
            "bottom": null,
            "_model_module": "@jupyter-widgets/base",
            "top": null,
            "grid_column": null,
            "overflow_y": null,
            "overflow_x": null,
            "grid_auto_flow": null,
            "grid_area": null,
            "grid_template_columns": null,
            "flex": null,
            "_model_name": "LayoutModel",
            "justify_items": null,
            "grid_row": null,
            "max_height": null,
            "align_content": null,
            "visibility": null,
            "align_self": null,
            "height": null,
            "min_height": null,
            "padding": null,
            "grid_auto_rows": null,
            "grid_gap": null,
            "max_width": null,
            "order": null,
            "_view_module_version": "1.2.0",
            "grid_template_areas": null,
            "object_position": null,
            "object_fit": null,
            "grid_auto_columns": null,
            "margin": null,
            "display": null,
            "left": null
          }
        },
        "f00df8df0cb34aa08ea6f5a3f99c09e1": {
          "model_module": "@jupyter-widgets/controls",
          "model_name": "DescriptionStyleModel",
          "model_module_version": "1.5.0",
          "state": {
            "_view_name": "StyleView",
            "_model_name": "DescriptionStyleModel",
            "description_width": "",
            "_view_module": "@jupyter-widgets/base",
            "_model_module_version": "1.5.0",
            "_view_count": null,
            "_view_module_version": "1.2.0",
            "_model_module": "@jupyter-widgets/controls"
          }
        },
        "eb788b76996d4c4dbb58e22801a24c6f": {
          "model_module": "@jupyter-widgets/base",
          "model_name": "LayoutModel",
          "model_module_version": "1.2.0",
          "state": {
            "_view_name": "LayoutView",
            "grid_template_rows": null,
            "right": null,
            "justify_content": null,
            "_view_module": "@jupyter-widgets/base",
            "overflow": null,
            "_model_module_version": "1.2.0",
            "_view_count": null,
            "flex_flow": null,
            "width": null,
            "min_width": null,
            "border": null,
            "align_items": null,
            "bottom": null,
            "_model_module": "@jupyter-widgets/base",
            "top": null,
            "grid_column": null,
            "overflow_y": null,
            "overflow_x": null,
            "grid_auto_flow": null,
            "grid_area": null,
            "grid_template_columns": null,
            "flex": null,
            "_model_name": "LayoutModel",
            "justify_items": null,
            "grid_row": null,
            "max_height": null,
            "align_content": null,
            "visibility": null,
            "align_self": null,
            "height": null,
            "min_height": null,
            "padding": null,
            "grid_auto_rows": null,
            "grid_gap": null,
            "max_width": null,
            "order": null,
            "_view_module_version": "1.2.0",
            "grid_template_areas": null,
            "object_position": null,
            "object_fit": null,
            "grid_auto_columns": null,
            "margin": null,
            "display": null,
            "left": null
          }
        },
        "61e3ca7c1f8e4e678e94e3ab3261e5a5": {
          "model_module": "@jupyter-widgets/controls",
          "model_name": "HBoxModel",
          "model_module_version": "1.5.0",
          "state": {
            "_view_name": "HBoxView",
            "_dom_classes": [],
            "_model_name": "HBoxModel",
            "_view_module": "@jupyter-widgets/controls",
            "_model_module_version": "1.5.0",
            "_view_count": null,
            "_view_module_version": "1.5.0",
            "box_style": "",
            "layout": "IPY_MODEL_e463f0d5628d4e108de6c755f534a0a5",
            "_model_module": "@jupyter-widgets/controls",
            "children": [
              "IPY_MODEL_5936f1c8c0814ad3bcec38c4b346ad1b",
              "IPY_MODEL_cb8b6a1e381d4509abd1b2306c6d75e1",
              "IPY_MODEL_6839d2296dcb4cae9f8d822d02e0b9ae"
            ]
          }
        },
        "e463f0d5628d4e108de6c755f534a0a5": {
          "model_module": "@jupyter-widgets/base",
          "model_name": "LayoutModel",
          "model_module_version": "1.2.0",
          "state": {
            "_view_name": "LayoutView",
            "grid_template_rows": null,
            "right": null,
            "justify_content": null,
            "_view_module": "@jupyter-widgets/base",
            "overflow": null,
            "_model_module_version": "1.2.0",
            "_view_count": null,
            "flex_flow": null,
            "width": null,
            "min_width": null,
            "border": null,
            "align_items": null,
            "bottom": null,
            "_model_module": "@jupyter-widgets/base",
            "top": null,
            "grid_column": null,
            "overflow_y": null,
            "overflow_x": null,
            "grid_auto_flow": null,
            "grid_area": null,
            "grid_template_columns": null,
            "flex": null,
            "_model_name": "LayoutModel",
            "justify_items": null,
            "grid_row": null,
            "max_height": null,
            "align_content": null,
            "visibility": null,
            "align_self": null,
            "height": null,
            "min_height": null,
            "padding": null,
            "grid_auto_rows": null,
            "grid_gap": null,
            "max_width": null,
            "order": null,
            "_view_module_version": "1.2.0",
            "grid_template_areas": null,
            "object_position": null,
            "object_fit": null,
            "grid_auto_columns": null,
            "margin": null,
            "display": null,
            "left": null
          }
        },
        "5936f1c8c0814ad3bcec38c4b346ad1b": {
          "model_module": "@jupyter-widgets/controls",
          "model_name": "HTMLModel",
          "model_module_version": "1.5.0",
          "state": {
            "_view_name": "HTMLView",
            "style": "IPY_MODEL_34738dc330614e1aa95914594133d47e",
            "_dom_classes": [],
            "description": "",
            "_model_name": "HTMLModel",
            "placeholder": "​",
            "_view_module": "@jupyter-widgets/controls",
            "_model_module_version": "1.5.0",
            "value": "100%",
            "_view_count": null,
            "_view_module_version": "1.5.0",
            "description_tooltip": null,
            "_model_module": "@jupyter-widgets/controls",
            "layout": "IPY_MODEL_35ca4b7c5a4543979f2c2af9f637b007"
          }
        },
        "cb8b6a1e381d4509abd1b2306c6d75e1": {
          "model_module": "@jupyter-widgets/controls",
          "model_name": "FloatProgressModel",
          "model_module_version": "1.5.0",
          "state": {
            "_view_name": "ProgressView",
            "style": "IPY_MODEL_42a0442acca94f22ab594a492585c97a",
            "_dom_classes": [],
            "description": "",
            "_model_name": "FloatProgressModel",
            "bar_style": "success",
            "max": 1,
            "_view_module": "@jupyter-widgets/controls",
            "_model_module_version": "1.5.0",
            "value": 1,
            "_view_count": null,
            "_view_module_version": "1.5.0",
            "orientation": "horizontal",
            "min": 0,
            "description_tooltip": null,
            "_model_module": "@jupyter-widgets/controls",
            "layout": "IPY_MODEL_a51156dad6ef4d70946d3344b3413898"
          }
        },
        "6839d2296dcb4cae9f8d822d02e0b9ae": {
          "model_module": "@jupyter-widgets/controls",
          "model_name": "HTMLModel",
          "model_module_version": "1.5.0",
          "state": {
            "_view_name": "HTMLView",
            "style": "IPY_MODEL_8db1c354072b4e68b33cb85ac3473088",
            "_dom_classes": [],
            "description": "",
            "_model_name": "HTMLModel",
            "placeholder": "​",
            "_view_module": "@jupyter-widgets/controls",
            "_model_module_version": "1.5.0",
            "value": " 1/1 [00:00&lt;00:00, 21.98it/s]",
            "_view_count": null,
            "_view_module_version": "1.5.0",
            "description_tooltip": null,
            "_model_module": "@jupyter-widgets/controls",
            "layout": "IPY_MODEL_d073aea6d1fe42e38f616aaea8e91bd9"
          }
        },
        "34738dc330614e1aa95914594133d47e": {
          "model_module": "@jupyter-widgets/controls",
          "model_name": "DescriptionStyleModel",
          "model_module_version": "1.5.0",
          "state": {
            "_view_name": "StyleView",
            "_model_name": "DescriptionStyleModel",
            "description_width": "",
            "_view_module": "@jupyter-widgets/base",
            "_model_module_version": "1.5.0",
            "_view_count": null,
            "_view_module_version": "1.2.0",
            "_model_module": "@jupyter-widgets/controls"
          }
        },
        "35ca4b7c5a4543979f2c2af9f637b007": {
          "model_module": "@jupyter-widgets/base",
          "model_name": "LayoutModel",
          "model_module_version": "1.2.0",
          "state": {
            "_view_name": "LayoutView",
            "grid_template_rows": null,
            "right": null,
            "justify_content": null,
            "_view_module": "@jupyter-widgets/base",
            "overflow": null,
            "_model_module_version": "1.2.0",
            "_view_count": null,
            "flex_flow": null,
            "width": null,
            "min_width": null,
            "border": null,
            "align_items": null,
            "bottom": null,
            "_model_module": "@jupyter-widgets/base",
            "top": null,
            "grid_column": null,
            "overflow_y": null,
            "overflow_x": null,
            "grid_auto_flow": null,
            "grid_area": null,
            "grid_template_columns": null,
            "flex": null,
            "_model_name": "LayoutModel",
            "justify_items": null,
            "grid_row": null,
            "max_height": null,
            "align_content": null,
            "visibility": null,
            "align_self": null,
            "height": null,
            "min_height": null,
            "padding": null,
            "grid_auto_rows": null,
            "grid_gap": null,
            "max_width": null,
            "order": null,
            "_view_module_version": "1.2.0",
            "grid_template_areas": null,
            "object_position": null,
            "object_fit": null,
            "grid_auto_columns": null,
            "margin": null,
            "display": null,
            "left": null
          }
        },
        "42a0442acca94f22ab594a492585c97a": {
          "model_module": "@jupyter-widgets/controls",
          "model_name": "ProgressStyleModel",
          "model_module_version": "1.5.0",
          "state": {
            "_view_name": "StyleView",
            "_model_name": "ProgressStyleModel",
            "description_width": "",
            "_view_module": "@jupyter-widgets/base",
            "_model_module_version": "1.5.0",
            "_view_count": null,
            "_view_module_version": "1.2.0",
            "bar_color": null,
            "_model_module": "@jupyter-widgets/controls"
          }
        },
        "a51156dad6ef4d70946d3344b3413898": {
          "model_module": "@jupyter-widgets/base",
          "model_name": "LayoutModel",
          "model_module_version": "1.2.0",
          "state": {
            "_view_name": "LayoutView",
            "grid_template_rows": null,
            "right": null,
            "justify_content": null,
            "_view_module": "@jupyter-widgets/base",
            "overflow": null,
            "_model_module_version": "1.2.0",
            "_view_count": null,
            "flex_flow": null,
            "width": null,
            "min_width": null,
            "border": null,
            "align_items": null,
            "bottom": null,
            "_model_module": "@jupyter-widgets/base",
            "top": null,
            "grid_column": null,
            "overflow_y": null,
            "overflow_x": null,
            "grid_auto_flow": null,
            "grid_area": null,
            "grid_template_columns": null,
            "flex": null,
            "_model_name": "LayoutModel",
            "justify_items": null,
            "grid_row": null,
            "max_height": null,
            "align_content": null,
            "visibility": null,
            "align_self": null,
            "height": null,
            "min_height": null,
            "padding": null,
            "grid_auto_rows": null,
            "grid_gap": null,
            "max_width": null,
            "order": null,
            "_view_module_version": "1.2.0",
            "grid_template_areas": null,
            "object_position": null,
            "object_fit": null,
            "grid_auto_columns": null,
            "margin": null,
            "display": null,
            "left": null
          }
        },
        "8db1c354072b4e68b33cb85ac3473088": {
          "model_module": "@jupyter-widgets/controls",
          "model_name": "DescriptionStyleModel",
          "model_module_version": "1.5.0",
          "state": {
            "_view_name": "StyleView",
            "_model_name": "DescriptionStyleModel",
            "description_width": "",
            "_view_module": "@jupyter-widgets/base",
            "_model_module_version": "1.5.0",
            "_view_count": null,
            "_view_module_version": "1.2.0",
            "_model_module": "@jupyter-widgets/controls"
          }
        },
        "d073aea6d1fe42e38f616aaea8e91bd9": {
          "model_module": "@jupyter-widgets/base",
          "model_name": "LayoutModel",
          "model_module_version": "1.2.0",
          "state": {
            "_view_name": "LayoutView",
            "grid_template_rows": null,
            "right": null,
            "justify_content": null,
            "_view_module": "@jupyter-widgets/base",
            "overflow": null,
            "_model_module_version": "1.2.0",
            "_view_count": null,
            "flex_flow": null,
            "width": null,
            "min_width": null,
            "border": null,
            "align_items": null,
            "bottom": null,
            "_model_module": "@jupyter-widgets/base",
            "top": null,
            "grid_column": null,
            "overflow_y": null,
            "overflow_x": null,
            "grid_auto_flow": null,
            "grid_area": null,
            "grid_template_columns": null,
            "flex": null,
            "_model_name": "LayoutModel",
            "justify_items": null,
            "grid_row": null,
            "max_height": null,
            "align_content": null,
            "visibility": null,
            "align_self": null,
            "height": null,
            "min_height": null,
            "padding": null,
            "grid_auto_rows": null,
            "grid_gap": null,
            "max_width": null,
            "order": null,
            "_view_module_version": "1.2.0",
            "grid_template_areas": null,
            "object_position": null,
            "object_fit": null,
            "grid_auto_columns": null,
            "margin": null,
            "display": null,
            "left": null
          }
        },
        "4d77717970cb42d69c8f1f663880bc44": {
          "model_module": "@jupyter-widgets/controls",
          "model_name": "HBoxModel",
          "model_module_version": "1.5.0",
          "state": {
            "_view_name": "HBoxView",
            "_dom_classes": [],
            "_model_name": "HBoxModel",
            "_view_module": "@jupyter-widgets/controls",
            "_model_module_version": "1.5.0",
            "_view_count": null,
            "_view_module_version": "1.5.0",
            "box_style": "",
            "layout": "IPY_MODEL_ebd86414001845e3a29af7659fce9765",
            "_model_module": "@jupyter-widgets/controls",
            "children": [
              "IPY_MODEL_73b4ddc90d3a4dd4b05457be0e42379d",
              "IPY_MODEL_acb1468303b04c91b12cb18a8fea0145",
              "IPY_MODEL_d3b0621fb8394c7fbc498fa6b8486ea6"
            ]
          }
        },
        "ebd86414001845e3a29af7659fce9765": {
          "model_module": "@jupyter-widgets/base",
          "model_name": "LayoutModel",
          "model_module_version": "1.2.0",
          "state": {
            "_view_name": "LayoutView",
            "grid_template_rows": null,
            "right": null,
            "justify_content": null,
            "_view_module": "@jupyter-widgets/base",
            "overflow": null,
            "_model_module_version": "1.2.0",
            "_view_count": null,
            "flex_flow": null,
            "width": null,
            "min_width": null,
            "border": null,
            "align_items": null,
            "bottom": null,
            "_model_module": "@jupyter-widgets/base",
            "top": null,
            "grid_column": null,
            "overflow_y": null,
            "overflow_x": null,
            "grid_auto_flow": null,
            "grid_area": null,
            "grid_template_columns": null,
            "flex": null,
            "_model_name": "LayoutModel",
            "justify_items": null,
            "grid_row": null,
            "max_height": null,
            "align_content": null,
            "visibility": null,
            "align_self": null,
            "height": null,
            "min_height": null,
            "padding": null,
            "grid_auto_rows": null,
            "grid_gap": null,
            "max_width": null,
            "order": null,
            "_view_module_version": "1.2.0",
            "grid_template_areas": null,
            "object_position": null,
            "object_fit": null,
            "grid_auto_columns": null,
            "margin": null,
            "display": null,
            "left": null
          }
        },
        "73b4ddc90d3a4dd4b05457be0e42379d": {
          "model_module": "@jupyter-widgets/controls",
          "model_name": "HTMLModel",
          "model_module_version": "1.5.0",
          "state": {
            "_view_name": "HTMLView",
            "style": "IPY_MODEL_2d0bb5ef3abf4380a6b2dd59a21a5ea0",
            "_dom_classes": [],
            "description": "",
            "_model_name": "HTMLModel",
            "placeholder": "​",
            "_view_module": "@jupyter-widgets/controls",
            "_model_module_version": "1.5.0",
            "value": "100%",
            "_view_count": null,
            "_view_module_version": "1.5.0",
            "description_tooltip": null,
            "_model_module": "@jupyter-widgets/controls",
            "layout": "IPY_MODEL_17f03ace0f6d47a9a85ac4a6dfed8306"
          }
        },
        "acb1468303b04c91b12cb18a8fea0145": {
          "model_module": "@jupyter-widgets/controls",
          "model_name": "FloatProgressModel",
          "model_module_version": "1.5.0",
          "state": {
            "_view_name": "ProgressView",
            "style": "IPY_MODEL_6fd5e44c76ea42b893de231f05c06ffa",
            "_dom_classes": [],
            "description": "",
            "_model_name": "FloatProgressModel",
            "bar_style": "success",
            "max": 1,
            "_view_module": "@jupyter-widgets/controls",
            "_model_module_version": "1.5.0",
            "value": 1,
            "_view_count": null,
            "_view_module_version": "1.5.0",
            "orientation": "horizontal",
            "min": 0,
            "description_tooltip": null,
            "_model_module": "@jupyter-widgets/controls",
            "layout": "IPY_MODEL_56c51246b47f495f88d230b6636d9570"
          }
        },
        "d3b0621fb8394c7fbc498fa6b8486ea6": {
          "model_module": "@jupyter-widgets/controls",
          "model_name": "HTMLModel",
          "model_module_version": "1.5.0",
          "state": {
            "_view_name": "HTMLView",
            "style": "IPY_MODEL_fd52efe1c3754a2eacc979a45d9c2b39",
            "_dom_classes": [],
            "description": "",
            "_model_name": "HTMLModel",
            "placeholder": "​",
            "_view_module": "@jupyter-widgets/controls",
            "_model_module_version": "1.5.0",
            "value": " 1/1 [00:00&lt;00:00, 19.20it/s]",
            "_view_count": null,
            "_view_module_version": "1.5.0",
            "description_tooltip": null,
            "_model_module": "@jupyter-widgets/controls",
            "layout": "IPY_MODEL_1bcdb7e2066947f7bd81ab2d47426258"
          }
        },
        "2d0bb5ef3abf4380a6b2dd59a21a5ea0": {
          "model_module": "@jupyter-widgets/controls",
          "model_name": "DescriptionStyleModel",
          "model_module_version": "1.5.0",
          "state": {
            "_view_name": "StyleView",
            "_model_name": "DescriptionStyleModel",
            "description_width": "",
            "_view_module": "@jupyter-widgets/base",
            "_model_module_version": "1.5.0",
            "_view_count": null,
            "_view_module_version": "1.2.0",
            "_model_module": "@jupyter-widgets/controls"
          }
        },
        "17f03ace0f6d47a9a85ac4a6dfed8306": {
          "model_module": "@jupyter-widgets/base",
          "model_name": "LayoutModel",
          "model_module_version": "1.2.0",
          "state": {
            "_view_name": "LayoutView",
            "grid_template_rows": null,
            "right": null,
            "justify_content": null,
            "_view_module": "@jupyter-widgets/base",
            "overflow": null,
            "_model_module_version": "1.2.0",
            "_view_count": null,
            "flex_flow": null,
            "width": null,
            "min_width": null,
            "border": null,
            "align_items": null,
            "bottom": null,
            "_model_module": "@jupyter-widgets/base",
            "top": null,
            "grid_column": null,
            "overflow_y": null,
            "overflow_x": null,
            "grid_auto_flow": null,
            "grid_area": null,
            "grid_template_columns": null,
            "flex": null,
            "_model_name": "LayoutModel",
            "justify_items": null,
            "grid_row": null,
            "max_height": null,
            "align_content": null,
            "visibility": null,
            "align_self": null,
            "height": null,
            "min_height": null,
            "padding": null,
            "grid_auto_rows": null,
            "grid_gap": null,
            "max_width": null,
            "order": null,
            "_view_module_version": "1.2.0",
            "grid_template_areas": null,
            "object_position": null,
            "object_fit": null,
            "grid_auto_columns": null,
            "margin": null,
            "display": null,
            "left": null
          }
        },
        "6fd5e44c76ea42b893de231f05c06ffa": {
          "model_module": "@jupyter-widgets/controls",
          "model_name": "ProgressStyleModel",
          "model_module_version": "1.5.0",
          "state": {
            "_view_name": "StyleView",
            "_model_name": "ProgressStyleModel",
            "description_width": "",
            "_view_module": "@jupyter-widgets/base",
            "_model_module_version": "1.5.0",
            "_view_count": null,
            "_view_module_version": "1.2.0",
            "bar_color": null,
            "_model_module": "@jupyter-widgets/controls"
          }
        },
        "56c51246b47f495f88d230b6636d9570": {
          "model_module": "@jupyter-widgets/base",
          "model_name": "LayoutModel",
          "model_module_version": "1.2.0",
          "state": {
            "_view_name": "LayoutView",
            "grid_template_rows": null,
            "right": null,
            "justify_content": null,
            "_view_module": "@jupyter-widgets/base",
            "overflow": null,
            "_model_module_version": "1.2.0",
            "_view_count": null,
            "flex_flow": null,
            "width": null,
            "min_width": null,
            "border": null,
            "align_items": null,
            "bottom": null,
            "_model_module": "@jupyter-widgets/base",
            "top": null,
            "grid_column": null,
            "overflow_y": null,
            "overflow_x": null,
            "grid_auto_flow": null,
            "grid_area": null,
            "grid_template_columns": null,
            "flex": null,
            "_model_name": "LayoutModel",
            "justify_items": null,
            "grid_row": null,
            "max_height": null,
            "align_content": null,
            "visibility": null,
            "align_self": null,
            "height": null,
            "min_height": null,
            "padding": null,
            "grid_auto_rows": null,
            "grid_gap": null,
            "max_width": null,
            "order": null,
            "_view_module_version": "1.2.0",
            "grid_template_areas": null,
            "object_position": null,
            "object_fit": null,
            "grid_auto_columns": null,
            "margin": null,
            "display": null,
            "left": null
          }
        },
        "fd52efe1c3754a2eacc979a45d9c2b39": {
          "model_module": "@jupyter-widgets/controls",
          "model_name": "DescriptionStyleModel",
          "model_module_version": "1.5.0",
          "state": {
            "_view_name": "StyleView",
            "_model_name": "DescriptionStyleModel",
            "description_width": "",
            "_view_module": "@jupyter-widgets/base",
            "_model_module_version": "1.5.0",
            "_view_count": null,
            "_view_module_version": "1.2.0",
            "_model_module": "@jupyter-widgets/controls"
          }
        },
        "1bcdb7e2066947f7bd81ab2d47426258": {
          "model_module": "@jupyter-widgets/base",
          "model_name": "LayoutModel",
          "model_module_version": "1.2.0",
          "state": {
            "_view_name": "LayoutView",
            "grid_template_rows": null,
            "right": null,
            "justify_content": null,
            "_view_module": "@jupyter-widgets/base",
            "overflow": null,
            "_model_module_version": "1.2.0",
            "_view_count": null,
            "flex_flow": null,
            "width": null,
            "min_width": null,
            "border": null,
            "align_items": null,
            "bottom": null,
            "_model_module": "@jupyter-widgets/base",
            "top": null,
            "grid_column": null,
            "overflow_y": null,
            "overflow_x": null,
            "grid_auto_flow": null,
            "grid_area": null,
            "grid_template_columns": null,
            "flex": null,
            "_model_name": "LayoutModel",
            "justify_items": null,
            "grid_row": null,
            "max_height": null,
            "align_content": null,
            "visibility": null,
            "align_self": null,
            "height": null,
            "min_height": null,
            "padding": null,
            "grid_auto_rows": null,
            "grid_gap": null,
            "max_width": null,
            "order": null,
            "_view_module_version": "1.2.0",
            "grid_template_areas": null,
            "object_position": null,
            "object_fit": null,
            "grid_auto_columns": null,
            "margin": null,
            "display": null,
            "left": null
          }
        },
        "3df036f5fa60436e84205cbb62514f44": {
          "model_module": "@jupyter-widgets/controls",
          "model_name": "HBoxModel",
          "model_module_version": "1.5.0",
          "state": {
            "_view_name": "HBoxView",
            "_dom_classes": [],
            "_model_name": "HBoxModel",
            "_view_module": "@jupyter-widgets/controls",
            "_model_module_version": "1.5.0",
            "_view_count": null,
            "_view_module_version": "1.5.0",
            "box_style": "",
            "layout": "IPY_MODEL_dd2493fbec7446788044ef5971d7a6e1",
            "_model_module": "@jupyter-widgets/controls",
            "children": [
              "IPY_MODEL_f992b34ed8374fd1b4a409d4b7f8245e",
              "IPY_MODEL_da5007978bdc4902ab66b0cd58865f55",
              "IPY_MODEL_66148ce6508d4be08c3d2d81b49f9cc7"
            ]
          }
        },
        "dd2493fbec7446788044ef5971d7a6e1": {
          "model_module": "@jupyter-widgets/base",
          "model_name": "LayoutModel",
          "model_module_version": "1.2.0",
          "state": {
            "_view_name": "LayoutView",
            "grid_template_rows": null,
            "right": null,
            "justify_content": null,
            "_view_module": "@jupyter-widgets/base",
            "overflow": null,
            "_model_module_version": "1.2.0",
            "_view_count": null,
            "flex_flow": null,
            "width": null,
            "min_width": null,
            "border": null,
            "align_items": null,
            "bottom": null,
            "_model_module": "@jupyter-widgets/base",
            "top": null,
            "grid_column": null,
            "overflow_y": null,
            "overflow_x": null,
            "grid_auto_flow": null,
            "grid_area": null,
            "grid_template_columns": null,
            "flex": null,
            "_model_name": "LayoutModel",
            "justify_items": null,
            "grid_row": null,
            "max_height": null,
            "align_content": null,
            "visibility": null,
            "align_self": null,
            "height": null,
            "min_height": null,
            "padding": null,
            "grid_auto_rows": null,
            "grid_gap": null,
            "max_width": null,
            "order": null,
            "_view_module_version": "1.2.0",
            "grid_template_areas": null,
            "object_position": null,
            "object_fit": null,
            "grid_auto_columns": null,
            "margin": null,
            "display": null,
            "left": null
          }
        },
        "f992b34ed8374fd1b4a409d4b7f8245e": {
          "model_module": "@jupyter-widgets/controls",
          "model_name": "HTMLModel",
          "model_module_version": "1.5.0",
          "state": {
            "_view_name": "HTMLView",
            "style": "IPY_MODEL_f21fadc4e5c94baf9f19226ba2867428",
            "_dom_classes": [],
            "description": "",
            "_model_name": "HTMLModel",
            "placeholder": "​",
            "_view_module": "@jupyter-widgets/controls",
            "_model_module_version": "1.5.0",
            "value": "100%",
            "_view_count": null,
            "_view_module_version": "1.5.0",
            "description_tooltip": null,
            "_model_module": "@jupyter-widgets/controls",
            "layout": "IPY_MODEL_6e5e3a12c8d44b24bf73819a8d6c1635"
          }
        },
        "da5007978bdc4902ab66b0cd58865f55": {
          "model_module": "@jupyter-widgets/controls",
          "model_name": "FloatProgressModel",
          "model_module_version": "1.5.0",
          "state": {
            "_view_name": "ProgressView",
            "style": "IPY_MODEL_70af695756f54b4fa31b30391decb66a",
            "_dom_classes": [],
            "description": "",
            "_model_name": "FloatProgressModel",
            "bar_style": "success",
            "max": 1,
            "_view_module": "@jupyter-widgets/controls",
            "_model_module_version": "1.5.0",
            "value": 1,
            "_view_count": null,
            "_view_module_version": "1.5.0",
            "orientation": "horizontal",
            "min": 0,
            "description_tooltip": null,
            "_model_module": "@jupyter-widgets/controls",
            "layout": "IPY_MODEL_16bf8fe3b75f4ecab0d754456c967cbe"
          }
        },
        "66148ce6508d4be08c3d2d81b49f9cc7": {
          "model_module": "@jupyter-widgets/controls",
          "model_name": "HTMLModel",
          "model_module_version": "1.5.0",
          "state": {
            "_view_name": "HTMLView",
            "style": "IPY_MODEL_d8e3e247f981416cb072c23d9f8c57f1",
            "_dom_classes": [],
            "description": "",
            "_model_name": "HTMLModel",
            "placeholder": "​",
            "_view_module": "@jupyter-widgets/controls",
            "_model_module_version": "1.5.0",
            "value": " 1/1 [00:00&lt;00:00, 12.69it/s]",
            "_view_count": null,
            "_view_module_version": "1.5.0",
            "description_tooltip": null,
            "_model_module": "@jupyter-widgets/controls",
            "layout": "IPY_MODEL_8eb01b44f32d4f768309ab8088bd1b3e"
          }
        },
        "f21fadc4e5c94baf9f19226ba2867428": {
          "model_module": "@jupyter-widgets/controls",
          "model_name": "DescriptionStyleModel",
          "model_module_version": "1.5.0",
          "state": {
            "_view_name": "StyleView",
            "_model_name": "DescriptionStyleModel",
            "description_width": "",
            "_view_module": "@jupyter-widgets/base",
            "_model_module_version": "1.5.0",
            "_view_count": null,
            "_view_module_version": "1.2.0",
            "_model_module": "@jupyter-widgets/controls"
          }
        },
        "6e5e3a12c8d44b24bf73819a8d6c1635": {
          "model_module": "@jupyter-widgets/base",
          "model_name": "LayoutModel",
          "model_module_version": "1.2.0",
          "state": {
            "_view_name": "LayoutView",
            "grid_template_rows": null,
            "right": null,
            "justify_content": null,
            "_view_module": "@jupyter-widgets/base",
            "overflow": null,
            "_model_module_version": "1.2.0",
            "_view_count": null,
            "flex_flow": null,
            "width": null,
            "min_width": null,
            "border": null,
            "align_items": null,
            "bottom": null,
            "_model_module": "@jupyter-widgets/base",
            "top": null,
            "grid_column": null,
            "overflow_y": null,
            "overflow_x": null,
            "grid_auto_flow": null,
            "grid_area": null,
            "grid_template_columns": null,
            "flex": null,
            "_model_name": "LayoutModel",
            "justify_items": null,
            "grid_row": null,
            "max_height": null,
            "align_content": null,
            "visibility": null,
            "align_self": null,
            "height": null,
            "min_height": null,
            "padding": null,
            "grid_auto_rows": null,
            "grid_gap": null,
            "max_width": null,
            "order": null,
            "_view_module_version": "1.2.0",
            "grid_template_areas": null,
            "object_position": null,
            "object_fit": null,
            "grid_auto_columns": null,
            "margin": null,
            "display": null,
            "left": null
          }
        },
        "70af695756f54b4fa31b30391decb66a": {
          "model_module": "@jupyter-widgets/controls",
          "model_name": "ProgressStyleModel",
          "model_module_version": "1.5.0",
          "state": {
            "_view_name": "StyleView",
            "_model_name": "ProgressStyleModel",
            "description_width": "",
            "_view_module": "@jupyter-widgets/base",
            "_model_module_version": "1.5.0",
            "_view_count": null,
            "_view_module_version": "1.2.0",
            "bar_color": null,
            "_model_module": "@jupyter-widgets/controls"
          }
        },
        "16bf8fe3b75f4ecab0d754456c967cbe": {
          "model_module": "@jupyter-widgets/base",
          "model_name": "LayoutModel",
          "model_module_version": "1.2.0",
          "state": {
            "_view_name": "LayoutView",
            "grid_template_rows": null,
            "right": null,
            "justify_content": null,
            "_view_module": "@jupyter-widgets/base",
            "overflow": null,
            "_model_module_version": "1.2.0",
            "_view_count": null,
            "flex_flow": null,
            "width": null,
            "min_width": null,
            "border": null,
            "align_items": null,
            "bottom": null,
            "_model_module": "@jupyter-widgets/base",
            "top": null,
            "grid_column": null,
            "overflow_y": null,
            "overflow_x": null,
            "grid_auto_flow": null,
            "grid_area": null,
            "grid_template_columns": null,
            "flex": null,
            "_model_name": "LayoutModel",
            "justify_items": null,
            "grid_row": null,
            "max_height": null,
            "align_content": null,
            "visibility": null,
            "align_self": null,
            "height": null,
            "min_height": null,
            "padding": null,
            "grid_auto_rows": null,
            "grid_gap": null,
            "max_width": null,
            "order": null,
            "_view_module_version": "1.2.0",
            "grid_template_areas": null,
            "object_position": null,
            "object_fit": null,
            "grid_auto_columns": null,
            "margin": null,
            "display": null,
            "left": null
          }
        },
        "d8e3e247f981416cb072c23d9f8c57f1": {
          "model_module": "@jupyter-widgets/controls",
          "model_name": "DescriptionStyleModel",
          "model_module_version": "1.5.0",
          "state": {
            "_view_name": "StyleView",
            "_model_name": "DescriptionStyleModel",
            "description_width": "",
            "_view_module": "@jupyter-widgets/base",
            "_model_module_version": "1.5.0",
            "_view_count": null,
            "_view_module_version": "1.2.0",
            "_model_module": "@jupyter-widgets/controls"
          }
        },
        "8eb01b44f32d4f768309ab8088bd1b3e": {
          "model_module": "@jupyter-widgets/base",
          "model_name": "LayoutModel",
          "model_module_version": "1.2.0",
          "state": {
            "_view_name": "LayoutView",
            "grid_template_rows": null,
            "right": null,
            "justify_content": null,
            "_view_module": "@jupyter-widgets/base",
            "overflow": null,
            "_model_module_version": "1.2.0",
            "_view_count": null,
            "flex_flow": null,
            "width": null,
            "min_width": null,
            "border": null,
            "align_items": null,
            "bottom": null,
            "_model_module": "@jupyter-widgets/base",
            "top": null,
            "grid_column": null,
            "overflow_y": null,
            "overflow_x": null,
            "grid_auto_flow": null,
            "grid_area": null,
            "grid_template_columns": null,
            "flex": null,
            "_model_name": "LayoutModel",
            "justify_items": null,
            "grid_row": null,
            "max_height": null,
            "align_content": null,
            "visibility": null,
            "align_self": null,
            "height": null,
            "min_height": null,
            "padding": null,
            "grid_auto_rows": null,
            "grid_gap": null,
            "max_width": null,
            "order": null,
            "_view_module_version": "1.2.0",
            "grid_template_areas": null,
            "object_position": null,
            "object_fit": null,
            "grid_auto_columns": null,
            "margin": null,
            "display": null,
            "left": null
          }
        },
        "a82366b21d3a424fb4aef687ea1621ad": {
          "model_module": "@jupyter-widgets/controls",
          "model_name": "HBoxModel",
          "model_module_version": "1.5.0",
          "state": {
            "_view_name": "HBoxView",
            "_dom_classes": [],
            "_model_name": "HBoxModel",
            "_view_module": "@jupyter-widgets/controls",
            "_model_module_version": "1.5.0",
            "_view_count": null,
            "_view_module_version": "1.5.0",
            "box_style": "",
            "layout": "IPY_MODEL_92d4f8d1df154e31aed080a5768d09a1",
            "_model_module": "@jupyter-widgets/controls",
            "children": [
              "IPY_MODEL_2378aba17c664756b79f004d77ceb610",
              "IPY_MODEL_611eff0e4d4b4734a594f046f1d9e3ff",
              "IPY_MODEL_c167e4bd50be4ac1b538d31664edc0a1"
            ]
          }
        },
        "92d4f8d1df154e31aed080a5768d09a1": {
          "model_module": "@jupyter-widgets/base",
          "model_name": "LayoutModel",
          "model_module_version": "1.2.0",
          "state": {
            "_view_name": "LayoutView",
            "grid_template_rows": null,
            "right": null,
            "justify_content": null,
            "_view_module": "@jupyter-widgets/base",
            "overflow": null,
            "_model_module_version": "1.2.0",
            "_view_count": null,
            "flex_flow": null,
            "width": null,
            "min_width": null,
            "border": null,
            "align_items": null,
            "bottom": null,
            "_model_module": "@jupyter-widgets/base",
            "top": null,
            "grid_column": null,
            "overflow_y": null,
            "overflow_x": null,
            "grid_auto_flow": null,
            "grid_area": null,
            "grid_template_columns": null,
            "flex": null,
            "_model_name": "LayoutModel",
            "justify_items": null,
            "grid_row": null,
            "max_height": null,
            "align_content": null,
            "visibility": null,
            "align_self": null,
            "height": null,
            "min_height": null,
            "padding": null,
            "grid_auto_rows": null,
            "grid_gap": null,
            "max_width": null,
            "order": null,
            "_view_module_version": "1.2.0",
            "grid_template_areas": null,
            "object_position": null,
            "object_fit": null,
            "grid_auto_columns": null,
            "margin": null,
            "display": null,
            "left": null
          }
        },
        "2378aba17c664756b79f004d77ceb610": {
          "model_module": "@jupyter-widgets/controls",
          "model_name": "HTMLModel",
          "model_module_version": "1.5.0",
          "state": {
            "_view_name": "HTMLView",
            "style": "IPY_MODEL_6ca836749d764b248b5d20384e5605a2",
            "_dom_classes": [],
            "description": "",
            "_model_name": "HTMLModel",
            "placeholder": "​",
            "_view_module": "@jupyter-widgets/controls",
            "_model_module_version": "1.5.0",
            "value": "100%",
            "_view_count": null,
            "_view_module_version": "1.5.0",
            "description_tooltip": null,
            "_model_module": "@jupyter-widgets/controls",
            "layout": "IPY_MODEL_076e60fec4e94d4f8d2eedc112cfd490"
          }
        },
        "611eff0e4d4b4734a594f046f1d9e3ff": {
          "model_module": "@jupyter-widgets/controls",
          "model_name": "FloatProgressModel",
          "model_module_version": "1.5.0",
          "state": {
            "_view_name": "ProgressView",
            "style": "IPY_MODEL_bfe1fc56cf1a490591004fda4dd68c08",
            "_dom_classes": [],
            "description": "",
            "_model_name": "FloatProgressModel",
            "bar_style": "success",
            "max": 1,
            "_view_module": "@jupyter-widgets/controls",
            "_model_module_version": "1.5.0",
            "value": 1,
            "_view_count": null,
            "_view_module_version": "1.5.0",
            "orientation": "horizontal",
            "min": 0,
            "description_tooltip": null,
            "_model_module": "@jupyter-widgets/controls",
            "layout": "IPY_MODEL_86bc3487451045f09cd62f553f59b566"
          }
        },
        "c167e4bd50be4ac1b538d31664edc0a1": {
          "model_module": "@jupyter-widgets/controls",
          "model_name": "HTMLModel",
          "model_module_version": "1.5.0",
          "state": {
            "_view_name": "HTMLView",
            "style": "IPY_MODEL_b3998a2000a740cf810194b921a6b102",
            "_dom_classes": [],
            "description": "",
            "_model_name": "HTMLModel",
            "placeholder": "​",
            "_view_module": "@jupyter-widgets/controls",
            "_model_module_version": "1.5.0",
            "value": " 1/1 [00:00&lt;00:00, 13.51it/s]",
            "_view_count": null,
            "_view_module_version": "1.5.0",
            "description_tooltip": null,
            "_model_module": "@jupyter-widgets/controls",
            "layout": "IPY_MODEL_1bffd1027bc34ad1a8045932d2e75705"
          }
        },
        "6ca836749d764b248b5d20384e5605a2": {
          "model_module": "@jupyter-widgets/controls",
          "model_name": "DescriptionStyleModel",
          "model_module_version": "1.5.0",
          "state": {
            "_view_name": "StyleView",
            "_model_name": "DescriptionStyleModel",
            "description_width": "",
            "_view_module": "@jupyter-widgets/base",
            "_model_module_version": "1.5.0",
            "_view_count": null,
            "_view_module_version": "1.2.0",
            "_model_module": "@jupyter-widgets/controls"
          }
        },
        "076e60fec4e94d4f8d2eedc112cfd490": {
          "model_module": "@jupyter-widgets/base",
          "model_name": "LayoutModel",
          "model_module_version": "1.2.0",
          "state": {
            "_view_name": "LayoutView",
            "grid_template_rows": null,
            "right": null,
            "justify_content": null,
            "_view_module": "@jupyter-widgets/base",
            "overflow": null,
            "_model_module_version": "1.2.0",
            "_view_count": null,
            "flex_flow": null,
            "width": null,
            "min_width": null,
            "border": null,
            "align_items": null,
            "bottom": null,
            "_model_module": "@jupyter-widgets/base",
            "top": null,
            "grid_column": null,
            "overflow_y": null,
            "overflow_x": null,
            "grid_auto_flow": null,
            "grid_area": null,
            "grid_template_columns": null,
            "flex": null,
            "_model_name": "LayoutModel",
            "justify_items": null,
            "grid_row": null,
            "max_height": null,
            "align_content": null,
            "visibility": null,
            "align_self": null,
            "height": null,
            "min_height": null,
            "padding": null,
            "grid_auto_rows": null,
            "grid_gap": null,
            "max_width": null,
            "order": null,
            "_view_module_version": "1.2.0",
            "grid_template_areas": null,
            "object_position": null,
            "object_fit": null,
            "grid_auto_columns": null,
            "margin": null,
            "display": null,
            "left": null
          }
        },
        "bfe1fc56cf1a490591004fda4dd68c08": {
          "model_module": "@jupyter-widgets/controls",
          "model_name": "ProgressStyleModel",
          "model_module_version": "1.5.0",
          "state": {
            "_view_name": "StyleView",
            "_model_name": "ProgressStyleModel",
            "description_width": "",
            "_view_module": "@jupyter-widgets/base",
            "_model_module_version": "1.5.0",
            "_view_count": null,
            "_view_module_version": "1.2.0",
            "bar_color": null,
            "_model_module": "@jupyter-widgets/controls"
          }
        },
        "86bc3487451045f09cd62f553f59b566": {
          "model_module": "@jupyter-widgets/base",
          "model_name": "LayoutModel",
          "model_module_version": "1.2.0",
          "state": {
            "_view_name": "LayoutView",
            "grid_template_rows": null,
            "right": null,
            "justify_content": null,
            "_view_module": "@jupyter-widgets/base",
            "overflow": null,
            "_model_module_version": "1.2.0",
            "_view_count": null,
            "flex_flow": null,
            "width": null,
            "min_width": null,
            "border": null,
            "align_items": null,
            "bottom": null,
            "_model_module": "@jupyter-widgets/base",
            "top": null,
            "grid_column": null,
            "overflow_y": null,
            "overflow_x": null,
            "grid_auto_flow": null,
            "grid_area": null,
            "grid_template_columns": null,
            "flex": null,
            "_model_name": "LayoutModel",
            "justify_items": null,
            "grid_row": null,
            "max_height": null,
            "align_content": null,
            "visibility": null,
            "align_self": null,
            "height": null,
            "min_height": null,
            "padding": null,
            "grid_auto_rows": null,
            "grid_gap": null,
            "max_width": null,
            "order": null,
            "_view_module_version": "1.2.0",
            "grid_template_areas": null,
            "object_position": null,
            "object_fit": null,
            "grid_auto_columns": null,
            "margin": null,
            "display": null,
            "left": null
          }
        },
        "b3998a2000a740cf810194b921a6b102": {
          "model_module": "@jupyter-widgets/controls",
          "model_name": "DescriptionStyleModel",
          "model_module_version": "1.5.0",
          "state": {
            "_view_name": "StyleView",
            "_model_name": "DescriptionStyleModel",
            "description_width": "",
            "_view_module": "@jupyter-widgets/base",
            "_model_module_version": "1.5.0",
            "_view_count": null,
            "_view_module_version": "1.2.0",
            "_model_module": "@jupyter-widgets/controls"
          }
        },
        "1bffd1027bc34ad1a8045932d2e75705": {
          "model_module": "@jupyter-widgets/base",
          "model_name": "LayoutModel",
          "model_module_version": "1.2.0",
          "state": {
            "_view_name": "LayoutView",
            "grid_template_rows": null,
            "right": null,
            "justify_content": null,
            "_view_module": "@jupyter-widgets/base",
            "overflow": null,
            "_model_module_version": "1.2.0",
            "_view_count": null,
            "flex_flow": null,
            "width": null,
            "min_width": null,
            "border": null,
            "align_items": null,
            "bottom": null,
            "_model_module": "@jupyter-widgets/base",
            "top": null,
            "grid_column": null,
            "overflow_y": null,
            "overflow_x": null,
            "grid_auto_flow": null,
            "grid_area": null,
            "grid_template_columns": null,
            "flex": null,
            "_model_name": "LayoutModel",
            "justify_items": null,
            "grid_row": null,
            "max_height": null,
            "align_content": null,
            "visibility": null,
            "align_self": null,
            "height": null,
            "min_height": null,
            "padding": null,
            "grid_auto_rows": null,
            "grid_gap": null,
            "max_width": null,
            "order": null,
            "_view_module_version": "1.2.0",
            "grid_template_areas": null,
            "object_position": null,
            "object_fit": null,
            "grid_auto_columns": null,
            "margin": null,
            "display": null,
            "left": null
          }
        },
        "0989fcb4e9894614a749075aec0be3fc": {
          "model_module": "@jupyter-widgets/controls",
          "model_name": "HBoxModel",
          "model_module_version": "1.5.0",
          "state": {
            "_view_name": "HBoxView",
            "_dom_classes": [],
            "_model_name": "HBoxModel",
            "_view_module": "@jupyter-widgets/controls",
            "_model_module_version": "1.5.0",
            "_view_count": null,
            "_view_module_version": "1.5.0",
            "box_style": "",
            "layout": "IPY_MODEL_e476d3966e6b469c8b4b03e2aea12521",
            "_model_module": "@jupyter-widgets/controls",
            "children": [
              "IPY_MODEL_50b280cb20634f2aa11d06b0d98b9abd",
              "IPY_MODEL_2fe22f2840fb4659a9b0102a74f814ca",
              "IPY_MODEL_f048bb5d82fb4b468d0120ddcbc41563"
            ]
          }
        },
        "e476d3966e6b469c8b4b03e2aea12521": {
          "model_module": "@jupyter-widgets/base",
          "model_name": "LayoutModel",
          "model_module_version": "1.2.0",
          "state": {
            "_view_name": "LayoutView",
            "grid_template_rows": null,
            "right": null,
            "justify_content": null,
            "_view_module": "@jupyter-widgets/base",
            "overflow": null,
            "_model_module_version": "1.2.0",
            "_view_count": null,
            "flex_flow": null,
            "width": null,
            "min_width": null,
            "border": null,
            "align_items": null,
            "bottom": null,
            "_model_module": "@jupyter-widgets/base",
            "top": null,
            "grid_column": null,
            "overflow_y": null,
            "overflow_x": null,
            "grid_auto_flow": null,
            "grid_area": null,
            "grid_template_columns": null,
            "flex": null,
            "_model_name": "LayoutModel",
            "justify_items": null,
            "grid_row": null,
            "max_height": null,
            "align_content": null,
            "visibility": null,
            "align_self": null,
            "height": null,
            "min_height": null,
            "padding": null,
            "grid_auto_rows": null,
            "grid_gap": null,
            "max_width": null,
            "order": null,
            "_view_module_version": "1.2.0",
            "grid_template_areas": null,
            "object_position": null,
            "object_fit": null,
            "grid_auto_columns": null,
            "margin": null,
            "display": null,
            "left": null
          }
        },
        "50b280cb20634f2aa11d06b0d98b9abd": {
          "model_module": "@jupyter-widgets/controls",
          "model_name": "HTMLModel",
          "model_module_version": "1.5.0",
          "state": {
            "_view_name": "HTMLView",
            "style": "IPY_MODEL_1d265697a7a34e2caa15ec70756b87b2",
            "_dom_classes": [],
            "description": "",
            "_model_name": "HTMLModel",
            "placeholder": "​",
            "_view_module": "@jupyter-widgets/controls",
            "_model_module_version": "1.5.0",
            "value": "100%",
            "_view_count": null,
            "_view_module_version": "1.5.0",
            "description_tooltip": null,
            "_model_module": "@jupyter-widgets/controls",
            "layout": "IPY_MODEL_b79d1eef721a44b99d9edf79f3785eeb"
          }
        },
        "2fe22f2840fb4659a9b0102a74f814ca": {
          "model_module": "@jupyter-widgets/controls",
          "model_name": "FloatProgressModel",
          "model_module_version": "1.5.0",
          "state": {
            "_view_name": "ProgressView",
            "style": "IPY_MODEL_3d8024e1bba2460e9af6e2b7868d7cbc",
            "_dom_classes": [],
            "description": "",
            "_model_name": "FloatProgressModel",
            "bar_style": "success",
            "max": 14,
            "_view_module": "@jupyter-widgets/controls",
            "_model_module_version": "1.5.0",
            "value": 14,
            "_view_count": null,
            "_view_module_version": "1.5.0",
            "orientation": "horizontal",
            "min": 0,
            "description_tooltip": null,
            "_model_module": "@jupyter-widgets/controls",
            "layout": "IPY_MODEL_c4e59198f29e47c18b17e04c9644848c"
          }
        },
        "f048bb5d82fb4b468d0120ddcbc41563": {
          "model_module": "@jupyter-widgets/controls",
          "model_name": "HTMLModel",
          "model_module_version": "1.5.0",
          "state": {
            "_view_name": "HTMLView",
            "style": "IPY_MODEL_9d18b7d32fb64a9d8875e87f1706a8f0",
            "_dom_classes": [],
            "description": "",
            "_model_name": "HTMLModel",
            "placeholder": "​",
            "_view_module": "@jupyter-widgets/controls",
            "_model_module_version": "1.5.0",
            "value": " 14/14 [01:25&lt;00:00,  5.05s/ba]",
            "_view_count": null,
            "_view_module_version": "1.5.0",
            "description_tooltip": null,
            "_model_module": "@jupyter-widgets/controls",
            "layout": "IPY_MODEL_918daacc0a12414a9d8c75ffb9f19f2c"
          }
        },
        "1d265697a7a34e2caa15ec70756b87b2": {
          "model_module": "@jupyter-widgets/controls",
          "model_name": "DescriptionStyleModel",
          "model_module_version": "1.5.0",
          "state": {
            "_view_name": "StyleView",
            "_model_name": "DescriptionStyleModel",
            "description_width": "",
            "_view_module": "@jupyter-widgets/base",
            "_model_module_version": "1.5.0",
            "_view_count": null,
            "_view_module_version": "1.2.0",
            "_model_module": "@jupyter-widgets/controls"
          }
        },
        "b79d1eef721a44b99d9edf79f3785eeb": {
          "model_module": "@jupyter-widgets/base",
          "model_name": "LayoutModel",
          "model_module_version": "1.2.0",
          "state": {
            "_view_name": "LayoutView",
            "grid_template_rows": null,
            "right": null,
            "justify_content": null,
            "_view_module": "@jupyter-widgets/base",
            "overflow": null,
            "_model_module_version": "1.2.0",
            "_view_count": null,
            "flex_flow": null,
            "width": null,
            "min_width": null,
            "border": null,
            "align_items": null,
            "bottom": null,
            "_model_module": "@jupyter-widgets/base",
            "top": null,
            "grid_column": null,
            "overflow_y": null,
            "overflow_x": null,
            "grid_auto_flow": null,
            "grid_area": null,
            "grid_template_columns": null,
            "flex": null,
            "_model_name": "LayoutModel",
            "justify_items": null,
            "grid_row": null,
            "max_height": null,
            "align_content": null,
            "visibility": null,
            "align_self": null,
            "height": null,
            "min_height": null,
            "padding": null,
            "grid_auto_rows": null,
            "grid_gap": null,
            "max_width": null,
            "order": null,
            "_view_module_version": "1.2.0",
            "grid_template_areas": null,
            "object_position": null,
            "object_fit": null,
            "grid_auto_columns": null,
            "margin": null,
            "display": null,
            "left": null
          }
        },
        "3d8024e1bba2460e9af6e2b7868d7cbc": {
          "model_module": "@jupyter-widgets/controls",
          "model_name": "ProgressStyleModel",
          "model_module_version": "1.5.0",
          "state": {
            "_view_name": "StyleView",
            "_model_name": "ProgressStyleModel",
            "description_width": "",
            "_view_module": "@jupyter-widgets/base",
            "_model_module_version": "1.5.0",
            "_view_count": null,
            "_view_module_version": "1.2.0",
            "bar_color": null,
            "_model_module": "@jupyter-widgets/controls"
          }
        },
        "c4e59198f29e47c18b17e04c9644848c": {
          "model_module": "@jupyter-widgets/base",
          "model_name": "LayoutModel",
          "model_module_version": "1.2.0",
          "state": {
            "_view_name": "LayoutView",
            "grid_template_rows": null,
            "right": null,
            "justify_content": null,
            "_view_module": "@jupyter-widgets/base",
            "overflow": null,
            "_model_module_version": "1.2.0",
            "_view_count": null,
            "flex_flow": null,
            "width": null,
            "min_width": null,
            "border": null,
            "align_items": null,
            "bottom": null,
            "_model_module": "@jupyter-widgets/base",
            "top": null,
            "grid_column": null,
            "overflow_y": null,
            "overflow_x": null,
            "grid_auto_flow": null,
            "grid_area": null,
            "grid_template_columns": null,
            "flex": null,
            "_model_name": "LayoutModel",
            "justify_items": null,
            "grid_row": null,
            "max_height": null,
            "align_content": null,
            "visibility": null,
            "align_self": null,
            "height": null,
            "min_height": null,
            "padding": null,
            "grid_auto_rows": null,
            "grid_gap": null,
            "max_width": null,
            "order": null,
            "_view_module_version": "1.2.0",
            "grid_template_areas": null,
            "object_position": null,
            "object_fit": null,
            "grid_auto_columns": null,
            "margin": null,
            "display": null,
            "left": null
          }
        },
        "9d18b7d32fb64a9d8875e87f1706a8f0": {
          "model_module": "@jupyter-widgets/controls",
          "model_name": "DescriptionStyleModel",
          "model_module_version": "1.5.0",
          "state": {
            "_view_name": "StyleView",
            "_model_name": "DescriptionStyleModel",
            "description_width": "",
            "_view_module": "@jupyter-widgets/base",
            "_model_module_version": "1.5.0",
            "_view_count": null,
            "_view_module_version": "1.2.0",
            "_model_module": "@jupyter-widgets/controls"
          }
        },
        "918daacc0a12414a9d8c75ffb9f19f2c": {
          "model_module": "@jupyter-widgets/base",
          "model_name": "LayoutModel",
          "model_module_version": "1.2.0",
          "state": {
            "_view_name": "LayoutView",
            "grid_template_rows": null,
            "right": null,
            "justify_content": null,
            "_view_module": "@jupyter-widgets/base",
            "overflow": null,
            "_model_module_version": "1.2.0",
            "_view_count": null,
            "flex_flow": null,
            "width": null,
            "min_width": null,
            "border": null,
            "align_items": null,
            "bottom": null,
            "_model_module": "@jupyter-widgets/base",
            "top": null,
            "grid_column": null,
            "overflow_y": null,
            "overflow_x": null,
            "grid_auto_flow": null,
            "grid_area": null,
            "grid_template_columns": null,
            "flex": null,
            "_model_name": "LayoutModel",
            "justify_items": null,
            "grid_row": null,
            "max_height": null,
            "align_content": null,
            "visibility": null,
            "align_self": null,
            "height": null,
            "min_height": null,
            "padding": null,
            "grid_auto_rows": null,
            "grid_gap": null,
            "max_width": null,
            "order": null,
            "_view_module_version": "1.2.0",
            "grid_template_areas": null,
            "object_position": null,
            "object_fit": null,
            "grid_auto_columns": null,
            "margin": null,
            "display": null,
            "left": null
          }
        },
        "1b4a5c924b8b47808a05314492b7d1ba": {
          "model_module": "@jupyter-widgets/controls",
          "model_name": "HBoxModel",
          "model_module_version": "1.5.0",
          "state": {
            "_view_name": "HBoxView",
            "_dom_classes": [],
            "_model_name": "HBoxModel",
            "_view_module": "@jupyter-widgets/controls",
            "_model_module_version": "1.5.0",
            "_view_count": null,
            "_view_module_version": "1.5.0",
            "box_style": "",
            "layout": "IPY_MODEL_891dd32a3dbc433080fea7a21d92e512",
            "_model_module": "@jupyter-widgets/controls",
            "children": [
              "IPY_MODEL_c8b23407747944a2bc2fe53faacbf879",
              "IPY_MODEL_38caad5aca944b6cadd741aa6c17f91e",
              "IPY_MODEL_0825a01a4e17425b808b0ff25d345197"
            ]
          }
        },
        "891dd32a3dbc433080fea7a21d92e512": {
          "model_module": "@jupyter-widgets/base",
          "model_name": "LayoutModel",
          "model_module_version": "1.2.0",
          "state": {
            "_view_name": "LayoutView",
            "grid_template_rows": null,
            "right": null,
            "justify_content": null,
            "_view_module": "@jupyter-widgets/base",
            "overflow": null,
            "_model_module_version": "1.2.0",
            "_view_count": null,
            "flex_flow": null,
            "width": null,
            "min_width": null,
            "border": null,
            "align_items": null,
            "bottom": null,
            "_model_module": "@jupyter-widgets/base",
            "top": null,
            "grid_column": null,
            "overflow_y": null,
            "overflow_x": null,
            "grid_auto_flow": null,
            "grid_area": null,
            "grid_template_columns": null,
            "flex": null,
            "_model_name": "LayoutModel",
            "justify_items": null,
            "grid_row": null,
            "max_height": null,
            "align_content": null,
            "visibility": null,
            "align_self": null,
            "height": null,
            "min_height": null,
            "padding": null,
            "grid_auto_rows": null,
            "grid_gap": null,
            "max_width": null,
            "order": null,
            "_view_module_version": "1.2.0",
            "grid_template_areas": null,
            "object_position": null,
            "object_fit": null,
            "grid_auto_columns": null,
            "margin": null,
            "display": null,
            "left": null
          }
        },
        "c8b23407747944a2bc2fe53faacbf879": {
          "model_module": "@jupyter-widgets/controls",
          "model_name": "HTMLModel",
          "model_module_version": "1.5.0",
          "state": {
            "_view_name": "HTMLView",
            "style": "IPY_MODEL_7416a0b972f54148b4a1bd84bc0e9755",
            "_dom_classes": [],
            "description": "",
            "_model_name": "HTMLModel",
            "placeholder": "​",
            "_view_module": "@jupyter-widgets/controls",
            "_model_module_version": "1.5.0",
            "value": "100%",
            "_view_count": null,
            "_view_module_version": "1.5.0",
            "description_tooltip": null,
            "_model_module": "@jupyter-widgets/controls",
            "layout": "IPY_MODEL_020ee9ea07bc42e19c994cb2cf364aba"
          }
        },
        "38caad5aca944b6cadd741aa6c17f91e": {
          "model_module": "@jupyter-widgets/controls",
          "model_name": "FloatProgressModel",
          "model_module_version": "1.5.0",
          "state": {
            "_view_name": "ProgressView",
            "style": "IPY_MODEL_21e4aec5e9444c1e9eba6bb575a0741e",
            "_dom_classes": [],
            "description": "",
            "_model_name": "FloatProgressModel",
            "bar_style": "success",
            "max": 2,
            "_view_module": "@jupyter-widgets/controls",
            "_model_module_version": "1.5.0",
            "value": 2,
            "_view_count": null,
            "_view_module_version": "1.5.0",
            "orientation": "horizontal",
            "min": 0,
            "description_tooltip": null,
            "_model_module": "@jupyter-widgets/controls",
            "layout": "IPY_MODEL_c2c563234dbb4ad6b0385d21d5813aac"
          }
        },
        "0825a01a4e17425b808b0ff25d345197": {
          "model_module": "@jupyter-widgets/controls",
          "model_name": "HTMLModel",
          "model_module_version": "1.5.0",
          "state": {
            "_view_name": "HTMLView",
            "style": "IPY_MODEL_9da94d31185c4bf19662503044cb4859",
            "_dom_classes": [],
            "description": "",
            "_model_name": "HTMLModel",
            "placeholder": "​",
            "_view_module": "@jupyter-widgets/controls",
            "_model_module_version": "1.5.0",
            "value": " 2/2 [00:09&lt;00:00,  4.47s/ba]",
            "_view_count": null,
            "_view_module_version": "1.5.0",
            "description_tooltip": null,
            "_model_module": "@jupyter-widgets/controls",
            "layout": "IPY_MODEL_e4a69305e92144aaae95bdcd0c412ab0"
          }
        },
        "7416a0b972f54148b4a1bd84bc0e9755": {
          "model_module": "@jupyter-widgets/controls",
          "model_name": "DescriptionStyleModel",
          "model_module_version": "1.5.0",
          "state": {
            "_view_name": "StyleView",
            "_model_name": "DescriptionStyleModel",
            "description_width": "",
            "_view_module": "@jupyter-widgets/base",
            "_model_module_version": "1.5.0",
            "_view_count": null,
            "_view_module_version": "1.2.0",
            "_model_module": "@jupyter-widgets/controls"
          }
        },
        "020ee9ea07bc42e19c994cb2cf364aba": {
          "model_module": "@jupyter-widgets/base",
          "model_name": "LayoutModel",
          "model_module_version": "1.2.0",
          "state": {
            "_view_name": "LayoutView",
            "grid_template_rows": null,
            "right": null,
            "justify_content": null,
            "_view_module": "@jupyter-widgets/base",
            "overflow": null,
            "_model_module_version": "1.2.0",
            "_view_count": null,
            "flex_flow": null,
            "width": null,
            "min_width": null,
            "border": null,
            "align_items": null,
            "bottom": null,
            "_model_module": "@jupyter-widgets/base",
            "top": null,
            "grid_column": null,
            "overflow_y": null,
            "overflow_x": null,
            "grid_auto_flow": null,
            "grid_area": null,
            "grid_template_columns": null,
            "flex": null,
            "_model_name": "LayoutModel",
            "justify_items": null,
            "grid_row": null,
            "max_height": null,
            "align_content": null,
            "visibility": null,
            "align_self": null,
            "height": null,
            "min_height": null,
            "padding": null,
            "grid_auto_rows": null,
            "grid_gap": null,
            "max_width": null,
            "order": null,
            "_view_module_version": "1.2.0",
            "grid_template_areas": null,
            "object_position": null,
            "object_fit": null,
            "grid_auto_columns": null,
            "margin": null,
            "display": null,
            "left": null
          }
        },
        "21e4aec5e9444c1e9eba6bb575a0741e": {
          "model_module": "@jupyter-widgets/controls",
          "model_name": "ProgressStyleModel",
          "model_module_version": "1.5.0",
          "state": {
            "_view_name": "StyleView",
            "_model_name": "ProgressStyleModel",
            "description_width": "",
            "_view_module": "@jupyter-widgets/base",
            "_model_module_version": "1.5.0",
            "_view_count": null,
            "_view_module_version": "1.2.0",
            "bar_color": null,
            "_model_module": "@jupyter-widgets/controls"
          }
        },
        "c2c563234dbb4ad6b0385d21d5813aac": {
          "model_module": "@jupyter-widgets/base",
          "model_name": "LayoutModel",
          "model_module_version": "1.2.0",
          "state": {
            "_view_name": "LayoutView",
            "grid_template_rows": null,
            "right": null,
            "justify_content": null,
            "_view_module": "@jupyter-widgets/base",
            "overflow": null,
            "_model_module_version": "1.2.0",
            "_view_count": null,
            "flex_flow": null,
            "width": null,
            "min_width": null,
            "border": null,
            "align_items": null,
            "bottom": null,
            "_model_module": "@jupyter-widgets/base",
            "top": null,
            "grid_column": null,
            "overflow_y": null,
            "overflow_x": null,
            "grid_auto_flow": null,
            "grid_area": null,
            "grid_template_columns": null,
            "flex": null,
            "_model_name": "LayoutModel",
            "justify_items": null,
            "grid_row": null,
            "max_height": null,
            "align_content": null,
            "visibility": null,
            "align_self": null,
            "height": null,
            "min_height": null,
            "padding": null,
            "grid_auto_rows": null,
            "grid_gap": null,
            "max_width": null,
            "order": null,
            "_view_module_version": "1.2.0",
            "grid_template_areas": null,
            "object_position": null,
            "object_fit": null,
            "grid_auto_columns": null,
            "margin": null,
            "display": null,
            "left": null
          }
        },
        "9da94d31185c4bf19662503044cb4859": {
          "model_module": "@jupyter-widgets/controls",
          "model_name": "DescriptionStyleModel",
          "model_module_version": "1.5.0",
          "state": {
            "_view_name": "StyleView",
            "_model_name": "DescriptionStyleModel",
            "description_width": "",
            "_view_module": "@jupyter-widgets/base",
            "_model_module_version": "1.5.0",
            "_view_count": null,
            "_view_module_version": "1.2.0",
            "_model_module": "@jupyter-widgets/controls"
          }
        },
        "e4a69305e92144aaae95bdcd0c412ab0": {
          "model_module": "@jupyter-widgets/base",
          "model_name": "LayoutModel",
          "model_module_version": "1.2.0",
          "state": {
            "_view_name": "LayoutView",
            "grid_template_rows": null,
            "right": null,
            "justify_content": null,
            "_view_module": "@jupyter-widgets/base",
            "overflow": null,
            "_model_module_version": "1.2.0",
            "_view_count": null,
            "flex_flow": null,
            "width": null,
            "min_width": null,
            "border": null,
            "align_items": null,
            "bottom": null,
            "_model_module": "@jupyter-widgets/base",
            "top": null,
            "grid_column": null,
            "overflow_y": null,
            "overflow_x": null,
            "grid_auto_flow": null,
            "grid_area": null,
            "grid_template_columns": null,
            "flex": null,
            "_model_name": "LayoutModel",
            "justify_items": null,
            "grid_row": null,
            "max_height": null,
            "align_content": null,
            "visibility": null,
            "align_self": null,
            "height": null,
            "min_height": null,
            "padding": null,
            "grid_auto_rows": null,
            "grid_gap": null,
            "max_width": null,
            "order": null,
            "_view_module_version": "1.2.0",
            "grid_template_areas": null,
            "object_position": null,
            "object_fit": null,
            "grid_auto_columns": null,
            "margin": null,
            "display": null,
            "left": null
          }
        }
      }
    },
    "accelerator": "GPU"
  },
  "cells": [
    {
      "cell_type": "code",
      "metadata": {
        "colab": {
          "base_uri": "https://localhost:8080/"
        },
        "id": "X1gXl-PBWX29",
        "outputId": "370aa4c9-5aa3-4bf3-984f-0358b244f02e"
      },
      "source": [
        "!pip install --no-cache-dir transformers sentencepiece"
      ],
      "execution_count": 1,
      "outputs": [
        {
          "output_type": "stream",
          "name": "stdout",
          "text": [
            "Collecting transformers\n",
            "  Downloading transformers-4.12.5-py3-none-any.whl (3.1 MB)\n",
            "\u001b[K     |████████████████████████████████| 3.1 MB 5.3 MB/s \n",
            "\u001b[?25hCollecting sentencepiece\n",
            "  Downloading sentencepiece-0.1.96-cp37-cp37m-manylinux_2_17_x86_64.manylinux2014_x86_64.whl (1.2 MB)\n",
            "\u001b[K     |████████████████████████████████| 1.2 MB 48.7 MB/s \n",
            "\u001b[?25hRequirement already satisfied: requests in /usr/local/lib/python3.7/dist-packages (from transformers) (2.23.0)\n",
            "Collecting sacremoses\n",
            "  Downloading sacremoses-0.0.46-py3-none-any.whl (895 kB)\n",
            "\u001b[K     |████████████████████████████████| 895 kB 44.3 MB/s \n",
            "\u001b[?25hRequirement already satisfied: packaging>=20.0 in /usr/local/lib/python3.7/dist-packages (from transformers) (21.3)\n",
            "Requirement already satisfied: importlib-metadata in /usr/local/lib/python3.7/dist-packages (from transformers) (4.8.2)\n",
            "Collecting tokenizers<0.11,>=0.10.1\n",
            "  Downloading tokenizers-0.10.3-cp37-cp37m-manylinux_2_5_x86_64.manylinux1_x86_64.manylinux_2_12_x86_64.manylinux2010_x86_64.whl (3.3 MB)\n",
            "\u001b[K     |████████████████████████████████| 3.3 MB 33.0 MB/s \n",
            "\u001b[?25hRequirement already satisfied: numpy>=1.17 in /usr/local/lib/python3.7/dist-packages (from transformers) (1.19.5)\n",
            "Requirement already satisfied: tqdm>=4.27 in /usr/local/lib/python3.7/dist-packages (from transformers) (4.62.3)\n",
            "Collecting pyyaml>=5.1\n",
            "  Downloading PyYAML-6.0-cp37-cp37m-manylinux_2_5_x86_64.manylinux1_x86_64.manylinux_2_12_x86_64.manylinux2010_x86_64.whl (596 kB)\n",
            "\u001b[K     |████████████████████████████████| 596 kB 43.2 MB/s \n",
            "\u001b[?25hRequirement already satisfied: filelock in /usr/local/lib/python3.7/dist-packages (from transformers) (3.4.0)\n",
            "Requirement already satisfied: regex!=2019.12.17 in /usr/local/lib/python3.7/dist-packages (from transformers) (2019.12.20)\n",
            "Collecting huggingface-hub<1.0,>=0.1.0\n",
            "  Downloading huggingface_hub-0.2.1-py3-none-any.whl (61 kB)\n",
            "\u001b[K     |████████████████████████████████| 61 kB 11.5 MB/s \n",
            "\u001b[?25hRequirement already satisfied: typing-extensions>=3.7.4.3 in /usr/local/lib/python3.7/dist-packages (from huggingface-hub<1.0,>=0.1.0->transformers) (3.10.0.2)\n",
            "Requirement already satisfied: pyparsing!=3.0.5,>=2.0.2 in /usr/local/lib/python3.7/dist-packages (from packaging>=20.0->transformers) (3.0.6)\n",
            "Requirement already satisfied: zipp>=0.5 in /usr/local/lib/python3.7/dist-packages (from importlib-metadata->transformers) (3.6.0)\n",
            "Requirement already satisfied: certifi>=2017.4.17 in /usr/local/lib/python3.7/dist-packages (from requests->transformers) (2021.10.8)\n",
            "Requirement already satisfied: urllib3!=1.25.0,!=1.25.1,<1.26,>=1.21.1 in /usr/local/lib/python3.7/dist-packages (from requests->transformers) (1.24.3)\n",
            "Requirement already satisfied: idna<3,>=2.5 in /usr/local/lib/python3.7/dist-packages (from requests->transformers) (2.10)\n",
            "Requirement already satisfied: chardet<4,>=3.0.2 in /usr/local/lib/python3.7/dist-packages (from requests->transformers) (3.0.4)\n",
            "Requirement already satisfied: click in /usr/local/lib/python3.7/dist-packages (from sacremoses->transformers) (7.1.2)\n",
            "Requirement already satisfied: six in /usr/local/lib/python3.7/dist-packages (from sacremoses->transformers) (1.15.0)\n",
            "Requirement already satisfied: joblib in /usr/local/lib/python3.7/dist-packages (from sacremoses->transformers) (1.1.0)\n",
            "Installing collected packages: pyyaml, tokenizers, sacremoses, huggingface-hub, transformers, sentencepiece\n",
            "  Attempting uninstall: pyyaml\n",
            "    Found existing installation: PyYAML 3.13\n",
            "    Uninstalling PyYAML-3.13:\n",
            "      Successfully uninstalled PyYAML-3.13\n",
            "Successfully installed huggingface-hub-0.2.1 pyyaml-6.0 sacremoses-0.0.46 sentencepiece-0.1.96 tokenizers-0.10.3 transformers-4.12.5\n"
          ]
        }
      ]
    },
    {
      "cell_type": "code",
      "metadata": {
        "id": "zHfPrJ7e4zWk",
        "colab": {
          "base_uri": "https://localhost:8080/"
        },
        "outputId": "2c2df0c1-900c-4fd2-8ea9-8706497b9395"
      },
      "source": [
        "pip install datasets sacrebleu"
      ],
      "execution_count": 2,
      "outputs": [
        {
          "output_type": "stream",
          "name": "stdout",
          "text": [
            "Collecting datasets\n",
            "  Downloading datasets-1.16.1-py3-none-any.whl (298 kB)\n",
            "\u001b[K     |████████████████████████████████| 298 kB 5.4 MB/s \n",
            "\u001b[?25hCollecting sacrebleu\n",
            "  Downloading sacrebleu-2.0.0-py3-none-any.whl (90 kB)\n",
            "\u001b[K     |████████████████████████████████| 90 kB 9.3 MB/s \n",
            "\u001b[?25hRequirement already satisfied: pyarrow!=4.0.0,>=3.0.0 in /usr/local/lib/python3.7/dist-packages (from datasets) (3.0.0)\n",
            "Requirement already satisfied: huggingface-hub<1.0.0,>=0.1.0 in /usr/local/lib/python3.7/dist-packages (from datasets) (0.2.1)\n",
            "Requirement already satisfied: numpy>=1.17 in /usr/local/lib/python3.7/dist-packages (from datasets) (1.19.5)\n",
            "Requirement already satisfied: importlib-metadata in /usr/local/lib/python3.7/dist-packages (from datasets) (4.8.2)\n",
            "Requirement already satisfied: packaging in /usr/local/lib/python3.7/dist-packages (from datasets) (21.3)\n",
            "Collecting xxhash\n",
            "  Downloading xxhash-2.0.2-cp37-cp37m-manylinux2010_x86_64.whl (243 kB)\n",
            "\u001b[K     |████████████████████████████████| 243 kB 43.9 MB/s \n",
            "\u001b[?25hRequirement already satisfied: multiprocess in /usr/local/lib/python3.7/dist-packages (from datasets) (0.70.12.2)\n",
            "Requirement already satisfied: dill in /usr/local/lib/python3.7/dist-packages (from datasets) (0.3.4)\n",
            "Requirement already satisfied: tqdm>=4.62.1 in /usr/local/lib/python3.7/dist-packages (from datasets) (4.62.3)\n",
            "Requirement already satisfied: pandas in /usr/local/lib/python3.7/dist-packages (from datasets) (1.1.5)\n",
            "Collecting fsspec[http]>=2021.05.0\n",
            "  Downloading fsspec-2021.11.1-py3-none-any.whl (132 kB)\n",
            "\u001b[K     |████████████████████████████████| 132 kB 46.3 MB/s \n",
            "\u001b[?25hRequirement already satisfied: requests>=2.19.0 in /usr/local/lib/python3.7/dist-packages (from datasets) (2.23.0)\n",
            "Collecting aiohttp\n",
            "  Downloading aiohttp-3.8.1-cp37-cp37m-manylinux_2_5_x86_64.manylinux1_x86_64.manylinux_2_12_x86_64.manylinux2010_x86_64.whl (1.1 MB)\n",
            "\u001b[K     |████████████████████████████████| 1.1 MB 33.3 MB/s \n",
            "\u001b[?25hRequirement already satisfied: filelock in /usr/local/lib/python3.7/dist-packages (from huggingface-hub<1.0.0,>=0.1.0->datasets) (3.4.0)\n",
            "Requirement already satisfied: pyyaml in /usr/local/lib/python3.7/dist-packages (from huggingface-hub<1.0.0,>=0.1.0->datasets) (6.0)\n",
            "Requirement already satisfied: typing-extensions>=3.7.4.3 in /usr/local/lib/python3.7/dist-packages (from huggingface-hub<1.0.0,>=0.1.0->datasets) (3.10.0.2)\n",
            "Requirement already satisfied: pyparsing!=3.0.5,>=2.0.2 in /usr/local/lib/python3.7/dist-packages (from packaging->datasets) (3.0.6)\n",
            "Requirement already satisfied: idna<3,>=2.5 in /usr/local/lib/python3.7/dist-packages (from requests>=2.19.0->datasets) (2.10)\n",
            "Requirement already satisfied: certifi>=2017.4.17 in /usr/local/lib/python3.7/dist-packages (from requests>=2.19.0->datasets) (2021.10.8)\n",
            "Requirement already satisfied: chardet<4,>=3.0.2 in /usr/local/lib/python3.7/dist-packages (from requests>=2.19.0->datasets) (3.0.4)\n",
            "Requirement already satisfied: urllib3!=1.25.0,!=1.25.1,<1.26,>=1.21.1 in /usr/local/lib/python3.7/dist-packages (from requests>=2.19.0->datasets) (1.24.3)\n",
            "Requirement already satisfied: tabulate>=0.8.9 in /usr/local/lib/python3.7/dist-packages (from sacrebleu) (0.8.9)\n",
            "Collecting colorama\n",
            "  Downloading colorama-0.4.4-py2.py3-none-any.whl (16 kB)\n",
            "Requirement already satisfied: regex in /usr/local/lib/python3.7/dist-packages (from sacrebleu) (2019.12.20)\n",
            "Collecting portalocker\n",
            "  Downloading portalocker-2.3.2-py2.py3-none-any.whl (15 kB)\n",
            "Collecting async-timeout<5.0,>=4.0.0a3\n",
            "  Downloading async_timeout-4.0.1-py3-none-any.whl (5.7 kB)\n",
            "Collecting asynctest==0.13.0\n",
            "  Downloading asynctest-0.13.0-py3-none-any.whl (26 kB)\n",
            "Collecting multidict<7.0,>=4.5\n",
            "  Downloading multidict-5.2.0-cp37-cp37m-manylinux_2_5_x86_64.manylinux1_x86_64.manylinux_2_12_x86_64.manylinux2010_x86_64.whl (160 kB)\n",
            "\u001b[K     |████████████████████████████████| 160 kB 43.0 MB/s \n",
            "\u001b[?25hRequirement already satisfied: charset-normalizer<3.0,>=2.0 in /usr/local/lib/python3.7/dist-packages (from aiohttp->datasets) (2.0.8)\n",
            "Requirement already satisfied: attrs>=17.3.0 in /usr/local/lib/python3.7/dist-packages (from aiohttp->datasets) (21.2.0)\n",
            "Collecting yarl<2.0,>=1.0\n",
            "  Downloading yarl-1.7.2-cp37-cp37m-manylinux_2_5_x86_64.manylinux1_x86_64.manylinux_2_12_x86_64.manylinux2010_x86_64.whl (271 kB)\n",
            "\u001b[K     |████████████████████████████████| 271 kB 51.9 MB/s \n",
            "\u001b[?25hCollecting aiosignal>=1.1.2\n",
            "  Downloading aiosignal-1.2.0-py3-none-any.whl (8.2 kB)\n",
            "Collecting frozenlist>=1.1.1\n",
            "  Downloading frozenlist-1.2.0-cp37-cp37m-manylinux_2_5_x86_64.manylinux1_x86_64.manylinux_2_12_x86_64.manylinux2010_x86_64.whl (192 kB)\n",
            "\u001b[K     |████████████████████████████████| 192 kB 55.4 MB/s \n",
            "\u001b[?25hRequirement already satisfied: zipp>=0.5 in /usr/local/lib/python3.7/dist-packages (from importlib-metadata->datasets) (3.6.0)\n",
            "Requirement already satisfied: pytz>=2017.2 in /usr/local/lib/python3.7/dist-packages (from pandas->datasets) (2018.9)\n",
            "Requirement already satisfied: python-dateutil>=2.7.3 in /usr/local/lib/python3.7/dist-packages (from pandas->datasets) (2.8.2)\n",
            "Requirement already satisfied: six>=1.5 in /usr/local/lib/python3.7/dist-packages (from python-dateutil>=2.7.3->pandas->datasets) (1.15.0)\n",
            "Installing collected packages: multidict, frozenlist, yarl, asynctest, async-timeout, aiosignal, fsspec, aiohttp, xxhash, portalocker, colorama, sacrebleu, datasets\n",
            "Successfully installed aiohttp-3.8.1 aiosignal-1.2.0 async-timeout-4.0.1 asynctest-0.13.0 colorama-0.4.4 datasets-1.16.1 frozenlist-1.2.0 fsspec-2021.11.1 multidict-5.2.0 portalocker-2.3.2 sacrebleu-2.0.0 xxhash-2.0.2 yarl-1.7.2\n"
          ]
        }
      ]
    },
    {
      "cell_type": "markdown",
      "metadata": {
        "id": "TE6Xw9S-GRuV"
      },
      "source": [
        "We will see how to easily load the dataset for this task using 🤗 Datasets and how to fine-tune a model on it using the Trainer API."
      ]
    },
    {
      "cell_type": "code",
      "metadata": {
        "id": "Fs4qzRfkGbDY"
      },
      "source": [
        "model_checkpoint = \"google/mt5-small\""
      ],
      "execution_count": 3,
      "outputs": []
    },
    {
      "cell_type": "code",
      "metadata": {
        "colab": {
          "base_uri": "https://localhost:8080/",
          "height": 49,
          "referenced_widgets": [
            "f10790d65635441aae1da34a6873dd96",
            "f36bbe099fbf4b1ab7d3ac23b6189a77",
            "e248281767954a709ddb46d4f69ef096",
            "9d936383966045c187bd785909d98632",
            "7a5040831df94356a0f13b8e3473cfd0",
            "8b65ff481ec64093bbb7a7d70f5b1f12",
            "3992d2a0fbc0440aa4ac67d0585da037",
            "2ac51dcb26164ba782cf0ed0486961dc",
            "6e12e9eb058f424598f0abcc542930ac",
            "3177d5d8c5244b72b7bed662aaca17a7",
            "cf08535968ef476d908037076a42b58d"
          ]
        },
        "id": "LUA55u9YHAs5",
        "outputId": "e8c13c32-0219-4f6b-aff8-22e1a6862934"
      },
      "source": [
        "from datasets import Dataset, load_metric, load_dataset\n",
        "\n",
        "metric = load_metric(\"sacrebleu\")"
      ],
      "execution_count": 4,
      "outputs": [
        {
          "output_type": "display_data",
          "data": {
            "application/vnd.jupyter.widget-view+json": {
              "model_id": "f10790d65635441aae1da34a6873dd96",
              "version_minor": 0,
              "version_major": 2
            },
            "text/plain": [
              "Downloading:   0%|          | 0.00/2.37k [00:00<?, ?B/s]"
            ]
          },
          "metadata": {}
        }
      ]
    },
    {
      "cell_type": "code",
      "metadata": {
        "id": "kzDryuhsIjJF"
      },
      "source": [
        "import torch\n",
        "import numpy as np\n",
        "import pandas as pd\n",
        "import os\n",
        "from google.colab import drive\n",
        "import logging"
      ],
      "execution_count": 5,
      "outputs": []
    },
    {
      "cell_type": "code",
      "metadata": {
        "colab": {
          "base_uri": "https://localhost:8080/"
        },
        "id": "AZfNX4pFIcAx",
        "outputId": "59995cba-5ec4-4b8d-f3e6-5ac561e60eeb"
      },
      "source": [
        "drive.mount('content')"
      ],
      "execution_count": 6,
      "outputs": [
        {
          "output_type": "stream",
          "name": "stdout",
          "text": [
            "Mounted at content\n"
          ]
        }
      ]
    },
    {
      "cell_type": "code",
      "metadata": {
        "id": "kfsMRVFTIzT3"
      },
      "source": [
        "PATH_TO_DATASET = \"content/MyDrive\""
      ],
      "execution_count": 7,
      "outputs": []
    },
    {
      "cell_type": "code",
      "metadata": {
        "id": "kFsDRLgWI-Xz"
      },
      "source": [
        "data  =  pd.read_excel(os.path.join(PATH_TO_DATASET, \"Data.xlsx\"), index_col = 0)"
      ],
      "execution_count": 8,
      "outputs": []
    },
    {
      "cell_type": "code",
      "metadata": {
        "colab": {
          "base_uri": "https://localhost:8080/",
          "height": 206
        },
        "id": "3JxufNT2KNhl",
        "outputId": "0cba2b7f-9a87-402f-8131-170205f1d879"
      },
      "source": [
        "data.head()"
      ],
      "execution_count": 9,
      "outputs": [
        {
          "output_type": "execute_result",
          "data": {
            "text/html": [
              "<div>\n",
              "<style scoped>\n",
              "    .dataframe tbody tr th:only-of-type {\n",
              "        vertical-align: middle;\n",
              "    }\n",
              "\n",
              "    .dataframe tbody tr th {\n",
              "        vertical-align: top;\n",
              "    }\n",
              "\n",
              "    .dataframe thead th {\n",
              "        text-align: right;\n",
              "    }\n",
              "</style>\n",
              "<table border=\"1\" class=\"dataframe\">\n",
              "  <thead>\n",
              "    <tr style=\"text-align: right;\">\n",
              "      <th></th>\n",
              "      <th>Arabic_transcript</th>\n",
              "      <th>English_transcript</th>\n",
              "    </tr>\n",
              "  </thead>\n",
              "  <tbody>\n",
              "    <tr>\n",
              "      <th>0</th>\n",
              "      <td>مرحبا بكم في مقدمة لعلوم البيانات مع بايثون. ه...</td>\n",
              "      <td>Welcome to an introduction to Data Science wit...</td>\n",
              "    </tr>\n",
              "    <tr>\n",
              "      <th>1</th>\n",
              "      <td>مرحباً، أنا (كريس بروكز)، هيئة التدريس هنا بكل...</td>\n",
              "      <td>Hi, I'm Chris Brooks, faculty here at the Univ...</td>\n",
              "    </tr>\n",
              "    <tr>\n",
              "      <th>2</th>\n",
              "      <td>مرحبا. أريد أن أريكم قليلا عن نظام دفتر جوبيتر...</td>\n",
              "      <td>Hi. I want to show you a little bit about the ...</td>\n",
              "    </tr>\n",
              "    <tr>\n",
              "      <th>3</th>\n",
              "      <td>في بقية هذه الوحدة، سأقوم بتقديم نظرة عامة أسا...</td>\n",
              "      <td>In the rest of this module, I'm going to provi...</td>\n",
              "    </tr>\n",
              "    <tr>\n",
              "      <th>5</th>\n",
              "      <td>تحدثنا عن السلاسل عندما تحدثنا عن القوائم والت...</td>\n",
              "      <td>We talked about strings when we talked about l...</td>\n",
              "    </tr>\n",
              "  </tbody>\n",
              "</table>\n",
              "</div>"
            ],
            "text/plain": [
              "                                   Arabic_transcript                                 English_transcript\n",
              "0  مرحبا بكم في مقدمة لعلوم البيانات مع بايثون. ه...  Welcome to an introduction to Data Science wit...\n",
              "1  مرحباً، أنا (كريس بروكز)، هيئة التدريس هنا بكل...  Hi, I'm Chris Brooks, faculty here at the Univ...\n",
              "2  مرحبا. أريد أن أريكم قليلا عن نظام دفتر جوبيتر...  Hi. I want to show you a little bit about the ...\n",
              "3  في بقية هذه الوحدة، سأقوم بتقديم نظرة عامة أسا...  In the rest of this module, I'm going to provi...\n",
              "5  تحدثنا عن السلاسل عندما تحدثنا عن القوائم والت...  We talked about strings when we talked about l..."
            ]
          },
          "metadata": {},
          "execution_count": 9
        }
      ]
    },
    {
      "cell_type": "code",
      "metadata": {
        "colab": {
          "base_uri": "https://localhost:8080/"
        },
        "id": "tvNbl1dmMoMs",
        "outputId": "4940762e-1397-40c8-b4ba-6c3681a5dae9"
      },
      "source": [
        "data.shape"
      ],
      "execution_count": 10,
      "outputs": [
        {
          "output_type": "execute_result",
          "data": {
            "text/plain": [
              "(16818, 2)"
            ]
          },
          "metadata": {},
          "execution_count": 10
        }
      ]
    },
    {
      "cell_type": "code",
      "metadata": {
        "id": "2eRkBxJuLS0h"
      },
      "source": [
        "import random\n",
        "\n",
        "random.seed(10)\n",
        "\n",
        "train_set, validate_set, test_set = np.split(data.sample(frac=1), [int(.8*len(data)), int(.9*len(data))])\n",
        "# https://datascience.stackexchange.com/questions/15135/train-test-validation-set-splitting-in-sklearn \n",
        "\n"
      ],
      "execution_count": 11,
      "outputs": []
    },
    {
      "cell_type": "code",
      "metadata": {
        "colab": {
          "base_uri": "https://localhost:8080/"
        },
        "id": "lYIn4MC5L0aQ",
        "outputId": "4a128139-9421-4178-ac44-156210047ff3"
      },
      "source": [
        "train_set.shape, validate_set.shape, test_set.shape"
      ],
      "execution_count": 12,
      "outputs": [
        {
          "output_type": "execute_result",
          "data": {
            "text/plain": [
              "((13454, 2), (1682, 2), (1682, 2))"
            ]
          },
          "metadata": {},
          "execution_count": 12
        }
      ]
    },
    {
      "cell_type": "code",
      "metadata": {
        "colab": {
          "base_uri": "https://localhost:8080/"
        },
        "id": "8DJIxtU8MBjW",
        "outputId": "f0255a09-f18f-4390-a707-d3c866756486"
      },
      "source": [
        "train_set.isnull().sum() / train_set.shape[0] *100"
      ],
      "execution_count": 13,
      "outputs": [
        {
          "output_type": "execute_result",
          "data": {
            "text/plain": [
              "Arabic_transcript     0.044596\n",
              "English_transcript    0.000000\n",
              "dtype: float64"
            ]
          },
          "metadata": {},
          "execution_count": 13
        }
      ]
    },
    {
      "cell_type": "code",
      "metadata": {
        "id": "Ipom_4ZpL21e"
      },
      "source": [
        "train_set.dropna(inplace=True)\n",
        "validate_set.dropna(inplace=True)"
      ],
      "execution_count": 14,
      "outputs": []
    },
    {
      "cell_type": "code",
      "metadata": {
        "colab": {
          "base_uri": "https://localhost:8080/"
        },
        "id": "de_bnqUvMuZf",
        "outputId": "0b082ba0-3d47-463f-aabc-ae1c51ea955b"
      },
      "source": [
        "train_set.isnull().sum() / train_set.shape[0] *100"
      ],
      "execution_count": 15,
      "outputs": [
        {
          "output_type": "execute_result",
          "data": {
            "text/plain": [
              "Arabic_transcript     0.0\n",
              "English_transcript    0.0\n",
              "dtype: float64"
            ]
          },
          "metadata": {},
          "execution_count": 15
        }
      ]
    },
    {
      "cell_type": "code",
      "metadata": {
        "id": "hSSwZpcPK8Ti"
      },
      "source": [
        "train_set = train_set.drop_duplicates(subset=['Arabic_transcript', 'English_transcript'])\n",
        "\n",
        "# train_set.head()\n",
        "train_set['English_transcript'] = train_set.apply(lambda row: row.English_transcript.lower(), axis=1)\n",
        "train_set.columns = ['ar', 'en']"
      ],
      "execution_count": 16,
      "outputs": []
    },
    {
      "cell_type": "code",
      "metadata": {
        "colab": {
          "base_uri": "https://localhost:8080/"
        },
        "id": "N7dtZE4iq8I5",
        "outputId": "6a5ee431-19f4-4d7a-8e06-b055d2870591"
      },
      "source": [
        "validate_set = validate_set.drop_duplicates(subset=['Arabic_transcript', 'English_transcript'])\n",
        "\n",
        "# train_set.head()\n",
        "validate_set['English_transcript'] = validate_set.apply(lambda row: row.English_transcript.lower(), axis=1)\n",
        "validate_set.columns = ['ar', 'en']"
      ],
      "execution_count": 17,
      "outputs": [
        {
          "output_type": "stream",
          "name": "stderr",
          "text": [
            "/usr/local/lib/python3.7/dist-packages/ipykernel_launcher.py:4: SettingWithCopyWarning: \n",
            "A value is trying to be set on a copy of a slice from a DataFrame.\n",
            "Try using .loc[row_indexer,col_indexer] = value instead\n",
            "\n",
            "See the caveats in the documentation: https://pandas.pydata.org/pandas-docs/stable/user_guide/indexing.html#returning-a-view-versus-a-copy\n",
            "  after removing the cwd from sys.path.\n"
          ]
        }
      ]
    },
    {
      "cell_type": "markdown",
      "metadata": {
        "id": "XfUTK8jeehcK"
      },
      "source": [
        "text generated seems to be not random. I have got something wrong here"
      ]
    },
    {
      "cell_type": "markdown",
      "metadata": {
        "id": "h7jt5q7PNPEm"
      },
      "source": [
        "### Pre-processing for arabic text?"
      ]
    },
    {
      "cell_type": "code",
      "metadata": {
        "colab": {
          "base_uri": "https://localhost:8080/",
          "height": 206
        },
        "id": "wqMUP4jcW1Mq",
        "outputId": "91865378-0360-46c0-e2f7-cd1d9b904f6e"
      },
      "source": [
        "train_set.head()"
      ],
      "execution_count": 18,
      "outputs": [
        {
          "output_type": "execute_result",
          "data": {
            "text/html": [
              "<div>\n",
              "<style scoped>\n",
              "    .dataframe tbody tr th:only-of-type {\n",
              "        vertical-align: middle;\n",
              "    }\n",
              "\n",
              "    .dataframe tbody tr th {\n",
              "        vertical-align: top;\n",
              "    }\n",
              "\n",
              "    .dataframe thead th {\n",
              "        text-align: right;\n",
              "    }\n",
              "</style>\n",
              "<table border=\"1\" class=\"dataframe\">\n",
              "  <thead>\n",
              "    <tr style=\"text-align: right;\">\n",
              "      <th></th>\n",
              "      <th>ar</th>\n",
              "      <th>en</th>\n",
              "    </tr>\n",
              "  </thead>\n",
              "  <tbody>\n",
              "    <tr>\n",
              "      <th>4198</th>\n",
              "      <td>اممم ، و- وسوف ترى x عندما ننتقل إلى GLMs.</td>\n",
              "      <td>um, and- and you're gonna see x when we move o...</td>\n",
              "    </tr>\n",
              "    <tr>\n",
              "      <th>8368</th>\n",
              "      <td>إذن فهو متغير عشوائي.</td>\n",
              "      <td>so it's a random variable.</td>\n",
              "    </tr>\n",
              "    <tr>\n",
              "      <th>6279</th>\n",
              "      <td>لكن لذلك ، فإن نمذجة هذا بدون افتراضات إضافية ...</td>\n",
              "      <td>but so, modeling this without additional assum...</td>\n",
              "    </tr>\n",
              "    <tr>\n",
              "      <th>15958</th>\n",
              "      <td>وهو نوع من الخبز</td>\n",
              "      <td>which is a kind of a bread and butter of,</td>\n",
              "    </tr>\n",
              "    <tr>\n",
              "      <th>11735</th>\n",
              "      <td>سيكون الأمر ممتع.</td>\n",
              "      <td>it's going to be fun.</td>\n",
              "    </tr>\n",
              "  </tbody>\n",
              "</table>\n",
              "</div>"
            ],
            "text/plain": [
              "                                                      ar                                                 en\n",
              "4198          اممم ، و- وسوف ترى x عندما ننتقل إلى GLMs.  um, and- and you're gonna see x when we move o...\n",
              "8368                               إذن فهو متغير عشوائي.                         so it's a random variable.\n",
              "6279   لكن لذلك ، فإن نمذجة هذا بدون افتراضات إضافية ...  but so, modeling this without additional assum...\n",
              "15958                                   وهو نوع من الخبز          which is a kind of a bread and butter of,\n",
              "11735                                 سيكون الأمر ممتع.                               it's going to be fun."
            ]
          },
          "metadata": {},
          "execution_count": 18
        }
      ]
    },
    {
      "cell_type": "markdown",
      "metadata": {
        "id": "ZOq6h2c9NlfO"
      },
      "source": [
        "**Text cleaning?**"
      ]
    },
    {
      "cell_type": "code",
      "metadata": {
        "id": "38CAU3Y1NHtV",
        "colab": {
          "base_uri": "https://localhost:8080/"
        },
        "outputId": "abc81008-e77f-4bc4-e2ed-ddc77ddc7c90"
      },
      "source": [
        "pip install mpu"
      ],
      "execution_count": 19,
      "outputs": [
        {
          "output_type": "stream",
          "name": "stdout",
          "text": [
            "Collecting mpu\n",
            "  Downloading mpu-0.23.1-py3-none-any.whl (69 kB)\n",
            "\u001b[?25l\r\u001b[K     |████▊                           | 10 kB 23.6 MB/s eta 0:00:01\r\u001b[K     |█████████▍                      | 20 kB 18.4 MB/s eta 0:00:01\r\u001b[K     |██████████████                  | 30 kB 15.6 MB/s eta 0:00:01\r\u001b[K     |██████████████████▉             | 40 kB 14.3 MB/s eta 0:00:01\r\u001b[K     |███████████████████████▌        | 51 kB 5.4 MB/s eta 0:00:01\r\u001b[K     |████████████████████████████▏   | 61 kB 5.9 MB/s eta 0:00:01\r\u001b[K     |████████████████████████████████| 69 kB 3.5 MB/s \n",
            "\u001b[?25hInstalling collected packages: mpu\n",
            "Successfully installed mpu-0.23.1\n"
          ]
        }
      ]
    },
    {
      "cell_type": "code",
      "metadata": {
        "colab": {
          "base_uri": "https://localhost:8080/",
          "height": 206
        },
        "id": "qrJaE26RPLjh",
        "outputId": "4ced965d-7969-43f2-c76a-c4dc1945b37e"
      },
      "source": [
        "train_set['translation'] = train_set.apply(lambda row: {'en':row['en'], 'ar':row['ar']},\n",
        "                            axis=1)\n",
        "train_set = train_set.drop(columns = ['ar', 'en'])  #https://stackoverflow.com/questions/55136065/convert-multiple-pandas-column-into-json \n",
        "train_set.head()"
      ],
      "execution_count": 20,
      "outputs": [
        {
          "output_type": "execute_result",
          "data": {
            "text/html": [
              "<div>\n",
              "<style scoped>\n",
              "    .dataframe tbody tr th:only-of-type {\n",
              "        vertical-align: middle;\n",
              "    }\n",
              "\n",
              "    .dataframe tbody tr th {\n",
              "        vertical-align: top;\n",
              "    }\n",
              "\n",
              "    .dataframe thead th {\n",
              "        text-align: right;\n",
              "    }\n",
              "</style>\n",
              "<table border=\"1\" class=\"dataframe\">\n",
              "  <thead>\n",
              "    <tr style=\"text-align: right;\">\n",
              "      <th></th>\n",
              "      <th>translation</th>\n",
              "    </tr>\n",
              "  </thead>\n",
              "  <tbody>\n",
              "    <tr>\n",
              "      <th>4198</th>\n",
              "      <td>{'en': 'um, and- and you're gonna see x when w...</td>\n",
              "    </tr>\n",
              "    <tr>\n",
              "      <th>8368</th>\n",
              "      <td>{'en': 'so it's a random variable.', 'ar': 'إذ...</td>\n",
              "    </tr>\n",
              "    <tr>\n",
              "      <th>6279</th>\n",
              "      <td>{'en': 'but so, modeling this without addition...</td>\n",
              "    </tr>\n",
              "    <tr>\n",
              "      <th>15958</th>\n",
              "      <td>{'en': 'which is a kind of a bread and butter ...</td>\n",
              "    </tr>\n",
              "    <tr>\n",
              "      <th>11735</th>\n",
              "      <td>{'en': 'it's going to be fun.', 'ar': 'سيكون ا...</td>\n",
              "    </tr>\n",
              "  </tbody>\n",
              "</table>\n",
              "</div>"
            ],
            "text/plain": [
              "                                             translation\n",
              "4198   {'en': 'um, and- and you're gonna see x when w...\n",
              "8368   {'en': 'so it's a random variable.', 'ar': 'إذ...\n",
              "6279   {'en': 'but so, modeling this without addition...\n",
              "15958  {'en': 'which is a kind of a bread and butter ...\n",
              "11735  {'en': 'it's going to be fun.', 'ar': 'سيكون ا..."
            ]
          },
          "metadata": {},
          "execution_count": 20
        }
      ]
    },
    {
      "cell_type": "code",
      "metadata": {
        "colab": {
          "base_uri": "https://localhost:8080/",
          "height": 206
        },
        "id": "vXk3pmaFrG6e",
        "outputId": "5e6b7519-5eef-48f8-d580-27f95df8381f"
      },
      "source": [
        "validate_set['translation'] = validate_set.apply(lambda row: {'en':row['en'], 'ar':row['ar']},\n",
        "                            axis=1)\n",
        "validate_set = validate_set.drop(columns = ['ar', 'en'])  #https://stackoverflow.com/questions/55136065/convert-multiple-pandas-column-into-json \n",
        "validate_set.head()"
      ],
      "execution_count": 21,
      "outputs": [
        {
          "output_type": "execute_result",
          "data": {
            "text/html": [
              "<div>\n",
              "<style scoped>\n",
              "    .dataframe tbody tr th:only-of-type {\n",
              "        vertical-align: middle;\n",
              "    }\n",
              "\n",
              "    .dataframe tbody tr th {\n",
              "        vertical-align: top;\n",
              "    }\n",
              "\n",
              "    .dataframe thead th {\n",
              "        text-align: right;\n",
              "    }\n",
              "</style>\n",
              "<table border=\"1\" class=\"dataframe\">\n",
              "  <thead>\n",
              "    <tr style=\"text-align: right;\">\n",
              "      <th></th>\n",
              "      <th>translation</th>\n",
              "    </tr>\n",
              "  </thead>\n",
              "  <tbody>\n",
              "    <tr>\n",
              "      <th>8059</th>\n",
              "      <td>{'en': 'my actions are going to be stay or qui...</td>\n",
              "    </tr>\n",
              "    <tr>\n",
              "      <th>11813</th>\n",
              "      <td>{'en': 'uh, objects from big,', 'ar': 'آه ، أش...</td>\n",
              "    </tr>\n",
              "    <tr>\n",
              "      <th>4286</th>\n",
              "      <td>{'en': 'so, uh, a bernoulli distribution is on...</td>\n",
              "    </tr>\n",
              "    <tr>\n",
              "      <th>13586</th>\n",
              "      <td>{'en': 'supervisees is for them to think about...</td>\n",
              "    </tr>\n",
              "    <tr>\n",
              "      <th>6239</th>\n",
              "      <td>{'en': 'we'll- we- we'll get cs229 there somed...</td>\n",
              "    </tr>\n",
              "  </tbody>\n",
              "</table>\n",
              "</div>"
            ],
            "text/plain": [
              "                                             translation\n",
              "8059   {'en': 'my actions are going to be stay or qui...\n",
              "11813  {'en': 'uh, objects from big,', 'ar': 'آه ، أش...\n",
              "4286   {'en': 'so, uh, a bernoulli distribution is on...\n",
              "13586  {'en': 'supervisees is for them to think about...\n",
              "6239   {'en': 'we'll- we- we'll get cs229 there somed..."
            ]
          },
          "metadata": {},
          "execution_count": 21
        }
      ]
    },
    {
      "cell_type": "code",
      "metadata": {
        "colab": {
          "base_uri": "https://localhost:8080/",
          "height": 185,
          "referenced_widgets": [
            "e8cbf59e50684c21b1bd651efdf3edf7",
            "55fc2e157b9942979349e69c0bf452aa",
            "b0e3316b4b1c45489c07e3be482fbdd1",
            "8136d3d574344326aef942455882bd65",
            "4f85eddbdec3437ca204c187c9cff87b",
            "635ad1aad2c444729d71d1662c1e5731",
            "3de0881c5b764979877f6103b0c7fc2a",
            "7976f33f2ca246fe942ad5c4db9eba77",
            "14875490d2074bc1b00acd81a89d4176",
            "a1728cc8f110416d9ef51570034cc421",
            "68ba97d021094da991fca4686f82157d",
            "0e0fb07a1ae2401dbb25206f19c268cf",
            "075745e93925460aad319da70a2cb330",
            "8067ac37b2824761adbaff19bdf12056",
            "e8886060df884e029e1b42927b76b8a8",
            "87a73b6307c141afa927d2ad0c6e37c2",
            "9b73136bd9be4356b34773cd506cab2a",
            "5768c0f428f64e0cab2cc80515e893e9",
            "21e1c10424a848a082433cd8e83a76ec",
            "5a45abbb100645ef8218b91152bd2069",
            "f00df8df0cb34aa08ea6f5a3f99c09e1",
            "eb788b76996d4c4dbb58e22801a24c6f",
            "61e3ca7c1f8e4e678e94e3ab3261e5a5",
            "e463f0d5628d4e108de6c755f534a0a5",
            "5936f1c8c0814ad3bcec38c4b346ad1b",
            "cb8b6a1e381d4509abd1b2306c6d75e1",
            "6839d2296dcb4cae9f8d822d02e0b9ae",
            "34738dc330614e1aa95914594133d47e",
            "35ca4b7c5a4543979f2c2af9f637b007",
            "42a0442acca94f22ab594a492585c97a",
            "a51156dad6ef4d70946d3344b3413898",
            "8db1c354072b4e68b33cb85ac3473088",
            "d073aea6d1fe42e38f616aaea8e91bd9"
          ]
        },
        "id": "NvmCVYqiJVuY",
        "outputId": "47291189-35d0-4c1c-ac36-b457efb04eed"
      },
      "source": [
        "import json\n",
        "\n",
        "import mpu.io\n",
        "# https://www.py4u.net/discuss/191017 \n",
        "# https://pandas.pydata.org/docs/reference/api/pandas.DataFrame.to_json.html\n",
        "\n",
        "\n",
        "with open('data.json', 'w', encoding='utf-8') as file:\n",
        "    train_set.to_json(file, orient=\"records\", force_ascii=False, lines = True)\n",
        "\n",
        "translation = load_dataset('json', data_files= 'data.json')\n",
        "# https://huggingface.co/docs/datasets/loading_datasets.html#json-files "
      ],
      "execution_count": 22,
      "outputs": [
        {
          "output_type": "stream",
          "name": "stderr",
          "text": [
            "Using custom data configuration default-e0a5b92b2331a807\n"
          ]
        },
        {
          "output_type": "stream",
          "name": "stdout",
          "text": [
            "Downloading and preparing dataset json/default to /root/.cache/huggingface/datasets/json/default-e0a5b92b2331a807/0.0.0/c2d554c3377ea79c7664b93dc65d0803b45e3279000f993c7bfd18937fd7f426...\n"
          ]
        },
        {
          "output_type": "display_data",
          "data": {
            "application/vnd.jupyter.widget-view+json": {
              "model_id": "e8cbf59e50684c21b1bd651efdf3edf7",
              "version_minor": 0,
              "version_major": 2
            },
            "text/plain": [
              "  0%|          | 0/1 [00:00<?, ?it/s]"
            ]
          },
          "metadata": {}
        },
        {
          "output_type": "display_data",
          "data": {
            "application/vnd.jupyter.widget-view+json": {
              "model_id": "0e0fb07a1ae2401dbb25206f19c268cf",
              "version_minor": 0,
              "version_major": 2
            },
            "text/plain": [
              "  0%|          | 0/1 [00:00<?, ?it/s]"
            ]
          },
          "metadata": {}
        },
        {
          "output_type": "stream",
          "name": "stdout",
          "text": [
            "Dataset json downloaded and prepared to /root/.cache/huggingface/datasets/json/default-e0a5b92b2331a807/0.0.0/c2d554c3377ea79c7664b93dc65d0803b45e3279000f993c7bfd18937fd7f426. Subsequent calls will reuse this data.\n"
          ]
        },
        {
          "output_type": "display_data",
          "data": {
            "application/vnd.jupyter.widget-view+json": {
              "model_id": "61e3ca7c1f8e4e678e94e3ab3261e5a5",
              "version_minor": 0,
              "version_major": 2
            },
            "text/plain": [
              "  0%|          | 0/1 [00:00<?, ?it/s]"
            ]
          },
          "metadata": {}
        }
      ]
    },
    {
      "cell_type": "code",
      "metadata": {
        "colab": {
          "base_uri": "https://localhost:8080/",
          "height": 185,
          "referenced_widgets": [
            "4d77717970cb42d69c8f1f663880bc44",
            "ebd86414001845e3a29af7659fce9765",
            "73b4ddc90d3a4dd4b05457be0e42379d",
            "acb1468303b04c91b12cb18a8fea0145",
            "d3b0621fb8394c7fbc498fa6b8486ea6",
            "2d0bb5ef3abf4380a6b2dd59a21a5ea0",
            "17f03ace0f6d47a9a85ac4a6dfed8306",
            "6fd5e44c76ea42b893de231f05c06ffa",
            "56c51246b47f495f88d230b6636d9570",
            "fd52efe1c3754a2eacc979a45d9c2b39",
            "1bcdb7e2066947f7bd81ab2d47426258",
            "3df036f5fa60436e84205cbb62514f44",
            "dd2493fbec7446788044ef5971d7a6e1",
            "f992b34ed8374fd1b4a409d4b7f8245e",
            "da5007978bdc4902ab66b0cd58865f55",
            "66148ce6508d4be08c3d2d81b49f9cc7",
            "f21fadc4e5c94baf9f19226ba2867428",
            "6e5e3a12c8d44b24bf73819a8d6c1635",
            "70af695756f54b4fa31b30391decb66a",
            "16bf8fe3b75f4ecab0d754456c967cbe",
            "d8e3e247f981416cb072c23d9f8c57f1",
            "8eb01b44f32d4f768309ab8088bd1b3e",
            "a82366b21d3a424fb4aef687ea1621ad",
            "92d4f8d1df154e31aed080a5768d09a1",
            "2378aba17c664756b79f004d77ceb610",
            "611eff0e4d4b4734a594f046f1d9e3ff",
            "c167e4bd50be4ac1b538d31664edc0a1",
            "6ca836749d764b248b5d20384e5605a2",
            "076e60fec4e94d4f8d2eedc112cfd490",
            "bfe1fc56cf1a490591004fda4dd68c08",
            "86bc3487451045f09cd62f553f59b566",
            "b3998a2000a740cf810194b921a6b102",
            "1bffd1027bc34ad1a8045932d2e75705"
          ]
        },
        "id": "MykwzjY-ri1i",
        "outputId": "ad01425d-c051-4a28-bb11-5791f106a0ed"
      },
      "source": [
        "with open('data_val.json', 'w', encoding='utf-8') as file:\n",
        "    validate_set.to_json(file, orient=\"records\", force_ascii=False, lines = True)\n",
        "\n",
        "translation_val = load_dataset('json', data_files= 'data_val.json')\n",
        "# https://huggingface.co/docs/datasets/loading_datasets.html#json-files "
      ],
      "execution_count": 23,
      "outputs": [
        {
          "output_type": "stream",
          "name": "stderr",
          "text": [
            "Using custom data configuration default-8b5be33cc942c16b\n"
          ]
        },
        {
          "output_type": "stream",
          "name": "stdout",
          "text": [
            "Downloading and preparing dataset json/default to /root/.cache/huggingface/datasets/json/default-8b5be33cc942c16b/0.0.0/c2d554c3377ea79c7664b93dc65d0803b45e3279000f993c7bfd18937fd7f426...\n"
          ]
        },
        {
          "output_type": "display_data",
          "data": {
            "application/vnd.jupyter.widget-view+json": {
              "model_id": "4d77717970cb42d69c8f1f663880bc44",
              "version_minor": 0,
              "version_major": 2
            },
            "text/plain": [
              "  0%|          | 0/1 [00:00<?, ?it/s]"
            ]
          },
          "metadata": {}
        },
        {
          "output_type": "display_data",
          "data": {
            "application/vnd.jupyter.widget-view+json": {
              "model_id": "3df036f5fa60436e84205cbb62514f44",
              "version_minor": 0,
              "version_major": 2
            },
            "text/plain": [
              "  0%|          | 0/1 [00:00<?, ?it/s]"
            ]
          },
          "metadata": {}
        },
        {
          "output_type": "stream",
          "name": "stdout",
          "text": [
            "Dataset json downloaded and prepared to /root/.cache/huggingface/datasets/json/default-8b5be33cc942c16b/0.0.0/c2d554c3377ea79c7664b93dc65d0803b45e3279000f993c7bfd18937fd7f426. Subsequent calls will reuse this data.\n"
          ]
        },
        {
          "output_type": "display_data",
          "data": {
            "application/vnd.jupyter.widget-view+json": {
              "model_id": "a82366b21d3a424fb4aef687ea1621ad",
              "version_minor": 0,
              "version_major": 2
            },
            "text/plain": [
              "  0%|          | 0/1 [00:00<?, ?it/s]"
            ]
          },
          "metadata": {}
        }
      ]
    },
    {
      "cell_type": "code",
      "metadata": {
        "colab": {
          "base_uri": "https://localhost:8080/"
        },
        "id": "EE_1RZZqScgz",
        "outputId": "e2c85196-6c2a-456b-8aab-fbc12f79fe46"
      },
      "source": [
        "translation"
      ],
      "execution_count": 24,
      "outputs": [
        {
          "output_type": "execute_result",
          "data": {
            "text/plain": [
              "DatasetDict({\n",
              "    train: Dataset({\n",
              "        features: ['translation'],\n",
              "        num_rows: 13309\n",
              "    })\n",
              "})"
            ]
          },
          "metadata": {},
          "execution_count": 24
        }
      ]
    },
    {
      "cell_type": "code",
      "metadata": {
        "colab": {
          "base_uri": "https://localhost:8080/"
        },
        "id": "JoBttuJoys07",
        "outputId": "300a1162-010b-481d-d30d-05cf9597c60f"
      },
      "source": [
        "translation_val"
      ],
      "execution_count": 25,
      "outputs": [
        {
          "output_type": "execute_result",
          "data": {
            "text/plain": [
              "DatasetDict({\n",
              "    train: Dataset({\n",
              "        features: ['translation'],\n",
              "        num_rows: 1676\n",
              "    })\n",
              "})"
            ]
          },
          "metadata": {},
          "execution_count": 25
        }
      ]
    },
    {
      "cell_type": "markdown",
      "metadata": {
        "id": "QtyDXRayJVuf"
      },
      "source": [
        "# Fine tuning \n",
        "I will be using 'data' dataset. It contains (2 coursera courses, springer file, DS_codata_org, yt_stanford). \n",
        "\n",
        "I will mainly depend on this Nb from huggingface notebooks\n",
        "https://github.com/huggingface/notebooks/blob/master/examples/translation.ipynb "
      ]
    },
    {
      "cell_type": "code",
      "metadata": {
        "id": "s-jie7UwNiaz"
      },
      "source": [
        "cuda = torch.device('cuda') "
      ],
      "execution_count": 26,
      "outputs": []
    },
    {
      "cell_type": "markdown",
      "metadata": {
        "id": "UwdKsgtrNxEl"
      },
      "source": [
        "### Create custom Datasets Class"
      ]
    },
    {
      "cell_type": "markdown",
      "metadata": {
        "id": "tgTz7tDEUcVt"
      },
      "source": [
        "## Preprocessing the data"
      ]
    },
    {
      "cell_type": "code",
      "metadata": {
        "colab": {
          "base_uri": "https://localhost:8080/"
        },
        "id": "_SvcbE0lUfiV",
        "outputId": "978364f3-956b-4ccb-e06e-d2ea37bea48f"
      },
      "source": [
        "from transformers import AutoTokenizer\n",
        "    \n",
        "tokenizer = AutoTokenizer.from_pretrained(model_checkpoint, use_fast=False)  #https://discuss.huggingface.co/t/error-with-new-tokenizers-urgent/2847/4"
      ],
      "execution_count": 50,
      "outputs": [
        {
          "output_type": "stream",
          "name": "stderr",
          "text": [
            "loading configuration file https://huggingface.co/google/mt5-small/resolve/main/config.json from cache at /root/.cache/huggingface/transformers/97693496c1a0cae463bd18428187f9e9924d2dfbadaa46e4d468634a0fc95a41.dadce13f8f85f4825168354a04675d4b177749f8f11b167e87676777695d4fe4\n",
            "Model config MT5Config {\n",
            "  \"architectures\": [\n",
            "    \"MT5ForConditionalGeneration\"\n",
            "  ],\n",
            "  \"d_ff\": 1024,\n",
            "  \"d_kv\": 64,\n",
            "  \"d_model\": 512,\n",
            "  \"decoder_start_token_id\": 0,\n",
            "  \"dropout_rate\": 0.1,\n",
            "  \"eos_token_id\": 1,\n",
            "  \"feed_forward_proj\": \"gated-gelu\",\n",
            "  \"initializer_factor\": 1.0,\n",
            "  \"is_encoder_decoder\": true,\n",
            "  \"layer_norm_epsilon\": 1e-06,\n",
            "  \"model_type\": \"mt5\",\n",
            "  \"num_decoder_layers\": 8,\n",
            "  \"num_heads\": 6,\n",
            "  \"num_layers\": 8,\n",
            "  \"pad_token_id\": 0,\n",
            "  \"relative_attention_num_buckets\": 32,\n",
            "  \"tie_word_embeddings\": false,\n",
            "  \"tokenizer_class\": \"T5Tokenizer\",\n",
            "  \"transformers_version\": \"4.12.5\",\n",
            "  \"use_cache\": true,\n",
            "  \"vocab_size\": 250112\n",
            "}\n",
            "\n",
            "loading file https://huggingface.co/google/mt5-small/resolve/main/spiece.model from cache at /root/.cache/huggingface/transformers/37d0f67f084f8c5fc5589e0bba5ff3c6307af833bb0b7f4eb33fbfd8d4038a9d.84ea7af2df68dc8db434d3160aab65cce8ac63ce5b6f7743f8c9a4a14b4f77e2\n",
            "loading file https://huggingface.co/google/mt5-small/resolve/main/added_tokens.json from cache at None\n",
            "loading file https://huggingface.co/google/mt5-small/resolve/main/special_tokens_map.json from cache at /root/.cache/huggingface/transformers/685ac0ca8568ec593a48b61b0a3c272beee9bc194a3c7241d15dcadb5f875e53.f76030f3ec1b96a8199b2593390c610e76ca8028ef3d24680000619ffb646276\n",
            "loading file https://huggingface.co/google/mt5-small/resolve/main/tokenizer_config.json from cache at /root/.cache/huggingface/transformers/6a9e52d6dd21568e37b65fc180ada927968e8f7124f0acd6efcaf90cd2e0f4bb.4b81e5d952ad810ca1de2b3e362b9a26a5cc77b4b75daf20caf69fb838751c32\n",
            "loading file https://huggingface.co/google/mt5-small/resolve/main/tokenizer.json from cache at None\n",
            "loading configuration file https://huggingface.co/google/mt5-small/resolve/main/config.json from cache at /root/.cache/huggingface/transformers/97693496c1a0cae463bd18428187f9e9924d2dfbadaa46e4d468634a0fc95a41.dadce13f8f85f4825168354a04675d4b177749f8f11b167e87676777695d4fe4\n",
            "Model config MT5Config {\n",
            "  \"architectures\": [\n",
            "    \"MT5ForConditionalGeneration\"\n",
            "  ],\n",
            "  \"d_ff\": 1024,\n",
            "  \"d_kv\": 64,\n",
            "  \"d_model\": 512,\n",
            "  \"decoder_start_token_id\": 0,\n",
            "  \"dropout_rate\": 0.1,\n",
            "  \"eos_token_id\": 1,\n",
            "  \"feed_forward_proj\": \"gated-gelu\",\n",
            "  \"initializer_factor\": 1.0,\n",
            "  \"is_encoder_decoder\": true,\n",
            "  \"layer_norm_epsilon\": 1e-06,\n",
            "  \"model_type\": \"mt5\",\n",
            "  \"num_decoder_layers\": 8,\n",
            "  \"num_heads\": 6,\n",
            "  \"num_layers\": 8,\n",
            "  \"pad_token_id\": 0,\n",
            "  \"relative_attention_num_buckets\": 32,\n",
            "  \"tie_word_embeddings\": false,\n",
            "  \"tokenizer_class\": \"T5Tokenizer\",\n",
            "  \"transformers_version\": \"4.12.5\",\n",
            "  \"use_cache\": true,\n",
            "  \"vocab_size\": 250112\n",
            "}\n",
            "\n"
          ]
        }
      ]
    },
    {
      "cell_type": "code",
      "metadata": {
        "id": "R0QWBs-VXOiZ"
      },
      "source": [
        "if \"t5\" in model_checkpoint:\n",
        "    tokenizer.src_lang = \"en_XX\"\n",
        "    tokenizer.tgt_lang = \"ar_AR\"  \n",
        "    tokenizer.source_prefix = \"translate English to Arabic: \""
      ],
      "execution_count": 51,
      "outputs": []
    },
    {
      "cell_type": "code",
      "metadata": {
        "colab": {
          "base_uri": "https://localhost:8080/"
        },
        "id": "ZlbZDFfXY1c0",
        "outputId": "0e06ca0d-262f-4776-d132-b3d68091aeab"
      },
      "source": [
        "tokenizer(\"Hello, this one sentence!\")"
      ],
      "execution_count": 55,
      "outputs": [
        {
          "output_type": "execute_result",
          "data": {
            "text/plain": [
              "{'input_ids': [30273, 261, 714, 1371, 259, 98923, 309, 1], 'attention_mask': [1, 1, 1, 1, 1, 1, 1, 1]}"
            ]
          },
          "metadata": {},
          "execution_count": 55
        }
      ]
    },
    {
      "cell_type": "code",
      "metadata": {
        "colab": {
          "base_uri": "https://localhost:8080/"
        },
        "id": "v8rsuzp6XzKS",
        "outputId": "0452ccbe-ecd1-4556-e851-bc1839f74de8"
      },
      "source": [
        "tokenizer([\"Hello, this one sentence!\", \"This is another sentence.\"])"
      ],
      "execution_count": 56,
      "outputs": [
        {
          "output_type": "execute_result",
          "data": {
            "text/plain": [
              "{'input_ids': [[30273, 261, 714, 1371, 259, 98923, 309, 1], [1494, 339, 259, 7845, 259, 98923, 260, 1]], 'attention_mask': [[1, 1, 1, 1, 1, 1, 1, 1], [1, 1, 1, 1, 1, 1, 1, 1]]}"
            ]
          },
          "metadata": {},
          "execution_count": 56
        }
      ]
    },
    {
      "cell_type": "code",
      "metadata": {
        "id": "65eQa2UiZqSN"
      },
      "source": [
        "# if model_checkpoint in [\"t5-small\", \"t5-base\", \"t5-larg\", \"t5-3b\", \"t5-11b\"]:\n",
        "#     prefix = \"translate English to Arabic: \"\n",
        "# else:\n",
        "#     prefix = \"\""
      ],
      "execution_count": 57,
      "outputs": []
    },
    {
      "cell_type": "markdown",
      "source": [
        "since we are using mt5 small, I will add this manually"
      ],
      "metadata": {
        "id": "fsfvwRb_47Lg"
      }
    },
    {
      "cell_type": "code",
      "source": [
        "prefix = \"translate English to Arabic: \""
      ],
      "metadata": {
        "id": "9ECDon6l4wzk"
      },
      "execution_count": 58,
      "outputs": []
    },
    {
      "cell_type": "code",
      "source": [
        "model_checkpoint"
      ],
      "metadata": {
        "colab": {
          "base_uri": "https://localhost:8080/",
          "height": 35
        },
        "id": "CD5iWs-q41LN",
        "outputId": "ff4b8e41-979c-4349-8818-c1e6c4416b57"
      },
      "execution_count": 59,
      "outputs": [
        {
          "output_type": "execute_result",
          "data": {
            "application/vnd.google.colaboratory.intrinsic+json": {
              "type": "string"
            },
            "text/plain": [
              "'google/mt5-small'"
            ]
          },
          "metadata": {},
          "execution_count": 59
        }
      ]
    },
    {
      "cell_type": "code",
      "metadata": {
        "id": "W63HI-Y7Z3Yi"
      },
      "source": [
        "max_input_length = 128\n",
        "max_target_length = 128\n",
        "source_lang = \"en\"\n",
        "target_lang = \"ar\"\n",
        "\n",
        "def preprocess_function(examples):\n",
        "    inputs = [prefix + ex[source_lang] for ex in examples[\"translation\"]]\n",
        "    targets = [ex[target_lang] for ex in examples[\"translation\"]]\n",
        "    model_inputs = tokenizer(inputs, max_length=max_input_length, truncation=True)\n",
        "\n",
        "    # Setup the tokenizer for targets\n",
        "    with tokenizer.as_target_tokenizer():\n",
        "        labels = tokenizer(targets, max_length=max_target_length, truncation=True)\n",
        "\n",
        "    model_inputs[\"labels\"] = labels[\"input_ids\"]\n",
        "    return model_inputs"
      ],
      "execution_count": 60,
      "outputs": []
    },
    {
      "cell_type": "code",
      "metadata": {
        "id": "qx0X8kTKLnXF"
      },
      "source": [
        "import datasets\n",
        "import random\n",
        "import pandas as pd\n",
        "from IPython.display import display, HTML\n",
        "\n",
        "def show_random_elements(dataset, num_examples=5):\n",
        "    assert num_examples <= len(dataset), \"Can't pick more elements than there are in the dataset.\"\n",
        "    picks = []\n",
        "    for _ in range(num_examples):\n",
        "        pick = random.randint(0, len(dataset)-1)\n",
        "        while pick in picks:\n",
        "            pick = random.randint(0, len(dataset)-1)\n",
        "        picks.append(pick)\n",
        "    \n",
        "    df = pd.DataFrame(dataset[picks])\n",
        "    for column, typ in dataset.features.items():\n",
        "        if isinstance(typ, datasets.ClassLabel):\n",
        "            df[column] = df[column].transform(lambda i: typ.names[i])\n",
        "    display(HTML(df.to_html()))"
      ],
      "execution_count": 61,
      "outputs": []
    },
    {
      "cell_type": "code",
      "metadata": {
        "colab": {
          "base_uri": "https://localhost:8080/",
          "height": 1000
        },
        "id": "zIK5d8aFLuyi",
        "outputId": "e7577120-1dd3-430d-eedb-fe00935d79d7"
      },
      "source": [
        "show_random_elements(translation[\"train\"])"
      ],
      "execution_count": 62,
      "outputs": [
        {
          "output_type": "display_data",
          "data": {
            "text/html": [
              "<table border=\"1\" class=\"dataframe\">\n",
              "  <thead>\n",
              "    <tr style=\"text-align: right;\">\n",
              "      <th></th>\n",
              "      <th>translation</th>\n",
              "    </tr>\n",
              "  </thead>\n",
              "  <tbody>\n",
              "    <tr>\n",
              "      <th>0</th>\n",
              "      <td>{'en': 'and because you're fitting the data just for one house, um, you know,', 'ar': 'ونظرًا لأنك تلائم البيانات لمنزل واحد فقط ، كما تعلم ،'}</td>\n",
              "    </tr>\n",
              "    <tr>\n",
              "      <th>1</th>\n",
              "      <td>{'en': 'um, are we training theta to, uh, uh, um,', 'ar': 'أممم هل نقوم بتدريب ثيتا على ، أه ، أه ، أم ،'}</td>\n",
              "    </tr>\n",
              "    <tr>\n",
              "      <th>2</th>\n",
              "      <td>{'en': 'hello, today we're going to talk about another way to find central nodes in the network. just like pagerank, this way was also developed in the context of how a search engine might go about finding important web pages given a query using the hyperlink structure of the web. so the first step will be to find a set of relevant webpages. so for example, web pages that contain the query string in the text of the web page or for some reason the search engine thinks these might be an important page to look at. so these are potential authorities, potential pages that are important given the query that the user submitted. this will be called the root set. and so let's say in this example that nodes a, b, and c are these potential authorities, this is the root set. and the next step will be to find all the web pages that link to any page in the root set, and these pages will be potential hubs. so hubs are pages that are not themselves necessarily relevant to the query that the user submitted, but they link to pages that are relevant. so they're pages that are good at pointing at things that may be relevant. and let's say that in this example the nodes e, f, g, d, and h are these pages that point to at least one of the pages in the root set. this whole set of nodes, whatever it was in the root and anything that points to something in the root, is going to be called the base set. and we're going to consider all the hyperlinks that link any node in the base set to any other node in the base set. so there may be many other edges in this network and we're going to consider them all. and so this is the network that we're going to use in order to find the important web pages. so the difference between this new way hubs and authorities and pagerank is that rather than taking the full network, we're starting with a subset of the network. again, looking at first just the root set, the web pages that may be relevant, and then any page that links to it. and so these will be just the subset of the full network of the web. now we're going to run the hits algorithm on this network. and the hits algorithm just like pagerank works by computing k iterations and keeping track of the score for every node. now, the difference is that the hits algorithm is going to keep track of two kinds of scores for every node, the authority score and the hub score. the first step is to give every node an authority and a hub score of 1, and then we're going to apply two different rules. these rules are going to be similar to the rules that we used when we computed pagerank, but again now we're going to have to keep track of two different scores. so the first rule is going to be the authority update rule, which says that each node's authority score is going to be the sum of the hub scores of each node that points to that node. and then the other rule is the hub update rule, which is sort of the symmetric thing. so each node's hub score is going to be the sum of the authority scores of each node that it points to. and then we're going to have to do some normalizations because these scores are going to keep growing and growing, so at every iteration we're going to normalize the hub and the authority score. and so, for example, the way you normalize the authority score is you take each node's authority score, let's say j, and you divide the authority score of j by the sum of all the authorities in the whole network. and then we're going to repeat this process eight times. now, this might seem a little abstract at this point but let's run through an example to see exactly how it works. so we're going to take the network that we had just discussed, and we're going to compute two iterations of the hits algorithm of the network. so just like in pagerank, we're going to have to keep track of the old scores to be able to compute the new scores. and because the first step is to give every node a hub and authority score of one, we're going to start there. we're going to give every node an old authority on hub score of 1, and then we're going to compute the new scores. so let's start with the authority scores. we look at node a and we're going to look at what nodes point to node a in order to figure out what the new authority score of a is, and it turns out that c, g, and h point to a. and because c, g, and h all have hub score of 1, then the new authority score of a is going to be 3. next, node b, nodes d and e point to b, and e and d both have hub score of 1, so b is going to have a new authority score of 2. so you can see at this point that what we're really doing when we get this new authority score is looking at the in-degree of each one of the nodes, and that's what's going to happen. so, for example, node c has an in-degree of 5. and because all the nodes at this point have a hub score of 1, then c is going to have a new authority score of 5. and then d has two nodes pointing to it, so it has a new authority score of 2. and e has in-degree of 1, f has in-degree of 1. g has in-degree of 0, so it's going to have a new authority score of 0. and h has one node pointing to it, so it has a new authority score of 1. okay, now let's move to the new hub scores. it's going to be very similar, but now instead of looking at the in-degree of every node, we're going to look at the auth degree. and so, for example, a has an auth degree of 1, it points to d. and now we have to look at these old authority score. and again, because this is our first step, every node has an old authority score of 1. and d does as well, and so a is going to have a new hub score of 1. b points to two things, both of them have an authority score of 1, and so b has hub score of 2. c has an auth degree of 1, so it has a new hub score of 1. d has an auth degree of 2. e has an auth degree of 4. f has an auth degree of 2. g has auth degree 2, and h has auth degree 1. okay, so the hub for the new hub scores, all we had to do was figure out what the auth degree of each node was. next, we have to normalize. and so, to normalize we have to add up the authority scores and add up the hub scores. in this case, they'll both add up to 15. it's not the case that in every duration they're going to add up to the same thing, but in the first one they do. so they both in this case add up to 15. and so we have to divide all the scores by 15. and so if we do that we normalize its scores. and now the new authority and hub scores are going to become our old scores. and we're ready to go for the next iteration, which is going to be slightly more interesting since now the nodes don't all have the same authority and hub score, so we have to pay attention at the nodes that we're looking at. so let's start with node a. we want to figure out the new authority score of a, and so we have to figure out what nodes point to a. so c, g, and h all point to a. and now we have to look at the hub scores of c, g, and h, which are 1/15, 2/15, and 1/15. and so we add those up and we get 4/15, and that is going to be a new authority score. now let's move to b. b has two nodes pointing to it, e and d. and they have old hub score of 2/15 and 4/15, which adds up to 6/15. and then c has five things pointing to it, nodes e, f, g, b, and d, which have these old hub scores that i'm highlighting here. and they add up to 12/15, so that's c's new authority score. d has two things pointing to it with old hub score of 1/15 and 4/14, which adds up to 1/3, and so on, right? we can continue doing this for all of the other nodes and find all of the new authority scores. now, let's go and try to find the new hub scores. so, looking at a, again now, we're not looking at the in-degree, we're not looking at who points to it, but who does a point to. and now we have to pay attention to the old authority scores of those nodes. so in this case, a points to d, and d has a old authority score of 2/15, so that's going to be a's new hub score. and then for b it points to e and d, and they have and old authorities score of 1/15 and 1/3, which adds up to 2/5, and so that's going to be b's new hub score. c points to a and a has an old authority score of 1/5, so that's c's new hub score. d points to b and c, and they have an old authority score of 2/15 and 1/3, which adds up to 7/15, and then so on. we can continue doing this for all the other nodes and find the new hub scores. next we have to normalize. so we have to add up all the authority scores. in this case, they add up to 35/15. so we have to divide every new authority score by 35/15. so if we do that, these are the updated normalized scores. and we do the same thing for the hubs. so we add up the hub scores for all the nodes, which adds up to 3 in this case. and so we have to divide every new hub score by 3, and then these are the updated normalized scores. and so these are our final new authority and hub scores after two iterations of the hits algorithm. so just like in pagerank, we wonder what happens to the scores if we continue iterating the algorithm over and over and over again. is it going to convert to a unique value? well, let's take a look. so here are the scores that we just computed for k equals 2, 2 iterations, these are the authority scores. so what happens as we go to 4 iterations? well, this is what you would find. and 6 iterations, this is what you would find. and same thing for the hub scores. these are the scores that we found so far with 2 iterations, and we can figure out what they are for 4 iterations and 6 iterations. so what you see here is that for some nodes these scores aren't changing, but for others they are changing. so here i'm highlighting the nodes for which the authority or hub score continued to change after 6 iterations. so for example, node b here starts out with an authority score of .15. then after 4 iterations, it goes to .18. then after 6 iterations, it goes to .19. so will this score for b continue to grow or will it saturate at some point, what could happen here? and so if we continue iterating, here i'm showing you what happens to the hub and authority score of node b. so in this plot on the x-axis we have the number of iterations, and then the y-axis we have the authority and hub scores for node b. as it turns out for most networks, as k gets larger, the authority and the hub scores actually do converge to a unique value. and in this case, this is a unique value that you find as k becomes larger and larger. and so for this network the nodes with the highest authority score are b and c, and the nodes with the highest hub score are d and e. and if you remember the original set up of the network, b, c, and a, were these root nodes, right? the ones that were supposed to be very relevant, and it turns out that b and c have the highest authority scores. and then biggest hubs, the nodes that are good at pointing at nodes that are particularly irrelevant or particular authorities, are d and e. and if you notice both a and d point to b and c, as well as other nodes. in particular, d only points to b and c, and e points to them too, and also others. now, to compute the hub scores and the authority scores of network using networkx, you can use the function hits and give it the graph that you're analyzing as input. and hits will output two dictionaries, keyed by node, that contain the hub and authority scores of all the nodes in that network. so in summary, we find that the hits algorithm starts by constructing a root set of relevant web pages and then expands it to a base set using the network structure. and then hits will assign an authority score and a hub score to every node in the network. and here, nodes that have incoming edges from good hubs are thought to be good authorities, and then nodes that have outgoing edges to good authorities are thought to be good hubs. authority scores and hub scores for most networks will converge to a unique value. and you can use networkx to find the scores by using the function hits on any network that you want to. and that is all for this video, and i will see you next time.', 'ar': 'مرحبا، اليوم سوف نتحدث عن طريقة أخرى للعثور على العقد المركزية في الشبكة. تمامًا مثل PageRank، تم تطوير هذه الطريقة أيضًا في سياق كيف يمكن لمحرك البحث العثور على صفحات ويب مهمة نظرًا لاستعلام باستخدام بنية الارتباط التشعبي للويب. لذا ستكون الخطوة الأولى هي العثور على مجموعة من صفحات الويب ذات الصلة. على سبيل المثال، صفحات الويب التي تحتوي على سلسلة الاستعلام في نص صفحة الويب أو لسبب ما يعتقد محرك البحث أن هذه قد تكون صفحة مهمة للنظر فيها. لذلك هذه هي السلطات المحتملة، والصفحات المحتملة التي هي مهمة بالنظر إلى الاستعلام الذي قدمه المستخدم. وهذا ما يسمى مجموعة الجذر. لذلك دعونا نقول في هذا المثال أن العقد A، B، C هي هذه السلطات المحتملة، هذه هي مجموعة الجذر. وستكون الخطوة التالية هي العثور على جميع صفحات الويب التي ترتبط بأي صفحة في مجموعة الجذر، وستكون هذه الصفحات محاور محتملة. لذا فإن لوحات الوصل هي صفحات لا تكون بالضرورة ذات صلة بالاستعلام الذي أرسله المستخدم، ولكنها ترتبط بصفحات ذات صلة. لذا فهي صفحات جيدة في الإشارة إلى الأشياء التي قد تكون ذات صلة. ودعونا نقول أنه في هذا المثال العقد E و F و G و D و H هي هذه الصفحات التي تشير إلى واحدة على الأقل من الصفحات في مجموعة الجذر. هذه المجموعة الكاملة من العقد، مهما كان في الجذر وأي شيء يشير إلى شيء في الجذر، سوف يطلق عليه مجموعة القاعدة. ونحن في طريقنا للنظر في جميع الارتباطات التشعبية التي تربط أي عقدة في قاعدة تعيين إلى أي عقدة أخرى في مجموعة قاعدة. لذلك قد يكون هناك العديد من الحواف الأخرى في هذه الشبكة ونحن في طريقنا للنظر فيها جميعا. وهذه هي الشبكة التي سنستخدمها من أجل العثور على صفحات الويب الهامة. لذا فإن الفرق بين هذه المحاور والسلطات والموقع الجديد هو أنه بدلاً من أخذ الشبكة الكاملة، فإننا نبدأ بمجموعة فرعية من الشبكة. مرة أخرى، والنظر في البداية فقط مجموعة الجذر، وصفحات الويب التي قد تكون ذات صلة، ثم أي صفحة التي ترتبط به. وهكذا ستكون هذه مجرد مجموعة فرعية من الشبكة الكاملة للويب. الآن نحن ذاهبون لتشغيل خوارزمية هيتس على هذه الشبكة. وخوارزمية هيتس تماما مثل باجيرانك يعمل عن طريق حساب تكرارات ك وتتبع النتيجة لكل عقدة. الآن، والفرق هو أن خوارزمية هيتس تسير لتتبع نوعين من الدرجات لكل عقدة، درجة السلطة والنتيجة المحور. الخطوة الأولى هي إعطاء كل عقدة سلطة ونتيجة مركز 1، وبعد ذلك سنقوم بتطبيق قاعدتين مختلفتين. هذه القواعد ستكون مشابهة للقواعد التي استخدمناها عندما قمنا بحساب PageRank، ولكن مرة أخرى الآن سيكون لدينا لتتبع درجتين مختلفتين. لذا فإن القاعدة الأولى ستكون قاعدة تحديث السلطة، التي تقول أن نقاط سلطة كل عقدة ستكون مجموع درجات المحور لكل عقدة تشير إلى تلك العقدة. ثم القاعدة الأخرى هي قاعدة تحديث المحور، وهو نوع من الشيء المتماثل. لذا فإن نقاط محور كل عقدة ستكون مجموع درجات السلطة لكل عقدة تشير إليها. وبعد ذلك سيكون علينا القيام ببعض عمليات التطبيع لأن هذه الدرجات سوف تستمر في النمو والنمو، لذلك في كل تكرار سنقوم بتطبيع المركز ونقاط السلطة. وهكذا، على سبيل المثال، الطريقة التي تطبيع درجة السلطة هي أنك تأخذ نقاط سلطة كل عقدة، دعنا نقول ي، وتقسم درجة سلطة ي على مجموع جميع السلطات في الشبكة بأكملها. ومن ثم سنكرر هذه العملية ثماني مرات. الآن، قد يبدو هذا مجردا قليلا في هذه المرحلة ولكن دعونا تشغيل من خلال مثال لنرى بالضبط كيف يعمل. لذلك نحن ذاهبون إلى اتخاذ الشبكة التي ناقشناها للتو، ونحن في طريقنا لحساب اثنين من التكرارات من خوارزمية هيتس للشبكة. لذلك تماما كما هو الحال في PageRank، ونحن في طريقنا إلى تتبع النتائج القديمة لتكون قادرة على حساب عشرات جديدة. ولأن الخطوة الأولى هي إعطاء كل عقدة مركز ونقاط سلطة واحدة، سنبدأ من هناك. سنعطي كل عقدة سلطة قديمة على درجة المحور 1، وبعد ذلك سنقوم بحساب الدرجات الجديدة. لذلك دعونا نبدأ مع عشرات السلطة. ونحن ننظر إلى العقدة A ونحن في طريقنا للنظر في ما تشير العقد إلى العقدة A من أجل معرفة ما هي النتيجة السلطة الجديدة من A، واتضح أن C، G، H تشير إلى A. ولأن C، G، و H جميعا لديهم درجة محور 1، ثم النتيجة السلطة الجديدة من A ستكون 3. بعد ذلك، تشير العقدة B والعقدتان D و E إلى B، و E و D على حد سواء إلى درجة المحور 1، لذلك سيكون لدى B درجة سلطة جديدة من 2. لذا يمكنكم أن تروا في هذه المرحلة أن ما نقوم به حقاً عندما نحصل على هذه النتيجة الجديدة هو النظر إلى درجة كل واحدة من العقد، وهذا ما سيحدث. لذلك، على سبيل المثال، العقدة C لديها في درجة 5. ولأن جميع العقد في هذه المرحلة لها درجة محور من 1، ثم C سيكون لها درجة سلطة جديدة من 5. ثم D لديها عقدتين تشير إلى ذلك، لذلك لديها درجة سلطة جديدة من 2. و E في درجة 1، F لديه في درجة 1. G لديها في درجة 0، لذلك سيكون لها درجة سلطة جديدة من 0. و H لديه عقدة واحدة تشير إليها، لذلك لديها درجة سلطة جديدة من 1. حسنا، الآن دعونا ننتقل إلى نقاط المركز الجديدة. سيكون الأمر متشابهًا جدًا، ولكن الآن بدلاً من النظر إلى درجة كل عقدة، سننظر إلى درجة المصادقة. وهكذا، على سبيل المثال، A لديه درجة المصادقة 1، فإنه يشير إلى D والآن علينا أن ننظر إلى هذه النتيجة السلطة القديمة. ومرة أخرى، لأن هذه هي الخطوة الأولى لدينا، كل عقدة لديها درجة سلطة قديمة من 1. و D يفعل كذلك، وهكذا A سيكون لها درجة محور جديدة من 1. يشير B إلى شيئين، كلاهما لديه درجة سلطة من 1، وهكذا B لديه درجة المحور 2. C لديه درجة المصادقة من 1، لذلك لديه درجة محور جديدة من 1. D لديه درجة المصادقة من 2. E لديه درجة المصادقة من 4. F لديه درجة المصادقة من 2. G لديه درجة المصادقة 2، و H لديه درجة المصادقة 1. حسناً، إذاً مركز نقاط المحور الجديدة، كل ما كان علينا فعله هو معرفة درجة المصادقة لكل عقدة بعد ذلك، علينا أن نطبيع. وهكذا، لتطبيع لدينا لإضافة ما يصل درجات السلطة وإضافة ما يصل عشرات المحور. في هذه الحالة، سيضيف كلاهما ما يصل إلى 15. انها ليست الحالة أنه في كل مدة أنها سوف تضيف ما يصل إلى نفس الشيء، ولكن في أول واحد أنها تفعل. لذلك كلاهما في هذه الحالة إضافة ما يصل إلى 15. لذا علينا أن نقسم كل الدرجات على 15 وهكذا إذا فعلنا ذلك نحن تطبيع درجاته. والآن السلطة الجديدة والعشرات المحورية ستصبح حساباتنا القديمة ونحن مستعدون للذهاب للتكرار التالي، الذي سيكون أكثر إثارة للاهتمام قليلا منذ الآن العقد ليس لها نفس السلطة والنتيجة المحور، لذلك علينا أن نولي اهتماما في العقد التي ننظر إليها. لذا دعونا نبدأ بالعقدة (أ) نريد معرفة درجة السلطة الجديدة من (أ)، ولذا علينا معرفة ما تشير العقد إلى (أ )، (ج)، و (ح) تشير جميعها إلى (أ) والآن علينا أن ننظر إلى نقاط المحور (C، G، و (H)، وهي 1/15، 2/15، و 1/15. وهكذا نضيف تلك ونحصل على 4/15، وهذا سيكون نتيجة جديدة للسلطة. الآن دعونا ننتقل إلى B B واثنين من العقد تشير إلى ذلك، E و D. ولديهم درجة المحور القديمة من 2/15 و 4/15، والتي تضيف ما يصل إلى 6/15. ثم C لديه خمسة أشياء تشير إليها، العقد E، F، G، B، D، والتي لديها هذه النقاط محور القديمة التي أنا تسليط الضوء عليها هنا. ويضيفون ما يصل إلى 12/15، لذلك هذا هو النتيجة الجديدة للسلطة C. D واثنين من الأشياء التي تشير إلى ذلك مع درجة المحور القديمة من 1/15 و 4/14، والتي تضيف ما يصل إلى 1/3، وهلم جرا، أليس كذلك؟ يمكننا الاستمرار في القيام بذلك لجميع العقد الأخرى والعثور على جميع درجات السلطة الجديدة. الآن، دعونا نذهب ونحاول العثور على نقاط المحور الجديدة. لذا، بالنظر إلى A، مرة أخرى الآن، نحن لا ننظر إلى درجة، نحن لا ننظر إلى من يشير إلى ذلك، ولكن من يفعل نقطة إلى. والآن علينا أن نولي اهتماما لعشرات السلطة القديمة من تلك العقد. لذلك في هذه الحالة، يشير A إلى D، و D لديه درجة سلطة قديمة من 2/15، لذلك سيكون هذا هو النتيجة محور A الجديد. ثم بالنسبة لـ B فإنه يشير إلى E و D، ولديهم وللسلطات القديمة درجة 1/15 و 1/3، والتي تضيف ما يصل إلى 2/5، وهكذا ستكون النتيجة محور B الجديد. C يشير إلى A و A لديه درجة سلطة قديمة من 1/5، لذلك هذا هو درجة محور C الجديدة. يشير D إلى B و C، ولديهم درجة سلطة قديمة من 2/15 و 1/3، والتي تضيف ما يصل إلى 7/15، ومن ثم إلى ذلك. يمكننا الاستمرار في القيام بذلك لجميع العقد الأخرى والعثور على نقاط المحور الجديدة. المقبل لدينا لتطبيع. لذا علينا أن نضيف كل درجات السلطة في هذه الحالة، فإنها تضيف ما يصل إلى 35/15. لذلك علينا أن نقسم كل نقاط سلطة جديدة بنسبة 35/15. لذلك إذا فعلنا ذلك، هذه هي النتائج الطبيعية المحدثة. ونحن نفعل نفس الشيء للمراكز لذلك نضيف درجات المحور لجميع العقد، والتي تضيف ما يصل إلى 3 في هذه الحالة. ولذا علينا أن نقسم كل نقاط محور جديدة بنسبة 3، ومن ثم هذه هي الدرجات الطبيعية المحدثة. وهكذا هذه هي السلطة الجديدة النهائية والعشرات محور بعد اثنين من التكرارات من خوارزمية هيتس. لذا تمامًا كما هو الحال في PageRank، نتساءل عما يحدث للنتائج إذا استمررنا في تكرار الخوارزمية مرارًا وتكرارًا. هل سيتم تحويلها إلى قيمة فريدة؟ حسنا، دعونا نلقي نظرة. إذن هنا هي الدرجات التي قمنا بحسابها للتو لـ k يساوي 2، 2 التكرارات، هذه هي درجات السلطة. فما الذي يحدث عندما نذهب إلى 4 تكرارات؟ حسناً، هذا ما ستجده و 6 تكرارات، وهذا هو ما سوف تجد. ونفس الشيء بالنسبة لعشرات المحور. هذه هي الدرجات التي وجدناها حتى الآن مع تكرارين، ويمكننا معرفة ما هي عليه لـ 4 تكرارات و 6 تكرارات. لذلك ما تراه هنا هو أن بعض العقد هذه الدرجات لا تتغير، ولكن بالنسبة للآخرين أنها تتغير. لذلك أنا هنا تسليط الضوء على العقد التي استمرت السلطة أو نقاط المحور في التغيير بعد 6 تكرارات. على سبيل المثال، العقدة B هنا تبدأ مع درجة سلطة من .15. ثم بعد 4 تكرارات، فإنه يذهب إلى .18. ثم بعد 6 تكرارات، فإنه يذهب إلى .19. لذلك سوف تستمر هذه النتيجة بالنسبة لB في النمو أم أنها سوف تشبع في مرحلة ما، ماذا يمكن أن يحدث هنا؟ وحتى إذا واصلنا التكرار، وهنا أنا تظهر لكم ما يحدث للمركز والنتيجة السلطة من عقدة B. لذلك في هذه المؤامرة على محور س لدينا عدد من التكرارات، ومن ثم المحور ص لدينا السلطة ومحور عشرات للعقدة B. كما اتضح لمعظم الشبكات، كما يحصل k أكبر، فإن درجات السلطة والمحور تتلاقى بالفعل إلى قيمة فريدة من نوعها. وفي هذه الحالة، هذه قيمة فريدة تجدها حيث تصبح k أكبر وأكبر. وهكذا بالنسبة لهذه الشبكة، فإن العقد ذات أعلى درجة في السلطة هي B و C، والعقد ذات أعلى نقاط المحور هي D و E. وإذا كنت تتذكر الإعداد الأصلي للشبكة، B، C، و A، كانت هذه العقد الجذرية، أليس كذلك؟ تلك التي كان من المفترض أن تكون ذات صلة جدا، واتضح أن B و C لديهم أعلى درجات السلطة. ثم أكبر محاور، والعقد التي هي جيدة في الإشارة إلى العقد التي هي خاصة غير ذات صلة أو سلطات معينة، هي D و E. وإذا لاحظت كل من A و D تشير إلى B و C، فضلا عن العقد الأخرى. على وجه الخصوص، يشير D فقط إلى B و C، ويشير E إليهم أيضًا، وكذلك الآخرين. الآن، لحساب عشرات المحور وعشرات السلطة للشبكة باستخدام NetworkX، يمكنك استخدام نتائج الدالة وإعطائها الرسم البياني الذي تقوم بتحليله كإدخال. وسوف يضرب إخراج اثنين من القواميس، مفتاحًا بواسطة العقدة، التي تحتوي على نقاط المحور والسلطة لجميع العقد في تلك الشبكة. لذلك باختصار، نجد أن خوارزمية هيتس تبدأ من خلال إنشاء مجموعة الجذر من صفحات الويب ذات الصلة ومن ثم توسيعها إلى مجموعة أساسية باستخدام بنية الشبكة. ومن ثم ستقوم HITS بتعيين درجة مرجعية ونقاط مركز لكل عقدة في الشبكة. وهنا، يعتقد أن العقد التي لها حواف واردة من محاور جيدة سلطات جيدة، ومن ثم يعتقد أن العقد التي لها حواف صادرة للسلطات الجيدة تكون محاور جيدة. سوف تتلاقى درجات المرجع ونقاط المحور لمعظم الشبكات إلى قيمة فريدة. ويمكنك استخدام NetworkX للعثور على الدرجات باستخدام نتائج الدالة على أي شبكة تريد. وهذا كل شيء لهذا الفيديو، وسوف أراك في المرة القادمة.'}</td>\n",
              "    </tr>\n",
              "    <tr>\n",
              "      <th>3</th>\n",
              "      <td>{'en': 'yeah. so this is equal to q pi of s, a, okay.', 'ar': 'نعم.  إذن هذا يساوي Q pi لـ S ، a ، حسنًا.'}</td>\n",
              "    </tr>\n",
              "    <tr>\n",
              "      <th>4</th>\n",
              "      <td>{'en': 'my previous values to update my new values, right.', 'ar': 'إلى قيمي السابقة لتحديث قيمي الجديدة ، أليس كذلك.'}</td>\n",
              "    </tr>\n",
              "  </tbody>\n",
              "</table>"
            ],
            "text/plain": [
              "<IPython.core.display.HTML object>"
            ]
          },
          "metadata": {}
        }
      ]
    },
    {
      "cell_type": "code",
      "metadata": {
        "colab": {
          "base_uri": "https://localhost:8080/"
        },
        "id": "Iva8AgLgWCX_",
        "outputId": "a0c5f0e6-4403-46c2-f255-6909491dc499"
      },
      "source": [
        "metric"
      ],
      "execution_count": 63,
      "outputs": [
        {
          "output_type": "execute_result",
          "data": {
            "text/plain": [
              "Metric(name: \"sacrebleu\", features: {'predictions': Value(dtype='string', id='sequence'), 'references': Sequence(feature=Value(dtype='string', id='sequence'), length=-1, id='references')}, usage: \"\"\"\n",
              "Produces BLEU scores along with its sufficient statistics\n",
              "from a source against one or more references.\n",
              "\n",
              "Args:\n",
              "    predictions: The system stream (a sequence of segments).\n",
              "    references: A list of one or more reference streams (each a sequence of segments).\n",
              "    smooth_method: The smoothing method to use. (Default: 'exp').\n",
              "    smooth_value: The smoothing value. Only valid for 'floor' and 'add-k'. (Defaults: floor: 0.1, add-k: 1).\n",
              "    tokenize: Tokenization method to use for BLEU. If not provided, defaults to 'zh' for Chinese, 'ja-mecab' for\n",
              "        Japanese and '13a' (mteval) otherwise.\n",
              "    lowercase: Lowercase the data. If True, enables case-insensitivity. (Default: False).\n",
              "    force: Insist that your tokenized input is actually detokenized.\n",
              "\n",
              "Returns:\n",
              "    'score': BLEU score,\n",
              "    'counts': Counts,\n",
              "    'totals': Totals,\n",
              "    'precisions': Precisions,\n",
              "    'bp': Brevity penalty,\n",
              "    'sys_len': predictions length,\n",
              "    'ref_len': reference length,\n",
              "\n",
              "Examples:\n",
              "\n",
              "    >>> predictions = [\"hello there general kenobi\", \"foo bar foobar\"]\n",
              "    >>> references = [[\"hello there general kenobi\", \"hello there !\"], [\"foo bar foobar\", \"foo bar foobar\"]]\n",
              "    >>> sacrebleu = datasets.load_metric(\"sacrebleu\")\n",
              "    >>> results = sacrebleu.compute(predictions=predictions, references=references)\n",
              "    >>> print(list(results.keys()))\n",
              "    ['score', 'counts', 'totals', 'precisions', 'bp', 'sys_len', 'ref_len']\n",
              "    >>> print(round(results[\"score\"], 1))\n",
              "    100.0\n",
              "\"\"\", stored examples: 0)"
            ]
          },
          "metadata": {},
          "execution_count": 63
        }
      ]
    },
    {
      "cell_type": "markdown",
      "metadata": {
        "id": "Ll5l7_isWlxw"
      },
      "source": [
        "### Tokenization"
      ]
    },
    {
      "cell_type": "code",
      "metadata": {
        "id": "QcYvE_k_WhbC",
        "colab": {
          "base_uri": "https://localhost:8080/"
        },
        "outputId": "e3132d39-4862-43f0-d0d1-7221b86de50d"
      },
      "source": [
        "from transformers import AutoTokenizer\n",
        "    \n",
        "tokenizer = AutoTokenizer.from_pretrained(model_checkpoint)"
      ],
      "execution_count": 64,
      "outputs": [
        {
          "output_type": "stream",
          "name": "stderr",
          "text": [
            "loading configuration file https://huggingface.co/google/mt5-small/resolve/main/config.json from cache at /root/.cache/huggingface/transformers/97693496c1a0cae463bd18428187f9e9924d2dfbadaa46e4d468634a0fc95a41.dadce13f8f85f4825168354a04675d4b177749f8f11b167e87676777695d4fe4\n",
            "Model config MT5Config {\n",
            "  \"architectures\": [\n",
            "    \"MT5ForConditionalGeneration\"\n",
            "  ],\n",
            "  \"d_ff\": 1024,\n",
            "  \"d_kv\": 64,\n",
            "  \"d_model\": 512,\n",
            "  \"decoder_start_token_id\": 0,\n",
            "  \"dropout_rate\": 0.1,\n",
            "  \"eos_token_id\": 1,\n",
            "  \"feed_forward_proj\": \"gated-gelu\",\n",
            "  \"initializer_factor\": 1.0,\n",
            "  \"is_encoder_decoder\": true,\n",
            "  \"layer_norm_epsilon\": 1e-06,\n",
            "  \"model_type\": \"mt5\",\n",
            "  \"num_decoder_layers\": 8,\n",
            "  \"num_heads\": 6,\n",
            "  \"num_layers\": 8,\n",
            "  \"pad_token_id\": 0,\n",
            "  \"relative_attention_num_buckets\": 32,\n",
            "  \"tie_word_embeddings\": false,\n",
            "  \"tokenizer_class\": \"T5Tokenizer\",\n",
            "  \"transformers_version\": \"4.12.5\",\n",
            "  \"use_cache\": true,\n",
            "  \"vocab_size\": 250112\n",
            "}\n",
            "\n",
            "loading file https://huggingface.co/google/mt5-small/resolve/main/spiece.model from cache at /root/.cache/huggingface/transformers/37d0f67f084f8c5fc5589e0bba5ff3c6307af833bb0b7f4eb33fbfd8d4038a9d.84ea7af2df68dc8db434d3160aab65cce8ac63ce5b6f7743f8c9a4a14b4f77e2\n",
            "loading file https://huggingface.co/google/mt5-small/resolve/main/tokenizer.json from cache at None\n",
            "loading file https://huggingface.co/google/mt5-small/resolve/main/added_tokens.json from cache at None\n",
            "loading file https://huggingface.co/google/mt5-small/resolve/main/special_tokens_map.json from cache at /root/.cache/huggingface/transformers/685ac0ca8568ec593a48b61b0a3c272beee9bc194a3c7241d15dcadb5f875e53.f76030f3ec1b96a8199b2593390c610e76ca8028ef3d24680000619ffb646276\n",
            "loading file https://huggingface.co/google/mt5-small/resolve/main/tokenizer_config.json from cache at /root/.cache/huggingface/transformers/6a9e52d6dd21568e37b65fc180ada927968e8f7124f0acd6efcaf90cd2e0f4bb.4b81e5d952ad810ca1de2b3e362b9a26a5cc77b4b75daf20caf69fb838751c32\n",
            "loading configuration file https://huggingface.co/google/mt5-small/resolve/main/config.json from cache at /root/.cache/huggingface/transformers/97693496c1a0cae463bd18428187f9e9924d2dfbadaa46e4d468634a0fc95a41.dadce13f8f85f4825168354a04675d4b177749f8f11b167e87676777695d4fe4\n",
            "Model config MT5Config {\n",
            "  \"architectures\": [\n",
            "    \"MT5ForConditionalGeneration\"\n",
            "  ],\n",
            "  \"d_ff\": 1024,\n",
            "  \"d_kv\": 64,\n",
            "  \"d_model\": 512,\n",
            "  \"decoder_start_token_id\": 0,\n",
            "  \"dropout_rate\": 0.1,\n",
            "  \"eos_token_id\": 1,\n",
            "  \"feed_forward_proj\": \"gated-gelu\",\n",
            "  \"initializer_factor\": 1.0,\n",
            "  \"is_encoder_decoder\": true,\n",
            "  \"layer_norm_epsilon\": 1e-06,\n",
            "  \"model_type\": \"mt5\",\n",
            "  \"num_decoder_layers\": 8,\n",
            "  \"num_heads\": 6,\n",
            "  \"num_layers\": 8,\n",
            "  \"pad_token_id\": 0,\n",
            "  \"relative_attention_num_buckets\": 32,\n",
            "  \"tie_word_embeddings\": false,\n",
            "  \"tokenizer_class\": \"T5Tokenizer\",\n",
            "  \"transformers_version\": \"4.12.5\",\n",
            "  \"use_cache\": true,\n",
            "  \"vocab_size\": 250112\n",
            "}\n",
            "\n",
            "loading configuration file https://huggingface.co/google/mt5-small/resolve/main/config.json from cache at /root/.cache/huggingface/transformers/97693496c1a0cae463bd18428187f9e9924d2dfbadaa46e4d468634a0fc95a41.dadce13f8f85f4825168354a04675d4b177749f8f11b167e87676777695d4fe4\n",
            "Model config MT5Config {\n",
            "  \"architectures\": [\n",
            "    \"MT5ForConditionalGeneration\"\n",
            "  ],\n",
            "  \"d_ff\": 1024,\n",
            "  \"d_kv\": 64,\n",
            "  \"d_model\": 512,\n",
            "  \"decoder_start_token_id\": 0,\n",
            "  \"dropout_rate\": 0.1,\n",
            "  \"eos_token_id\": 1,\n",
            "  \"feed_forward_proj\": \"gated-gelu\",\n",
            "  \"initializer_factor\": 1.0,\n",
            "  \"is_encoder_decoder\": true,\n",
            "  \"layer_norm_epsilon\": 1e-06,\n",
            "  \"model_type\": \"mt5\",\n",
            "  \"num_decoder_layers\": 8,\n",
            "  \"num_heads\": 6,\n",
            "  \"num_layers\": 8,\n",
            "  \"pad_token_id\": 0,\n",
            "  \"relative_attention_num_buckets\": 32,\n",
            "  \"tie_word_embeddings\": false,\n",
            "  \"tokenizer_class\": \"T5Tokenizer\",\n",
            "  \"transformers_version\": \"4.12.5\",\n",
            "  \"use_cache\": true,\n",
            "  \"vocab_size\": 250112\n",
            "}\n",
            "\n"
          ]
        }
      ]
    },
    {
      "cell_type": "code",
      "metadata": {
        "id": "6YS1oigmY_36"
      },
      "source": [
        ""
      ],
      "execution_count": 64,
      "outputs": []
    },
    {
      "cell_type": "markdown",
      "metadata": {
        "id": "IDbVSMtZZAu-"
      },
      "source": [
        "To apply this function on all the pairs of sentences in our dataset, we just use the map method of our dataset object we created earlier. This will apply the function on all the elements of all the splits in dataset, so our training, validation and testing data will be preprocessed in one single command."
      ]
    },
    {
      "cell_type": "code",
      "metadata": {
        "colab": {
          "base_uri": "https://localhost:8080/",
          "height": 49,
          "referenced_widgets": [
            "0989fcb4e9894614a749075aec0be3fc",
            "e476d3966e6b469c8b4b03e2aea12521",
            "50b280cb20634f2aa11d06b0d98b9abd",
            "2fe22f2840fb4659a9b0102a74f814ca",
            "f048bb5d82fb4b468d0120ddcbc41563",
            "1d265697a7a34e2caa15ec70756b87b2",
            "b79d1eef721a44b99d9edf79f3785eeb",
            "3d8024e1bba2460e9af6e2b7868d7cbc",
            "c4e59198f29e47c18b17e04c9644848c",
            "9d18b7d32fb64a9d8875e87f1706a8f0",
            "918daacc0a12414a9d8c75ffb9f19f2c"
          ]
        },
        "id": "BujRE7YRWf66",
        "outputId": "0932ac76-527b-46d5-fd56-889844bfa818"
      },
      "source": [
        "tokenized_datasets = translation.map(preprocess_function, batched=True)"
      ],
      "execution_count": 68,
      "outputs": [
        {
          "output_type": "display_data",
          "data": {
            "application/vnd.jupyter.widget-view+json": {
              "model_id": "0989fcb4e9894614a749075aec0be3fc",
              "version_minor": 0,
              "version_major": 2
            },
            "text/plain": [
              "  0%|          | 0/14 [00:00<?, ?ba/s]"
            ]
          },
          "metadata": {}
        }
      ]
    },
    {
      "cell_type": "code",
      "metadata": {
        "colab": {
          "base_uri": "https://localhost:8080/",
          "height": 49,
          "referenced_widgets": [
            "1b4a5c924b8b47808a05314492b7d1ba",
            "891dd32a3dbc433080fea7a21d92e512",
            "c8b23407747944a2bc2fe53faacbf879",
            "38caad5aca944b6cadd741aa6c17f91e",
            "0825a01a4e17425b808b0ff25d345197",
            "7416a0b972f54148b4a1bd84bc0e9755",
            "020ee9ea07bc42e19c994cb2cf364aba",
            "21e4aec5e9444c1e9eba6bb575a0741e",
            "c2c563234dbb4ad6b0385d21d5813aac",
            "9da94d31185c4bf19662503044cb4859",
            "e4a69305e92144aaae95bdcd0c412ab0"
          ]
        },
        "id": "N-b3DBxFy5VV",
        "outputId": "21117ad8-1cd6-48ec-c7c2-c866385ed5e2"
      },
      "source": [
        "tokenized_datasets_val = translation_val.map(preprocess_function, batched=True)"
      ],
      "execution_count": 69,
      "outputs": [
        {
          "output_type": "display_data",
          "data": {
            "application/vnd.jupyter.widget-view+json": {
              "model_id": "1b4a5c924b8b47808a05314492b7d1ba",
              "version_minor": 0,
              "version_major": 2
            },
            "text/plain": [
              "  0%|          | 0/2 [00:00<?, ?ba/s]"
            ]
          },
          "metadata": {}
        }
      ]
    },
    {
      "cell_type": "markdown",
      "metadata": {
        "id": "9mRxzhmGZM5l"
      },
      "source": [
        "##Fine-tuning the model\n"
      ]
    },
    {
      "cell_type": "code",
      "metadata": {
        "colab": {
          "base_uri": "https://localhost:8080/"
        },
        "id": "PBeLVLVXZKrv",
        "outputId": "8918ae74-556f-4cf0-9424-01450de78665"
      },
      "source": [
        "from transformers import AutoModelForSeq2SeqLM, DataCollatorForSeq2Seq, Seq2SeqTrainingArguments, Seq2SeqTrainer\n",
        "\n",
        "model = AutoModelForSeq2SeqLM.from_pretrained(model_checkpoint)"
      ],
      "execution_count": 67,
      "outputs": [
        {
          "output_type": "stream",
          "name": "stderr",
          "text": [
            "loading configuration file https://huggingface.co/google/mt5-small/resolve/main/config.json from cache at /root/.cache/huggingface/transformers/97693496c1a0cae463bd18428187f9e9924d2dfbadaa46e4d468634a0fc95a41.dadce13f8f85f4825168354a04675d4b177749f8f11b167e87676777695d4fe4\n",
            "Model config MT5Config {\n",
            "  \"architectures\": [\n",
            "    \"MT5ForConditionalGeneration\"\n",
            "  ],\n",
            "  \"d_ff\": 1024,\n",
            "  \"d_kv\": 64,\n",
            "  \"d_model\": 512,\n",
            "  \"decoder_start_token_id\": 0,\n",
            "  \"dropout_rate\": 0.1,\n",
            "  \"eos_token_id\": 1,\n",
            "  \"feed_forward_proj\": \"gated-gelu\",\n",
            "  \"initializer_factor\": 1.0,\n",
            "  \"is_encoder_decoder\": true,\n",
            "  \"layer_norm_epsilon\": 1e-06,\n",
            "  \"model_type\": \"mt5\",\n",
            "  \"num_decoder_layers\": 8,\n",
            "  \"num_heads\": 6,\n",
            "  \"num_layers\": 8,\n",
            "  \"pad_token_id\": 0,\n",
            "  \"relative_attention_num_buckets\": 32,\n",
            "  \"tie_word_embeddings\": false,\n",
            "  \"tokenizer_class\": \"T5Tokenizer\",\n",
            "  \"transformers_version\": \"4.12.5\",\n",
            "  \"use_cache\": true,\n",
            "  \"vocab_size\": 250112\n",
            "}\n",
            "\n",
            "loading weights file https://huggingface.co/google/mt5-small/resolve/main/pytorch_model.bin from cache at /root/.cache/huggingface/transformers/8e7b2a80ddcb5611b27d8c89e1e8e33a947e105415051402a22b9c8d7d1caeb0.e22331f3a065b885b30ae3dd1ff11ccaf7fbc444485f6eb07ef5e0138bca8b70\n",
            "All model checkpoint weights were used when initializing MT5ForConditionalGeneration.\n",
            "\n",
            "All the weights of MT5ForConditionalGeneration were initialized from the model checkpoint at google/mt5-small.\n",
            "If your task is similar to the task the model of the checkpoint was trained on, you can already use MT5ForConditionalGeneration for predictions without further training.\n"
          ]
        }
      ]
    },
    {
      "cell_type": "code",
      "metadata": {
        "id": "XbnQOguMZLYI",
        "colab": {
          "base_uri": "https://localhost:8080/"
        },
        "outputId": "1abb1034-ee3a-4a0b-8bf3-08e482985832"
      },
      "source": [
        "batch_size = 4\n",
        "model_name = model_checkpoint.split(\"/\")[-1]\n",
        "args = Seq2SeqTrainingArguments(\n",
        "    f\"{model_name}-finetuned-{source_lang}-to-{target_lang}\",\n",
        "    evaluation_strategy = \"epoch\",\n",
        "    learning_rate=2e-5,\n",
        "    per_device_train_batch_size=batch_size,\n",
        "    per_device_eval_batch_size=batch_size,\n",
        "    weight_decay=0.01,\n",
        "    save_total_limit=3,\n",
        "    num_train_epochs=1,\n",
        "    predict_with_generate=True,\n",
        "    fp16=False, # to avoid nan error but this will make training much slower\n",
        "    # push_to_hub=True,\n",
        ")"
      ],
      "execution_count": 70,
      "outputs": [
        {
          "output_type": "stream",
          "name": "stderr",
          "text": [
            "PyTorch: setting up devices\n",
            "The default value for the training argument `--report_to` will change in v5 (from all installed integrations to none). In v5, you will need to use `--report_to all` to get the same behavior as now. You should start updating your code and make this info disappear :-).\n"
          ]
        }
      ]
    },
    {
      "cell_type": "code",
      "metadata": {
        "id": "b-wl_-k1ZcVK"
      },
      "source": [
        "data_collator = DataCollatorForSeq2Seq(tokenizer, model=model)"
      ],
      "execution_count": 71,
      "outputs": []
    },
    {
      "cell_type": "markdown",
      "metadata": {
        "id": "g3Kqwgx0qFfx"
      },
      "source": [
        "we have to do a bit of pre-processing to decode the predictions into texts:"
      ]
    },
    {
      "cell_type": "code",
      "metadata": {
        "id": "MI010WF2qKyg"
      },
      "source": [
        "import numpy as np\n",
        "\n",
        "def postprocess_text(preds, labels):\n",
        "    preds = [pred.strip() for pred in preds]\n",
        "    labels = [[label.strip()] for label in labels]\n",
        "\n",
        "    return preds, labels\n",
        "\n",
        "def compute_metrics(eval_preds):\n",
        "    preds, labels = eval_preds\n",
        "    if isinstance(preds, tuple):\n",
        "        preds = preds[0]\n",
        "    decoded_preds = tokenizer.batch_decode(preds, skip_special_tokens=True)\n",
        "\n",
        "    # Replace -100 in the labels as we can't decode them.\n",
        "    labels = np.where(labels != -100, labels, tokenizer.pad_token_id)\n",
        "    decoded_labels = tokenizer.batch_decode(labels, skip_special_tokens=True)\n",
        "\n",
        "    # Some simple post-processing\n",
        "    decoded_preds, decoded_labels = postprocess_text(decoded_preds, decoded_labels)\n",
        "\n",
        "    result = metric.compute(predictions=decoded_preds, references=decoded_labels)\n",
        "    result = {\"bleu\": result[\"score\"]}\n",
        "\n",
        "    prediction_lens = [np.count_nonzero(pred != tokenizer.pad_token_id) for pred in preds]\n",
        "    result[\"gen_len\"] = np.mean(prediction_lens)\n",
        "    result = {k: round(v, 4) for k, v in result.items()}\n",
        "    return result"
      ],
      "execution_count": 72,
      "outputs": []
    },
    {
      "cell_type": "code",
      "metadata": {
        "id": "RlYOb29pqUl5"
      },
      "source": [
        "trainer = Seq2SeqTrainer(\n",
        "    model,\n",
        "    args,\n",
        "    train_dataset=tokenized_datasets[\"train\"],\n",
        "    eval_dataset=tokenized_datasets_val[\"train\"], # this is validation, But I couldn't create a dataset that is composed of training and validation. \n",
        "    data_collator=data_collator,\n",
        "    tokenizer=tokenizer,\n",
        "    compute_metrics=compute_metrics\n",
        ")"
      ],
      "execution_count": 73,
      "outputs": []
    },
    {
      "cell_type": "code",
      "metadata": {
        "colab": {
          "base_uri": "https://localhost:8080/",
          "height": 1000
        },
        "id": "gd1deNO51o5C",
        "outputId": "8ce05107-9bac-41bf-c34e-4275d98f5a72"
      },
      "source": [
        "trainer.train()"
      ],
      "execution_count": 74,
      "outputs": [
        {
          "output_type": "stream",
          "name": "stderr",
          "text": [
            "The following columns in the training set  don't have a corresponding argument in `MT5ForConditionalGeneration.forward` and have been ignored: translation.\n",
            "***** Running training *****\n",
            "  Num examples = 13309\n",
            "  Num Epochs = 1\n",
            "  Instantaneous batch size per device = 4\n",
            "  Total train batch size (w. parallel, distributed & accumulation) = 4\n",
            "  Gradient Accumulation steps = 1\n",
            "  Total optimization steps = 3328\n"
          ]
        },
        {
          "output_type": "display_data",
          "data": {
            "text/html": [
              "\n",
              "    <div>\n",
              "      \n",
              "      <progress value='3328' max='3328' style='width:300px; height:20px; vertical-align: middle;'></progress>\n",
              "      [3328/3328 39:07, Epoch 1/1]\n",
              "    </div>\n",
              "    <table border=\"1\" class=\"dataframe\">\n",
              "  <thead>\n",
              "    <tr style=\"text-align: left;\">\n",
              "      <th>Epoch</th>\n",
              "      <th>Training Loss</th>\n",
              "      <th>Validation Loss</th>\n",
              "      <th>Bleu</th>\n",
              "      <th>Gen Len</th>\n",
              "    </tr>\n",
              "  </thead>\n",
              "  <tbody>\n",
              "    <tr>\n",
              "      <td>1</td>\n",
              "      <td>4.431600</td>\n",
              "      <td>2.914065</td>\n",
              "      <td>0.166300</td>\n",
              "      <td>10.897400</td>\n",
              "    </tr>\n",
              "  </tbody>\n",
              "</table><p>"
            ],
            "text/plain": [
              "<IPython.core.display.HTML object>"
            ]
          },
          "metadata": {}
        },
        {
          "output_type": "stream",
          "name": "stderr",
          "text": [
            "Saving model checkpoint to mt5-small-finetuned-en-to-ar/checkpoint-500\n",
            "Configuration saved in mt5-small-finetuned-en-to-ar/checkpoint-500/config.json\n",
            "Model weights saved in mt5-small-finetuned-en-to-ar/checkpoint-500/pytorch_model.bin\n",
            "tokenizer config file saved in mt5-small-finetuned-en-to-ar/checkpoint-500/tokenizer_config.json\n",
            "Special tokens file saved in mt5-small-finetuned-en-to-ar/checkpoint-500/special_tokens_map.json\n",
            "Copy vocab file to mt5-small-finetuned-en-to-ar/checkpoint-500/spiece.model\n",
            "Deleting older checkpoint [mt5-small-finetuned-en-to-ar/checkpoint-2000] due to args.save_total_limit\n",
            "Saving model checkpoint to mt5-small-finetuned-en-to-ar/checkpoint-1000\n",
            "Configuration saved in mt5-small-finetuned-en-to-ar/checkpoint-1000/config.json\n",
            "Model weights saved in mt5-small-finetuned-en-to-ar/checkpoint-1000/pytorch_model.bin\n",
            "tokenizer config file saved in mt5-small-finetuned-en-to-ar/checkpoint-1000/tokenizer_config.json\n",
            "Special tokens file saved in mt5-small-finetuned-en-to-ar/checkpoint-1000/special_tokens_map.json\n",
            "Copy vocab file to mt5-small-finetuned-en-to-ar/checkpoint-1000/spiece.model\n",
            "Deleting older checkpoint [mt5-small-finetuned-en-to-ar/checkpoint-2500] due to args.save_total_limit\n",
            "Saving model checkpoint to mt5-small-finetuned-en-to-ar/checkpoint-1500\n",
            "Configuration saved in mt5-small-finetuned-en-to-ar/checkpoint-1500/config.json\n",
            "Model weights saved in mt5-small-finetuned-en-to-ar/checkpoint-1500/pytorch_model.bin\n",
            "tokenizer config file saved in mt5-small-finetuned-en-to-ar/checkpoint-1500/tokenizer_config.json\n",
            "Special tokens file saved in mt5-small-finetuned-en-to-ar/checkpoint-1500/special_tokens_map.json\n",
            "Copy vocab file to mt5-small-finetuned-en-to-ar/checkpoint-1500/spiece.model\n",
            "Deleting older checkpoint [mt5-small-finetuned-en-to-ar/checkpoint-3000] due to args.save_total_limit\n",
            "Saving model checkpoint to mt5-small-finetuned-en-to-ar/checkpoint-2000\n",
            "Configuration saved in mt5-small-finetuned-en-to-ar/checkpoint-2000/config.json\n",
            "Model weights saved in mt5-small-finetuned-en-to-ar/checkpoint-2000/pytorch_model.bin\n",
            "tokenizer config file saved in mt5-small-finetuned-en-to-ar/checkpoint-2000/tokenizer_config.json\n",
            "Special tokens file saved in mt5-small-finetuned-en-to-ar/checkpoint-2000/special_tokens_map.json\n",
            "Copy vocab file to mt5-small-finetuned-en-to-ar/checkpoint-2000/spiece.model\n",
            "Deleting older checkpoint [mt5-small-finetuned-en-to-ar/checkpoint-500] due to args.save_total_limit\n",
            "Saving model checkpoint to mt5-small-finetuned-en-to-ar/checkpoint-2500\n",
            "Configuration saved in mt5-small-finetuned-en-to-ar/checkpoint-2500/config.json\n",
            "Model weights saved in mt5-small-finetuned-en-to-ar/checkpoint-2500/pytorch_model.bin\n",
            "tokenizer config file saved in mt5-small-finetuned-en-to-ar/checkpoint-2500/tokenizer_config.json\n",
            "Special tokens file saved in mt5-small-finetuned-en-to-ar/checkpoint-2500/special_tokens_map.json\n",
            "Copy vocab file to mt5-small-finetuned-en-to-ar/checkpoint-2500/spiece.model\n",
            "Deleting older checkpoint [mt5-small-finetuned-en-to-ar/checkpoint-1000] due to args.save_total_limit\n",
            "Saving model checkpoint to mt5-small-finetuned-en-to-ar/checkpoint-3000\n",
            "Configuration saved in mt5-small-finetuned-en-to-ar/checkpoint-3000/config.json\n",
            "Model weights saved in mt5-small-finetuned-en-to-ar/checkpoint-3000/pytorch_model.bin\n",
            "tokenizer config file saved in mt5-small-finetuned-en-to-ar/checkpoint-3000/tokenizer_config.json\n",
            "Special tokens file saved in mt5-small-finetuned-en-to-ar/checkpoint-3000/special_tokens_map.json\n",
            "Copy vocab file to mt5-small-finetuned-en-to-ar/checkpoint-3000/spiece.model\n",
            "Deleting older checkpoint [mt5-small-finetuned-en-to-ar/checkpoint-1500] due to args.save_total_limit\n",
            "The following columns in the evaluation set  don't have a corresponding argument in `MT5ForConditionalGeneration.forward` and have been ignored: translation.\n",
            "***** Running Evaluation *****\n",
            "  Num examples = 1676\n",
            "  Batch size = 4\n",
            "\n",
            "\n",
            "Training completed. Do not forget to share your model on huggingface.co/models =)\n",
            "\n",
            "\n"
          ]
        },
        {
          "output_type": "execute_result",
          "data": {
            "text/plain": [
              "TrainOutput(global_step=3328, training_loss=6.73314303618211, metrics={'train_runtime': 2347.8879, 'train_samples_per_second': 5.668, 'train_steps_per_second': 1.417, 'total_flos': 1181572768696320.0, 'train_loss': 6.73314303618211, 'epoch': 1.0})"
            ]
          },
          "metadata": {},
          "execution_count": 74
        }
      ]
    },
    {
      "cell_type": "code",
      "source": [
        ""
      ],
      "metadata": {
        "id": "rKHBpBtc76Al"
      },
      "execution_count": null,
      "outputs": []
    }
  ]
}