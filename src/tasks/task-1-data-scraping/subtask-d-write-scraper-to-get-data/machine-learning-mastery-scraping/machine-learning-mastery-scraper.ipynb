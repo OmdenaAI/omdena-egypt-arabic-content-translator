{
 "cells": [
  {
   "cell_type": "code",
   "execution_count": null,
   "id": "b989775f",
   "metadata": {},
   "outputs": [],
   "source": [
    "import requests\n",
    "import pandas as pd\n",
    "import requests\n",
    "from bs4 import BeautifulSoup\n",
    "from tqdm.notebook import tqdm\n",
    "from newspaper import Article"
   ]
  },
  {
   "cell_type": "code",
   "execution_count": null,
   "id": "5be55ed7",
   "metadata": {},
   "outputs": [],
   "source": [
    "headers = {'User-Agent': 'Mozilla/5.0 (Macintosh; Intel Mac OS X 10_11_5) AppleWebKit/537.36 (KHTML, like Gecko) Chrome/50.0.2661.102 Safari/537.36'}"
   ]
  },
  {
   "cell_type": "code",
   "execution_count": null,
   "id": "ae3b0b80",
   "metadata": {},
   "outputs": [],
   "source": [
    "links = []\n",
    "def get_links(no_of_pages : int) -> list[str]:\n",
    "    '''scrape article links from machine learning mastery blog'''\n",
    "    for i in tqdm(range(no_of_pages)):\n",
    "        url = f'https://machinelearningmastery.com/blog/page/{i+1}'\n",
    "        r_page = requests.get(url, headers=headers)\n",
    "        soup = BeautifulSoup(r_page.content, 'lxml')\n",
    "        articles = soup.find_all('article')\n",
    "        links.extend([article.find('a')['href'] for article in articles if article.find('a')])\n",
    "    return links"
   ]
  },
  {
   "cell_type": "code",
   "execution_count": null,
   "id": "ad5321af",
   "metadata": {},
   "outputs": [],
   "source": [
    "  for i in tqdm(range(no_of_pages)):\n",
    "        url = f'https://machinelearningmastery.com/blog/page/{i+1}'\n",
    "        r_page = requests.get(url, headers=headers)\n",
    "        soup = BeautifulSoup(r_page.content, 'lxml')\n",
    "        articles = soup.find_all('article')\n",
    "        links.extend([article.find('a')['href'] for article in articles if article.find('a')])\n",
    "    return links"
   ]
  },
  {
   "cell_type": "code",
   "execution_count": null,
   "id": "3184cb9e",
   "metadata": {},
   "outputs": [],
   "source": [
    "articles_links = get_links(155)"
   ]
  },
  {
   "cell_type": "code",
   "execution_count": null,
   "id": "3f98b1ef",
   "metadata": {},
   "outputs": [],
   "source": [
    "def get_article_data(article_links: list[str]) -> tuple[list[str], list[str], list[str], list[str], list[str]]:\n",
    "    '''extract data from the article'''\n",
    "    text, keywords, summary, title, published_date = [], [], [], [], []\n",
    "    \n",
    "    for link in tqdm(article_links):\n",
    "        article = Article(link, language='en')\n",
    "        article.download()\n",
    "        article.parse()\n",
    "        article.nlp()\n",
    "\n",
    "        text.append(article.text)\n",
    "        summary.append(article.summary)\n",
    "        keywords.append(article.keywords)\n",
    "        title.append(article.title)\n",
    "        published_date.append(article.publish_date)\n",
    "\n",
    "    return text, summary, keywords, title, published_date\n",
    "\n",
    "\n"
   ]
  },
  {
   "cell_type": "code",
   "execution_count": null,
   "id": "bf600c8c",
   "metadata": {},
   "outputs": [],
   "source": [
    "\n",
    "text, summary, keywords, title, published_date = get_article_data(\n",
    "    articles_links)"
   ]
  },
  {
   "cell_type": "code",
   "execution_count": null,
   "id": "3b66b9ef",
   "metadata": {},
   "outputs": [],
   "source": [
    "articles = pd.DataFrame({\n",
    "    'text' : text,\n",
    "    'summary' : summary,\n",
    "    'keywords' : keywords,\n",
    "    'title' : title,\n",
    "    'published date': published_date,\n",
    "    'article link' : articles_links\n",
    "})\n",
    "articles.to_csv('machine-mastery-articles.csv', index=False, encoding='utf-8')"
   ]
  },
  {
   "cell_type": "code",
   "execution_count": null,
   "id": "58239ef0",
   "metadata": {},
   "outputs": [],
   "source": []
  }
 ],
 "metadata": {
  "kernelspec": {
   "display_name": "Python 3 (ipykernel)",
   "language": "python",
   "name": "python3"
  },
  "language_info": {
   "codemirror_mode": {
    "name": "ipython",
    "version": 3
   },
   "file_extension": ".py",
   "mimetype": "text/x-python",
   "name": "python",
   "nbconvert_exporter": "python",
   "pygments_lexer": "ipython3",
   "version": "3.9.7"
  }
 },
 "nbformat": 4,
 "nbformat_minor": 5
}
